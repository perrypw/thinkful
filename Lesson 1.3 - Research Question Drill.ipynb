{
 "cells": [
  {
   "cell_type": "markdown",
   "metadata": {},
   "source": [
    "### Research Questions Drill\n",
    "\n",
    "##### What is the 1994 rate of juvenile delinquency in the U.S.?\n",
    "This is a fair question, but it is more to do with description than understanding. \n",
    "##### What can we do to reduce juvenile delinquency in the U.S.?\n",
    "This is potentially a good question, but is likely too broad. Crime is intricately intertwined with various social dynamics, making this a potentially difficult question to answer with one model or even one analysis. \n",
    "##### Does education play a role in reducing juvenile delinquents' return to crime?\n",
    "Bad, a bit too vague. Does high school completion decrease likelihood of a return to crime?\n",
    "##### How many customers does AT&T currently serve in Washington, DC?\n",
    "Good question, but like question 1 is more descriptive vs. aiming to understand the forces driving AT&T subscription.\n",
    "##### What factors lead consumers to choose AT&T over other service providers?\n",
    "Good question, but may want to be more specific about which variables you want to look at.\n",
    "##### How can AT&T attract more customers?\n",
    "Bad - too general. Focus on one or a few variables and whether or not they impact customer attraction.\n",
    "##### Why did the Challenger Shuttle explode?\n",
    "Bad - too general. Better would be: did the breakdown in the fuel system cause the Challenger Shuttle to explode (just an example)?\n",
    "##### Which genes are associated with increased risk of breast cancer?\n",
    "Good.\n",
    "##### Is it better to read to children at night or in the morning?\n",
    "Good.\n",
    "##### How does Google’s search algorithm work?\n",
    "Bad - too general and vague. Better would be what are the key variables in determing search returns in Google's algorithm?"
   ]
  }
 ],
 "metadata": {
  "kernelspec": {
   "display_name": "Python 3",
   "language": "python",
   "name": "python3"
  },
  "language_info": {
   "codemirror_mode": {
    "name": "ipython",
    "version": 3
   },
   "file_extension": ".py",
   "mimetype": "text/x-python",
   "name": "python",
   "nbconvert_exporter": "python",
   "pygments_lexer": "ipython3",
   "version": "3.6.3"
  }
 },
 "nbformat": 4,
 "nbformat_minor": 2
}
