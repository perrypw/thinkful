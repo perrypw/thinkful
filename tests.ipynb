{
 "cells": [
  {
   "cell_type": "code",
   "execution_count": 12,
   "metadata": {},
   "outputs": [
    {
     "data": {
      "text/html": [
       "<div>\n",
       "<style scoped>\n",
       "    .dataframe tbody tr th:only-of-type {\n",
       "        vertical-align: middle;\n",
       "    }\n",
       "\n",
       "    .dataframe tbody tr th {\n",
       "        vertical-align: top;\n",
       "    }\n",
       "\n",
       "    .dataframe thead th {\n",
       "        text-align: right;\n",
       "    }\n",
       "</style>\n",
       "<table border=\"1\" class=\"dataframe\">\n",
       "  <thead>\n",
       "    <tr style=\"text-align: right;\">\n",
       "      <th></th>\n",
       "      <th>cntry</th>\n",
       "      <th>idno</th>\n",
       "      <th>year</th>\n",
       "      <th>tvtot</th>\n",
       "      <th>ppltrst</th>\n",
       "      <th>pplfair</th>\n",
       "      <th>pplhlp</th>\n",
       "      <th>happy</th>\n",
       "      <th>sclmeet</th>\n",
       "      <th>sclact</th>\n",
       "      <th>gndr</th>\n",
       "      <th>agea</th>\n",
       "      <th>partner</th>\n",
       "    </tr>\n",
       "  </thead>\n",
       "  <tbody>\n",
       "    <tr>\n",
       "      <th>0</th>\n",
       "      <td>CH</td>\n",
       "      <td>5.0</td>\n",
       "      <td>2012</td>\n",
       "      <td>3.0</td>\n",
       "      <td>3.0</td>\n",
       "      <td>10.0</td>\n",
       "      <td>5.0</td>\n",
       "      <td>8.0</td>\n",
       "      <td>5.0</td>\n",
       "      <td>4.0</td>\n",
       "      <td>2.0</td>\n",
       "      <td>60.0</td>\n",
       "      <td>1.0</td>\n",
       "    </tr>\n",
       "    <tr>\n",
       "      <th>1</th>\n",
       "      <td>CH</td>\n",
       "      <td>25.0</td>\n",
       "      <td>2012</td>\n",
       "      <td>6.0</td>\n",
       "      <td>5.0</td>\n",
       "      <td>7.0</td>\n",
       "      <td>5.0</td>\n",
       "      <td>9.0</td>\n",
       "      <td>3.0</td>\n",
       "      <td>2.0</td>\n",
       "      <td>2.0</td>\n",
       "      <td>59.0</td>\n",
       "      <td>1.0</td>\n",
       "    </tr>\n",
       "    <tr>\n",
       "      <th>2</th>\n",
       "      <td>CH</td>\n",
       "      <td>26.0</td>\n",
       "      <td>2012</td>\n",
       "      <td>1.0</td>\n",
       "      <td>8.0</td>\n",
       "      <td>8.0</td>\n",
       "      <td>8.0</td>\n",
       "      <td>7.0</td>\n",
       "      <td>6.0</td>\n",
       "      <td>3.0</td>\n",
       "      <td>1.0</td>\n",
       "      <td>24.0</td>\n",
       "      <td>2.0</td>\n",
       "    </tr>\n",
       "    <tr>\n",
       "      <th>3</th>\n",
       "      <td>CH</td>\n",
       "      <td>28.0</td>\n",
       "      <td>2012</td>\n",
       "      <td>4.0</td>\n",
       "      <td>6.0</td>\n",
       "      <td>6.0</td>\n",
       "      <td>7.0</td>\n",
       "      <td>10.0</td>\n",
       "      <td>6.0</td>\n",
       "      <td>2.0</td>\n",
       "      <td>2.0</td>\n",
       "      <td>64.0</td>\n",
       "      <td>1.0</td>\n",
       "    </tr>\n",
       "    <tr>\n",
       "      <th>4</th>\n",
       "      <td>CH</td>\n",
       "      <td>29.0</td>\n",
       "      <td>2012</td>\n",
       "      <td>5.0</td>\n",
       "      <td>6.0</td>\n",
       "      <td>7.0</td>\n",
       "      <td>5.0</td>\n",
       "      <td>8.0</td>\n",
       "      <td>7.0</td>\n",
       "      <td>2.0</td>\n",
       "      <td>2.0</td>\n",
       "      <td>55.0</td>\n",
       "      <td>1.0</td>\n",
       "    </tr>\n",
       "  </tbody>\n",
       "</table>\n",
       "</div>"
      ],
      "text/plain": [
       "  cntry  idno  year  tvtot  ppltrst  pplfair  pplhlp  happy  sclmeet  sclact  \\\n",
       "0    CH   5.0  2012    3.0      3.0     10.0     5.0    8.0      5.0     4.0   \n",
       "1    CH  25.0  2012    6.0      5.0      7.0     5.0    9.0      3.0     2.0   \n",
       "2    CH  26.0  2012    1.0      8.0      8.0     8.0    7.0      6.0     3.0   \n",
       "3    CH  28.0  2012    4.0      6.0      6.0     7.0   10.0      6.0     2.0   \n",
       "4    CH  29.0  2012    5.0      6.0      7.0     5.0    8.0      7.0     2.0   \n",
       "\n",
       "   gndr  agea  partner  \n",
       "0   2.0  60.0      1.0  \n",
       "1   2.0  59.0      1.0  \n",
       "2   1.0  24.0      2.0  \n",
       "3   2.0  64.0      1.0  \n",
       "4   2.0  55.0      1.0  "
      ]
     },
     "execution_count": 12,
     "metadata": {},
     "output_type": "execute_result"
    }
   ],
   "source": [
    "import numpy as np\n",
    "import pandas as pd\n",
    "import matplotlib.pyplot as plt\n",
    "import seaborn as sns\n",
    "from scipy import stats\n",
    "\n",
    "survey = pd.read_csv('https://raw.githubusercontent.com/Thinkful-Ed/data-201-resources/master/ESS_practice_data/ESSdata_Thinkful.csv')\n",
    "\n",
    "# Making the year column a tad more interpretable\n",
    "survey['year'] = np.where(survey['year'] == 6, 2012, 2014)\n",
    "\n",
    "survey.head()"
   ]
  },
  {
   "cell_type": "code",
   "execution_count": 13,
   "metadata": {},
   "outputs": [
    {
     "data": {
      "text/html": [
       "<div>\n",
       "<style scoped>\n",
       "    .dataframe tbody tr th:only-of-type {\n",
       "        vertical-align: middle;\n",
       "    }\n",
       "\n",
       "    .dataframe tbody tr th {\n",
       "        vertical-align: top;\n",
       "    }\n",
       "\n",
       "    .dataframe thead th {\n",
       "        text-align: right;\n",
       "    }\n",
       "</style>\n",
       "<table border=\"1\" class=\"dataframe\">\n",
       "  <thead>\n",
       "    <tr style=\"text-align: right;\">\n",
       "      <th></th>\n",
       "      <th>cntry</th>\n",
       "      <th>idno</th>\n",
       "      <th>year</th>\n",
       "      <th>tvtot</th>\n",
       "      <th>ppltrst</th>\n",
       "      <th>pplfair</th>\n",
       "      <th>pplhlp</th>\n",
       "      <th>happy</th>\n",
       "      <th>sclmeet</th>\n",
       "      <th>sclact</th>\n",
       "      <th>gndr</th>\n",
       "      <th>agea</th>\n",
       "      <th>partner</th>\n",
       "    </tr>\n",
       "  </thead>\n",
       "  <tbody>\n",
       "    <tr>\n",
       "      <th>29</th>\n",
       "      <td>CH</td>\n",
       "      <td>133.0</td>\n",
       "      <td>2012</td>\n",
       "      <td>7.0</td>\n",
       "      <td>8.0</td>\n",
       "      <td>5.0</td>\n",
       "      <td>5.0</td>\n",
       "      <td>8.0</td>\n",
       "      <td>5.0</td>\n",
       "      <td>3.0</td>\n",
       "      <td>2.0</td>\n",
       "      <td>54.0</td>\n",
       "      <td>1.0</td>\n",
       "    </tr>\n",
       "    <tr>\n",
       "      <th>802</th>\n",
       "      <td>CH</td>\n",
       "      <td>133.0</td>\n",
       "      <td>2014</td>\n",
       "      <td>4.0</td>\n",
       "      <td>6.0</td>\n",
       "      <td>6.0</td>\n",
       "      <td>7.0</td>\n",
       "      <td>7.0</td>\n",
       "      <td>7.0</td>\n",
       "      <td>2.0</td>\n",
       "      <td>1.0</td>\n",
       "      <td>63.0</td>\n",
       "      <td>1.0</td>\n",
       "    </tr>\n",
       "  </tbody>\n",
       "</table>\n",
       "</div>"
      ],
      "text/plain": [
       "    cntry   idno  year  tvtot  ppltrst  pplfair  pplhlp  happy  sclmeet  \\\n",
       "29     CH  133.0  2012    7.0      8.0      5.0     5.0    8.0      5.0   \n",
       "802    CH  133.0  2014    4.0      6.0      6.0     7.0    7.0      7.0   \n",
       "\n",
       "     sclact  gndr  agea  partner  \n",
       "29      3.0   2.0  54.0      1.0  \n",
       "802     2.0   1.0  63.0      1.0  "
      ]
     },
     "execution_count": 13,
     "metadata": {},
     "output_type": "execute_result"
    }
   ],
   "source": [
    "survey[survey['idno'] ==133]"
   ]
  },
  {
   "cell_type": "markdown",
   "metadata": {},
   "source": [
    "### Question 1 - Did people become less trusting from 2012 to 2014? Compute results for each country in the sample.\n",
    "Let's first see how this variable is distributed in general to see if we can use parametric tests."
   ]
  },
  {
   "cell_type": "code",
   "execution_count": 110,
   "metadata": {
    "scrolled": true
   },
   "outputs": [
    {
     "data": {
      "image/png": "[encoded data removed]",
      "text/plain": [
       "<matplotlib.figure.Figure at 0xc7bef98>"
      ]
     },
     "metadata": {},
     "output_type": "display_data"
    },
    {
     "data": {
      "image/png": "[encoded data removed]",
      "text/plain": [
       "<matplotlib.figure.Figure at 0x101c6710>"
      ]
     },
     "metadata": {},
     "output_type": "display_data"
    },
    {
     "data": {
      "image/png": "[encoded data removed]",
      "text/plain": [
       "<matplotlib.figure.Figure at 0x101ef630>"
      ]
     },
     "metadata": {},
     "output_type": "display_data"
    },
    {
     "data": {
      "image/png": "[encoded data removed]",
      "text/plain": [
       "<matplotlib.figure.Figure at 0x101df780>"
      ]
     },
     "metadata": {},
     "output_type": "display_data"
    },
    {
     "data": {
      "image/png": "[encoded data removed]",
      "text/plain": [
       "<matplotlib.figure.Figure at 0x102a8588>"
      ]
     },
     "metadata": {},
     "output_type": "display_data"
    },
    {
     "data": {
      "image/png": "[encoded data removed]",
      "text/plain": [
       "<matplotlib.figure.Figure at 0x1025e630>"
      ]
     },
     "metadata": {},
     "output_type": "display_data"
    }
   ],
   "source": [
    "no_null = survey.dropna()\n",
    "\n",
    "for country in no_null['cntry'].unique():\n",
    "    plt.hist(no_null[no_null['cntry'] == country]['ppltrst'].values,align='left')\n",
    "    plt.show()"
   ]
  },
  {
   "cell_type": "markdown",
   "metadata": {},
   "source": [
    "While the distributions are not perfectly normal, they are close enough for it to be valid to use parametric tests to evaluate the research question at hand. When trying to answer this question for each country, we're dealing with paired samples -- those in each country when asked the question in 2012, and those same people when asked in 2014. Thus, it is appropriate to use the paired t-test from scipy. This also has the advantage of dealing with missing data we may have in one year but not the other."
   ]
  },
  {
   "cell_type": "code",
   "execution_count": 65,
   "metadata": {},
   "outputs": [
    {
     "name": "stdout",
     "output_type": "stream",
     "text": [
      "CH Results:\n",
      "Ttest_relResult(statistic=-0.65868517567257368, pvalue=0.51029435113011345)\n",
      "CZ Results:\n",
      "Ttest_relResult(statistic=-0.50016383368872164, pvalue=0.61712926824047398)\n",
      "DE Results:\n",
      "Ttest_relResult(statistic=-0.18399501804849683, pvalue=0.85685637970958051)\n",
      "ES Results:\n",
      "Ttest_relResult(statistic=2.4561906976601646, pvalue=0.014181580725320272)\n",
      "NO Results:\n",
      "Ttest_relResult(statistic=0.50730770811244041, pvalue=0.61209257015176999)\n",
      "SE Results:\n",
      "Ttest_relResult(statistic=-2.0671082026033982, pvalue=0.039007816709585447)\n"
     ]
    }
   ],
   "source": [
    "for country in survey['cntry'].unique():\n",
    "    print('{} Results:'.format(country))\n",
    "    cntry = survey[survey['cntry'] == country]\n",
    "    cntry_2012 = cntry[cntry['year'] == 2012]['ppltrst']\n",
    "    cntry_2014 = cntry[cntry['year'] == 2014]['ppltrst']\n",
    "    print(stats.ttest_rel(cntry_2012,cntry_2014,nan_policy='omit'))"
   ]
  },
  {
   "cell_type": "markdown",
   "metadata": {},
   "source": [
    "Only in two countries, Spain and Sweden, was there a statistically significant change in trust of others. Let's see what direction that occurred in."
   ]
  },
  {
   "cell_type": "code",
   "execution_count": 94,
   "metadata": {},
   "outputs": [
    {
     "data": {
      "image/png": "[encoded data removed]",
      "text/plain": [
       "<matplotlib.figure.Figure at 0x9e67a1d0>"
      ]
     },
     "metadata": {},
     "output_type": "display_data"
    },
    {
     "data": {
      "image/png": "[encoded data removed]",
      "text/plain": [
       "<matplotlib.figure.Figure at 0xc3918d0>"
      ]
     },
     "metadata": {},
     "output_type": "display_data"
    }
   ],
   "source": [
    "for country in ['ES','SE']:\n",
    "    cntry = survey[survey['cntry'] == country]\n",
    "    plt.figure()\n",
    "    plt.title(country)\n",
    "    sns.barplot(cntry.groupby('year').mean()['ppltrst'].index,cntry.groupby('year').mean()['ppltrst'].values)\n",
    "    plt.show()"
   ]
  },
  {
   "cell_type": "markdown",
   "metadata": {},
   "source": [
    "Spain's people trust went down, while Sweden's went up. Interesting!"
   ]
  },
  {
   "cell_type": "markdown",
   "metadata": {},
   "source": [
    "### Question 2 - Did people become happier from 2012 to 2014? Compute results for each country in the sample.\n",
    "Let's go about this in the same manner as the first question, by beginning with identifying whether the variables at hand are normal(ish)."
   ]
  },
  {
   "cell_type": "code",
   "execution_count": 111,
   "metadata": {
    "scrolled": true
   },
   "outputs": [
    {
     "data": {
      "image/png": "[encoded data removed]",
      "text/plain": [
       "<matplotlib.figure.Figure at 0xe1cf828>"
      ]
     },
     "metadata": {},
     "output_type": "display_data"
    },
    {
     "data": {
      "image/png": "[encoded data removed]",
      "text/plain": [
       "<matplotlib.figure.Figure at 0x10440780>"
      ]
     },
     "metadata": {},
     "output_type": "display_data"
    },
    {
     "data": {
      "image/png": "[encoded data removed]",
      "text/plain": [
       "<matplotlib.figure.Figure at 0x1049af60>"
      ]
     },
     "metadata": {},
     "output_type": "display_data"
    },
    {
     "data": {
      "image/png": "[encoded data removed]",
      "text/plain": [
       "<matplotlib.figure.Figure at 0x10319c50>"
      ]
     },
     "metadata": {},
     "output_type": "display_data"
    },
    {
     "data": {
      "image/png": "[encoded data removed]",
      "text/plain": [
       "<matplotlib.figure.Figure at 0x10523ac8>"
      ]
     },
     "metadata": {},
     "output_type": "display_data"
    },
    {
     "data": {
      "image/png": "[encoded data removed]",
      "text/plain": [
       "<matplotlib.figure.Figure at 0x32581080>"
      ]
     },
     "metadata": {},
     "output_type": "display_data"
    }
   ],
   "source": [
    "for country in no_null['cntry'].unique():\n",
    "    plt.hist(no_null[no_null['cntry'] == country]['happy'].values,align='left')\n",
    "    plt.show()"
   ]
  },
  {
   "cell_type": "code",
   "execution_count": 109,
   "metadata": {},
   "outputs": [
    {
     "data": {
      "image/png": "[encoded data removed]",
      "text/plain": [
       "<matplotlib.figure.Figure at 0xc526eb8>"
      ]
     },
     "metadata": {},
     "output_type": "display_data"
    }
   ],
   "source": [
    "sns.distplot(no_null['happy'])\n",
    "plt.show()"
   ]
  },
  {
   "cell_type": "markdown",
   "metadata": {},
   "source": [
    "These are a little less well aligned on a country by country basis, but the variable overall still shows a pretty normal distribution. As such, I think it is valid to use the same method that we used for trust."
   ]
  },
  {
   "cell_type": "code",
   "execution_count": 112,
   "metadata": {
    "scrolled": true
   },
   "outputs": [
    {
     "name": "stdout",
     "output_type": "stream",
     "text": [
      "CH Results:\n",
      "Ttest_relResult(statistic=-0.31941295786223201, pvalue=0.74950013554290629)\n",
      "CZ Results:\n",
      "Ttest_relResult(statistic=-1.4561384833039597, pvalue=0.14584548433894509)\n",
      "DE Results:\n",
      "Ttest_relResult(statistic=-0.80622577482985491, pvalue=0.43461387077349911)\n",
      "ES Results:\n",
      "Ttest_relResult(statistic=1.613832417735418, pvalue=0.10682451556479494)\n",
      "NO Results:\n",
      "Ttest_relResult(statistic=4.2856826576235925, pvalue=2.067453013405473e-05)\n",
      "SE Results:\n",
      "Ttest_relResult(statistic=-0.55816370860300124, pvalue=0.57687095912337139)\n"
     ]
    }
   ],
   "source": [
    "for country in survey['cntry'].unique():\n",
    "    print('{} Results:'.format(country))\n",
    "    cntry = survey[survey['cntry'] == country]\n",
    "    cntry_2012 = cntry[cntry['year'] == 2012]['happy']\n",
    "    cntry_2014 = cntry[cntry['year'] == 2014]['happy']\n",
    "    print(stats.ttest_rel(cntry_2012,cntry_2014,nan_policy='omit'))"
   ]
  },
  {
   "cell_type": "code",
   "execution_count": 114,
   "metadata": {},
   "outputs": [
    {
     "data": {
      "text/plain": [
       "year\n",
       "2012    8.251719\n",
       "2014    7.915185\n",
       "Name: happy, dtype: float64"
      ]
     },
     "execution_count": 114,
     "metadata": {},
     "output_type": "execute_result"
    }
   ],
   "source": [
    "survey[survey['cntry'] == 'NO'].groupby('year').mean()['happy']"
   ]
  },
  {
   "cell_type": "code",
   "execution_count": 114,
   "metadata": {},
   "outputs": [
    {
     "data": {
      "text/plain": [
       "year\n",
       "2012    8.251719\n",
       "2014    7.915185\n",
       "Name: happy, dtype: float64"
      ]
     },
     "execution_count": 114,
     "metadata": {},
     "output_type": "execute_result"
    }
   ],
   "source": [
    "survey[survey['cntry'] == 'NO'].groupby('year').mean()['happy']"
   ]
  },
  {
   "cell_type": "markdown",
   "metadata": {},
   "source": [
    "Only in one country, Norway, does there seem to be a noticeable effect. In Norway, happiness has actually decreased. So I think it's pretty fair to say that happiness has not increased over this time period!"
   ]
  },
  {
   "cell_type": "markdown",
   "metadata": {},
   "source": [
    "### Question 3 - Who reported watching more TV in 2012, men or women?\n",
    "Let's first subset our df to the chosen year and see if the variable is normally distributed."
   ]
  },
  {
   "cell_type": "code",
   "execution_count": 118,
   "metadata": {},
   "outputs": [
    {
     "data": {
      "image/png": "[encoded data removed]",
      "text/plain": [
       "<matplotlib.figure.Figure at 0xe4547f0>"
      ]
     },
     "metadata": {},
     "output_type": "display_data"
    }
   ],
   "source": [
    "yr_2012 = survey[survey['year'] == 2012].dropna()\n",
    "sns.distplot(yr_2012['tvtot'])\n",
    "plt.show()"
   ]
  },
  {
   "cell_type": "markdown",
   "metadata": {},
   "source": [
    "This doesn't look so normal. Let's just follow this up with a Shapiro-Wilk test to see just how non-normal this distribution is."
   ]
  },
  {
   "cell_type": "code",
   "execution_count": 119,
   "metadata": {},
   "outputs": [
    {
     "data": {
      "text/plain": [
       "(0.9427680969238281, 4.35002369366526e-37)"
      ]
     },
     "execution_count": 119,
     "metadata": {},
     "output_type": "execute_result"
    }
   ],
   "source": [
    "stats.shapiro(yr_2012['tvtot'])"
   ]
  },
  {
   "cell_type": "markdown",
   "metadata": {},
   "source": [
    "Since we have an exceptionally low p-value here, that means we can *reject* the null hypothesis that this is actually a normal distribution. In other words, we're correct in thinking it's not very normal and should use a non-parametric test to answer our research question. Let's use the Mann-Whitney test, which is ideal for comparing two samples."
   ]
  },
  {
   "cell_type": "code",
   "execution_count": 124,
   "metadata": {
    "scrolled": true
   },
   "outputs": [
    {
     "data": {
      "text/plain": [
       "2053"
      ]
     },
     "execution_count": 124,
     "metadata": {},
     "output_type": "execute_result"
    }
   ],
   "source": [
    "men_2012 = yr_2012[yr_2012['gndr'] == 1].dropna()\n",
    "women_2012 = yr_2012[yr_2012['gndr'] == 2].dropna()\n",
    "len(men_2012)"
   ]
  },
  {
   "cell_type": "code",
   "execution_count": 128,
   "metadata": {},
   "outputs": [
    {
     "data": {
      "text/plain": [
       "MannwhitneyuResult(statistic=2042391.5, pvalue=0.21654019333228419)"
      ]
     },
     "execution_count": 128,
     "metadata": {},
     "output_type": "execute_result"
    }
   ],
   "source": [
    "stats.mannwhitneyu(men_2012['tvtot'],women_2012['tvtot'])"
   ]
  },
  {
   "cell_type": "markdown",
   "metadata": {},
   "source": [
    "We can't conclude that there is a statistically significant difference in TV watching between men and women in this year."
   ]
  },
  {
   "cell_type": "markdown",
   "metadata": {},
   "source": [
    "### Question 4 - Who was more likely to believe people were fair in 2012, people living with a partner or people living alone?\n",
    "Again, let's determine the normality of the distribution of the variable in question."
   ]
  },
  {
   "cell_type": "code",
   "execution_count": 130,
   "metadata": {
    "scrolled": true
   },
   "outputs": [
    {
     "data": {
      "image/png": "[encoded data removed]",
      "text/plain": [
       "<matplotlib.figure.Figure at 0xe9474a8>"
      ]
     },
     "metadata": {},
     "output_type": "display_data"
    }
   ],
   "source": [
    "sns.distplot(yr_2012['pplfair'])\n",
    "plt.show()"
   ]
  },
  {
   "cell_type": "code",
   "execution_count": 133,
   "metadata": {},
   "outputs": [
    {
     "data": {
      "text/plain": [
       "(0.9461127519607544, 3.1786112692176124e-36)"
      ]
     },
     "execution_count": 133,
     "metadata": {},
     "output_type": "execute_result"
    }
   ],
   "source": [
    "stats.shapiro(yr_2012['pplfair'])"
   ]
  },
  {
   "cell_type": "markdown",
   "metadata": {},
   "source": [
    "Despite the pretty low p-value for the Shapiro test, this variable seems pretty normal. So let's try just using a simple t test."
   ]
  },
  {
   "cell_type": "code",
   "execution_count": 134,
   "metadata": {
    "collapsed": true
   },
   "outputs": [],
   "source": [
    "alone_2012 = yr_2012[yr_2012['partner'] == 2]\n",
    "partner_2012 = yr_2012[yr_2012['partner'] == 1]"
   ]
  },
  {
   "cell_type": "code",
   "execution_count": 135,
   "metadata": {},
   "outputs": [
    {
     "data": {
      "text/plain": [
       "Ttest_indResult(statistic=-3.0430439318464235, pvalue=0.0023569366769392482)"
      ]
     },
     "execution_count": 135,
     "metadata": {},
     "output_type": "execute_result"
    }
   ],
   "source": [
    "stats.ttest_ind(alone_2012['pplfair'],partner_2012['pplfair'])"
   ]
  },
  {
   "cell_type": "code",
   "execution_count": 138,
   "metadata": {},
   "outputs": [
    {
     "name": "stdout",
     "output_type": "stream",
     "text": [
      "5.86592544146501\n",
      "6.0743509047993705\n"
     ]
    }
   ],
   "source": [
    "print(alone_2012['pplfair'].mean())\n",
    "print(partner_2012['pplfair'].mean())"
   ]
  },
  {
   "cell_type": "markdown",
   "metadata": {},
   "source": [
    "Finally, something statistically significant! Looks like people who have a partner scored higher for trusting others than those who were alone."
   ]
  },
  {
   "cell_type": "markdown",
   "metadata": {},
   "source": [
    "### Question 5 - Pick three or four of the countries in the sample and compare how often people met socially in 2014. Are there differences, and if so, which countries stand out?\n",
    "Normality assessment first, as usual!"
   ]
  },
  {
   "cell_type": "code",
   "execution_count": 173,
   "metadata": {},
   "outputs": [
    {
     "data": {
      "image/png": "[encoded data removed]",
      "text/plain": [
       "<matplotlib.figure.Figure at 0x10659e80>"
      ]
     },
     "metadata": {},
     "output_type": "display_data"
    }
   ],
   "source": [
    "# Four countries: Sweden, Denmark, Scandinavia (Scandinavia battle!) \n",
    "subset = survey[(survey['cntry'].isin(['DE','NO','SE']))&(survey['year'] == 2014)]\n",
    "subset = subset.dropna(subset=['sclmeet'])\n",
    "subset_meet = subset['sclmeet']\n",
    "\n",
    "sns.distplot(subset_meet)\n",
    "plt.show()"
   ]
  },
  {
   "cell_type": "markdown",
   "metadata": {},
   "source": [
    "Let's start with treating this as normal, though it is definitely borderline. Let's use a one-way ANOVA test to determine whether or not the groups are different at all, and see if this warrants further investigation."
   ]
  },
  {
   "cell_type": "code",
   "execution_count": 174,
   "metadata": {
    "collapsed": true
   },
   "outputs": [],
   "source": [
    "NO = subset[subset['cntry'] == 'NO']\n",
    "SE = subset[subset['cntry'] == 'SE']\n",
    "DE = subset[subset['cntry'] == 'DE']\n",
    "NO_meet = NO['sclmeet']\n",
    "SE_meet = SE['sclmeet']\n",
    "DE_meet = DE['sclmeet']"
   ]
  },
  {
   "cell_type": "code",
   "execution_count": 175,
   "metadata": {},
   "outputs": [
    {
     "data": {
      "text/plain": [
       "F_onewayResult(statistic=5.0262600453269908, pvalue=0.0066641633271129789)"
      ]
     },
     "execution_count": 175,
     "metadata": {},
     "output_type": "execute_result"
    }
   ],
   "source": [
    "stats.f_oneway(NO_meet, SE_meet, DE_meet)"
   ]
  },
  {
   "cell_type": "markdown",
   "metadata": {},
   "source": [
    "There does seem to be a statistical difference between these groups. Let's just confirm this with a Kruskal-Wallis test, which is similar to an ANOVA but works in a non-parametric fashion. This is worthwhile since the original distribution is only debatably normal."
   ]
  },
  {
   "cell_type": "code",
   "execution_count": 176,
   "metadata": {},
   "outputs": [
    {
     "data": {
      "text/plain": [
       "KruskalResult(statistic=13.690159503963239, pvalue=0.0010646813228366533)"
      ]
     },
     "execution_count": 176,
     "metadata": {},
     "output_type": "execute_result"
    }
   ],
   "source": [
    "stats.kruskal(NO_meet, SE_meet, DE_meet)"
   ]
  },
  {
   "cell_type": "markdown",
   "metadata": {},
   "source": [
    "This again confirms that there's a difference between the groups. But which ones? Let's investigate with a Tukey's HSD (operating on the assumption that these distributions are normal-ish). "
   ]
  },
  {
   "cell_type": "code",
   "execution_count": 156,
   "metadata": {
    "scrolled": true
   },
   "outputs": [
    {
     "data": {
      "text/html": [
       "<table class=\"simpletable\">\n",
       "<caption>Multiple Comparison of Means - Tukey HSD,FWER=0.05</caption>\n",
       "<tr>\n",
       "  <th>group1</th> <th>group2</th> <th>meandiff</th>  <th>lower</th>   <th>upper</th> <th>reject</th>\n",
       "</tr>\n",
       "<tr>\n",
       "    <td>DE</td>     <td>NO</td>    <td>0.8738</td>  <td>0.0141</td>  <td>1.7334</td>  <td>True</td> \n",
       "</tr>\n",
       "<tr>\n",
       "    <td>DE</td>     <td>SE</td>    <td>0.9976</td>  <td>0.1396</td>  <td>1.8557</td>  <td>True</td> \n",
       "</tr>\n",
       "<tr>\n",
       "    <td>NO</td>     <td>SE</td>    <td>0.1239</td>  <td>-0.0344</td> <td>0.2822</td>  <td>False</td>\n",
       "</tr>\n",
       "</table>"
      ],
      "text/plain": [
       "<class 'statsmodels.iolib.table.SimpleTable'>"
      ]
     },
     "execution_count": 156,
     "metadata": {},
     "output_type": "execute_result"
    }
   ],
   "source": [
    "from statsmodels.stats.multicomp import pairwise_tukeyhsd\n",
    "\n",
    "tukey = pairwise_tukeyhsd(endog=subset['sclmeet'],      # Data\n",
    "                          groups=subset['cntry'],   # Groups\n",
    "                          alpha=0.05)         # Significance level\n",
    "\n",
    "tukey.summary()  "
   ]
  },
  {
   "cell_type": "code",
   "execution_count": 159,
   "metadata": {},
   "outputs": [
    {
     "data": {
      "image/png": "[encoded data removed]",
      "text/plain": [
       "<matplotlib.figure.Figure at 0xb2821d0>"
      ]
     },
     "metadata": {},
     "output_type": "display_data"
    }
   ],
   "source": [
    "# Looking at meandiff more closely\n",
    "sns.boxplot(subset['cntry'],subset['sclmeet'])\n",
    "plt.show()"
   ]
  },
  {
   "cell_type": "code",
   "execution_count": 160,
   "metadata": {
    "scrolled": true
   },
   "outputs": [
    {
     "name": "stdout",
     "output_type": "stream",
     "text": [
      "5.3023255813953485 5.426211453744493 4.428571428571429\n"
     ]
    }
   ],
   "source": [
    "print(NO_meet.mean(),SE_meet.mean(),DE_meet.mean())"
   ]
  },
  {
   "cell_type": "markdown",
   "metadata": {},
   "source": [
    "Super interesting! Looks like Denmark differs from the other two countries, Sweden and Norway. Its respondents in 2014 reported fewer social interactions than those in Sweden or Denmark. There's not a significant difference between Norway and Sweden. Let's try Kruskal-Wallace just to confirm that this conclusion jives if we are to take a non-parametric approach (assuming we deem the original var to be non-normal in its distribution)."
   ]
  },
  {
   "cell_type": "markdown",
   "metadata": {},
   "source": [
    "### Question 6 - Pick three or four of the countries in the sample and compare how often people took part in social activities, relative to others their age, in 2014. Are there differences, and if so, which countries stand out?\n",
    "Let's appoach this in the same framework as we did the prior question, but with three new countries"
   ]
  },
  {
   "cell_type": "code",
   "execution_count": 172,
   "metadata": {},
   "outputs": [
    {
     "data": {
      "image/png": "[encoded data removed]",
      "text/plain": [
       "<matplotlib.figure.Figure at 0x105b85c0>"
      ]
     },
     "metadata": {},
     "output_type": "display_data"
    }
   ],
   "source": [
    "# Four countries: Sweden, Denmark, Scandinavia (Scandinavia battle!) \n",
    "subset2 = survey[(survey['cntry'].isin(['CH','CZ','ES']))&(survey['year'] == 2014)]\n",
    "subset2 = subset2.dropna(subset=['sclact'])\n",
    "subset2_act = subset2['sclact']\n",
    "\n",
    "sns.distplot(subset2_act)\n",
    "plt.show()"
   ]
  },
  {
   "cell_type": "markdown",
   "metadata": {},
   "source": [
    "This is pretty straightforwardly normal. On to the ANOVA test."
   ]
  },
  {
   "cell_type": "code",
   "execution_count": 182,
   "metadata": {
    "collapsed": true
   },
   "outputs": [],
   "source": [
    "CH = subset2[subset2['cntry'] == 'CH']\n",
    "CZ = subset2[subset2['cntry'] == 'CZ']\n",
    "ES = subset2[subset2['cntry'] == 'ES']\n",
    "CH_act = CH['sclact']\n",
    "CZ_act = CZ['sclact']\n",
    "ES_act = ES['sclact']"
   ]
  },
  {
   "cell_type": "code",
   "execution_count": 183,
   "metadata": {},
   "outputs": [
    {
     "data": {
      "text/plain": [
       "F_onewayResult(statistic=7.6490889729985847, pvalue=0.00048729163650953859)"
      ]
     },
     "execution_count": 183,
     "metadata": {},
     "output_type": "execute_result"
    }
   ],
   "source": [
    "stats.f_oneway(CH_act, CZ_act, ES_act)"
   ]
  },
  {
   "cell_type": "markdown",
   "metadata": {},
   "source": [
    "Again, there does seem to be a statistical difference between these groups. Let's now use the tukey analysis to see where the differences are occurring."
   ]
  },
  {
   "cell_type": "code",
   "execution_count": 184,
   "metadata": {
    "scrolled": true
   },
   "outputs": [
    {
     "data": {
      "text/html": [
       "<table class=\"simpletable\">\n",
       "<caption>Multiple Comparison of Means - Tukey HSD,FWER=0.05</caption>\n",
       "<tr>\n",
       "  <th>group1</th> <th>group2</th> <th>meandiff</th>  <th>lower</th>   <th>upper</th>  <th>reject</th>\n",
       "</tr>\n",
       "<tr>\n",
       "    <td>CH</td>     <td>CZ</td>    <td>-0.0786</td> <td>-0.1933</td> <td>0.0361</td>   <td>False</td>\n",
       "</tr>\n",
       "<tr>\n",
       "    <td>CH</td>     <td>ES</td>    <td>-0.1648</td> <td>-0.2645</td> <td>-0.0651</td>  <td>True</td> \n",
       "</tr>\n",
       "<tr>\n",
       "    <td>CZ</td>     <td>ES</td>    <td>-0.0862</td> <td>-0.1911</td> <td>0.0187</td>   <td>False</td>\n",
       "</tr>\n",
       "</table>"
      ],
      "text/plain": [
       "<class 'statsmodels.iolib.table.SimpleTable'>"
      ]
     },
     "execution_count": 184,
     "metadata": {},
     "output_type": "execute_result"
    }
   ],
   "source": [
    "from statsmodels.stats.multicomp import pairwise_tukeyhsd\n",
    "\n",
    "tukey = pairwise_tukeyhsd(endog=subset2['sclact'],      # Data\n",
    "                          groups=subset2['cntry'],   # Groups\n",
    "                          alpha=0.05)         # Significance level\n",
    "\n",
    "tukey.summary()  "
   ]
  },
  {
   "cell_type": "code",
   "execution_count": 185,
   "metadata": {},
   "outputs": [
    {
     "data": {
      "image/png": "[encoded data removed]",
      "text/plain": [
       "<matplotlib.figure.Figure at 0x1022f5c0>"
      ]
     },
     "metadata": {},
     "output_type": "display_data"
    }
   ],
   "source": [
    "# Note, meandiff is absolute (always pos) - proof:\n",
    "sns.boxplot(subset2['cntry'],subset2['sclact'])\n",
    "plt.show()"
   ]
  },
  {
   "cell_type": "code",
   "execution_count": 186,
   "metadata": {
    "scrolled": false
   },
   "outputs": [
    {
     "name": "stdout",
     "output_type": "stream",
     "text": [
      "2.7816993464052286 2.703076923076923 2.6168776371308016\n"
     ]
    }
   ],
   "source": [
    "print(CH_act.mean(),CZ_act.mean(),ES_act.mean())"
   ]
  },
  {
   "cell_type": "markdown",
   "metadata": {},
   "source": [
    "Interesting, the only statistical difference seems to be between Switzerland and Spain. Swiss respondents seem to do more social activities in their age group than Spanish respondents."
   ]
  }
 ],
 "metadata": {
  "kernelspec": {
   "display_name": "Python 3",
   "language": "python",
   "name": "python3"
  },
  "language_info": {
   "codemirror_mode": {
    "name": "ipython",
    "version": 3
   },
   "file_extension": ".py",
   "mimetype": "text/x-python",
   "name": "python",
   "nbconvert_exporter": "python",
   "pygments_lexer": "ipython3",
   "version": "3.6.4"
  }
 },
 "nbformat": 4,
 "nbformat_minor": 2
}
