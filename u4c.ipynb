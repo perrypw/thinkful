{
 "cells": [
  {
   "cell_type": "markdown",
   "metadata": {},
   "source": [
    "# Intro\n",
    "I'll be working again with the Gutenberg corpus from NLTK, but this time focusing on works of ten different authors from what we've looked at previously. We'll first clean and vectorize the data. Then, we'll aim to create clusters and compare those to the known labels of author name. Lastly, we'll try various supervised modeling methods and see which produces the best results in predicting the author of a given passage from our corpus.\n",
    "\n",
    "# Data Cleaning"
   ]
  },
  {
   "cell_type": "code",
   "execution_count": 1,
   "metadata": {},
   "outputs": [],
   "source": [
    "import pandas as pd\n",
    "import numpy as np\n",
    "import matplotlib.pyplot as plt\n",
    "import scipy as sp\n",
    "import seaborn as sns\n",
    "import re\n",
    "from nltk.corpus import PlaintextCorpusReader\n",
    "from nltk.corpus import gutenberg, stopwords\n",
    "import string\n",
    "from sklearn.decomposition import TruncatedSVD\n",
    "from sklearn.pipeline import make_pipeline\n",
    "from sklearn.preprocessing import Normalizer\n",
    "\n",
    "%matplotlib inline"
   ]
  },
  {
   "cell_type": "code",
   "execution_count": 2,
   "metadata": {},
   "outputs": [
    {
     "name": "stdout",
     "output_type": "stream",
     "text": [
      "['austen-emma.txt', 'austen-persuasion.txt', 'austen-sense.txt', 'bible-kjv.txt', 'blake-poems.txt', 'bryant-stories.txt', 'burgess-busterbrown.txt', 'carroll-alice.txt', 'chesterton-ball.txt', 'chesterton-brown.txt', 'chesterton-thursday.txt', 'edgeworth-parents.txt', 'melville-moby_dick.txt', 'milton-paradise.txt', 'shakespeare-caesar.txt', 'shakespeare-hamlet.txt', 'shakespeare-macbeth.txt', 'whitman-leaves.txt']\n"
     ]
    }
   ],
   "source": [
    "print(gutenberg.fileids())"
   ]
  },
  {
   "cell_type": "code",
   "execution_count": 2,
   "metadata": {
    "collapsed": true
   },
   "outputs": [],
   "source": [
    "# Reading in the data\n",
    "# Note that I'm taking a subset of a few of these to lessen the class imbalance\n",
    "bible = gutenberg.paras(['bible-kjv.txt'])[0:5000]\n",
    "blake = gutenberg.paras(['blake-poems.txt'])\n",
    "bryant = gutenberg.paras(['bryant-stories.txt'])\n",
    "burgess = gutenberg.paras(['burgess-busterbrown.txt'])\n",
    "chesterton = gutenberg.paras(['chesterton-ball.txt'])\n",
    "edgeworth = gutenberg.paras(['edgeworth-parents.txt'])[0:2000]\n",
    "melville = gutenberg.paras(['melville-moby_dick.txt'])[0:1500]\n",
    "milton = gutenberg.paras(['milton-paradise.txt'])\n",
    "shakespeare = gutenberg.paras(['shakespeare-macbeth.txt'])\n",
    "whitman = gutenberg.paras(['whitman-leaves.txt'])"
   ]
  },
  {
   "cell_type": "code",
   "execution_count": 4,
   "metadata": {
    "collapsed": true
   },
   "outputs": [],
   "source": [
    "# Utility function for standard text cleaning.\n",
    "def text_cleaner(text):\n",
    "    text = re.sub(r'--',' ',text)\n",
    "    text = re.sub(\"[``\\[].*?[\\]]\", \"\", text)\n",
    "    text = ' '.join(text.split())\n",
    "    return text"
   ]
  },
  {
   "cell_type": "code",
   "execution_count": 5,
   "metadata": {
    "collapsed": true
   },
   "outputs": [],
   "source": [
    "authors = [bible,blake,bryant,burgess,chesterton,edgeworth,melville,milton,shakespeare,whitman]\n",
    "author_names = ['bible','blake','bryant','burgess','chesterton','edgeworth','melville','milton','shakespeare','whitman']"
   ]
  },
  {
   "cell_type": "code",
   "execution_count": 6,
   "metadata": {
    "collapsed": true
   },
   "outputs": [],
   "source": [
    "# Cleaning the authors paragraphs\n",
    "clean = []\n",
    "author_column = []\n",
    "author_counter = 0\n",
    "punctuation_to_remove = re.sub(\"'\", '', string.punctuation) + string.digits\n",
    "\n",
    "# Cleaning the paragraphs\n",
    "for author in authors:\n",
    "    author_paras=[]\n",
    "    for para in author:\n",
    "        # create a running list with author name that's the length of number of paragraphs\n",
    "        #author_column.append([author_names[author_counter]]*len(author))\n",
    "        for item in para:\n",
    "            clean_words=[]\n",
    "            for word in item:\n",
    "                # Text cleaner\n",
    "                clean_word = text_cleaner(word)\n",
    "                # Strip punctuation and numbers\n",
    "                clean_word = ''.join([char for char in clean_word if char not in punctuation_to_remove])\n",
    "                # make all lowercase\n",
    "                clean_word = clean_word.lower()\n",
    "                # add this to clean words\n",
    "                clean_words.append(clean_word)\n",
    "            # add these clean words to clean items\n",
    "            clean_items = ' '.join(clean_words).replace(\" ' \", \"'\")\n",
    "            # remove extra whitespace\n",
    "            clean_items = ' '.join(clean_items.split())\n",
    "            author_paras.append(clean_items)\n",
    "    author_column += ([author_names[author_counter]]*len(author_paras))\n",
    "    author_counter += 1\n",
    "    clean+=author_paras"
   ]
  },
  {
   "cell_type": "code",
   "execution_count": 7,
   "metadata": {
    "collapsed": true
   },
   "outputs": [],
   "source": [
    "# Creating a version that just has token lemmas, should we choose to use it later\n",
    "import spacy\n",
    "nlp = spacy.load('en')\n",
    "\n",
    "fiction_clean_lemmas = []\n",
    "for paragraph in clean:\n",
    "    new_para = ''\n",
    "    nlp_para = nlp(paragraph)\n",
    "    for token in nlp_para:\n",
    "        if not token.is_stop:\n",
    "            new_para += token.lemma_ + ' '\n",
    "    fiction_clean_lemmas.append(new_para)"
   ]
  },
  {
   "cell_type": "code",
   "execution_count": 26,
   "metadata": {},
   "outputs": [
    {
     "data": {
      "text/plain": [
       "[\"o thou transcendent nameless the fibre and the breath light of the light shedding forth universes thou centre of them thou mightier centre of the true the good the loving thou moral spiritual fountain affection's source thou reservoir o pensive soul of me o thirst unsatisfied waitest not there\",\n",
       " 'waitest not haply for us somewhere there the comrade perfect',\n",
       " 'thou pulse thou motive of the stars suns systems that circling move in order safe harmonious athwart the shapeless vastnesses of space how should i think how breathe a single breath how speak if out of myself i could not launch to those superior universes',\n",
       " 'swiftly i shrivel at the thought of god at nature and its wonders time and space and death but that i turning call to thee o soul thou actual me and lo thou gently masterest the orbs thou matest time smilest content at death and fillest swellest full the vastnesses of space',\n",
       " 'greater than stars or suns bounding o soul thou journeyest forth what love than thine and ours could wider amplify',\n",
       " 'what aspirations wishes outvie thine and ours o soul',\n",
       " 'what dreams of the ideal',\n",
       " 'what plans of purity perfection strength',\n",
       " \"what cheerful willingness for others'sake to give up all\",\n",
       " \"for others'sake to suffer all\",\n",
       " \"reckoning ahead o soul when thou the time achiev'd the seas all cross'd weather'd the capes the voyage done surrounded copest frontest god yieldest the aim attain'd as fill'd with friendship love complete the elder brother found the younger melts in fondness in his arms\",\n",
       " 'passage to more than india',\n",
       " 'are thy wings plumed indeed for such far flights',\n",
       " 'o soul voyagest thou indeed on voyages like those',\n",
       " 'disportest thou on waters such as those',\n",
       " 'soundest below the sanscrit and the vedas',\n",
       " \"then have thy bent unleash'd\",\n",
       " 'passage to you your shores ye aged fierce enigmas',\n",
       " 'passage to you to mastership of you ye strangling problems',\n",
       " \"you strew'd with the wrecks of skeletons that living never reach'd you\",\n",
       " 'passage to more than india',\n",
       " 'o secret of the earth and sky',\n",
       " 'of you o waters of the sea',\n",
       " 'o winding creeks and rivers',\n",
       " 'of you o woods and fields',\n",
       " 'of you strong mountains of my land',\n",
       " 'of you o prairies',\n",
       " 'of you gray rocks',\n",
       " 'o morning red',\n",
       " 'o clouds',\n",
       " 'o rain and snows',\n",
       " 'o day and night passage to you',\n",
       " 'o sun and moon and all you stars',\n",
       " 'sirius and jupiter',\n",
       " 'passage to you',\n",
       " 'passage immediate passage',\n",
       " 'the blood burns in my veins',\n",
       " 'away o soul',\n",
       " 'hoist instantly the anchor',\n",
       " 'cut the hawsers haul out shake out every sail',\n",
       " 'have we not stood here like trees in the ground long enough',\n",
       " \"have we not grovel'd here long enough eating and drinking like mere brutes\",\n",
       " \"have we not darken'd and dazed ourselves with books long enough\",\n",
       " 'sail forth steer for the deep waters only reckless o soul exploring i with thee and thou with me for we are bound where mariner has not yet dared to go and we will risk the ship ourselves and all',\n",
       " 'o my brave soul',\n",
       " 'o farther farther sail',\n",
       " 'o daring joy but safe',\n",
       " 'are they not all the seas of god',\n",
       " 'o farther farther farther sail',\n",
       " 'book xxvii',\n",
       " 'prayer of columbus',\n",
       " \"a batter'd wreck'd old man thrown on this savage shore far far from home pent by the sea and dark rebellious brows twelve dreary months sore stiff with many toils sicken'd and nigh to death i take my way along the island's edge venting a heavy heart\",\n",
       " 'i am too full of woe',\n",
       " 'haply i may not live another day i cannot rest o god i cannot eat or drink or sleep till i put forth myself my prayer once more to thee breathe bathe myself once more in thee commune with thee report myself once more to thee',\n",
       " \"thou knowest my years entire my life my long and crowded life of active work not adoration merely thou knowest the prayers and vigils of my youth thou knowest my manhood's solemn and visionary meditations thou knowest how before i commenced i devoted all to come to thee thou knowest i have in age ratified all those vows and strictly kept them thou knowest i have not once lost nor faith nor ecstasy in thee in shackles prison'd in disgrace repining not accepting all from thee as duly come from thee\",\n",
       " \"all my emprises have been fill'd with thee my speculations plans begun and carried on in thoughts of thee sailing the deep or journeying the land for thee intentions purports aspirations mine leaving results to thee\",\n",
       " 'o i am sure they really came from thee the urge the ardor the unconquerable will the potent felt interior command stronger than words a message from the heavens whispering to me even in sleep these sped me on',\n",
       " \"by me and these the work so far accomplish'd by me earth's elder cloy'd and stifled lands uncloy'd unloos'd by me the hemispheres rounded and tied the unknown to the known\",\n",
       " \"the end i know not it is all in thee or small or great i know not haply what broad fields what lands haply the brutish measureless human undergrowth i know transplanted there may rise to stature knowledge worthy thee haply the swords i know may there indeed be turn'd to reaping tools haply the lifeless cross i know europe's dead cross may bud and blossom there\",\n",
       " 'one effort more my altar this bleak sand that thou o god my life hast lighted with ray of light steady ineffable vouchsafed of thee light rare untellable lighting the very light beyond all signs descriptions languages for that o god be it my latest word here on my knees old poor and paralyzed i thank thee',\n",
       " \"my terminus near the clouds already closing in upon me the voyage balk'd the course disputed lost i yield my ships to thee\",\n",
       " \"my hands my limbs grow nerveless my brain feels rack'd bewilder'd let the old timbers part i will not part i will cling fast to thee o god though the waves buffet me thee thee at least i know\",\n",
       " \"is it the prophet's thought i speak or am i raving\",\n",
       " 'what do i know of life',\n",
       " 'what of myself',\n",
       " 'i know not even my own work past or present dim ever shifting guesses of it spread before me of newer better worlds their mighty parturition mocking perplexing me',\n",
       " 'and these things i see suddenly what mean they',\n",
       " \"as if some miracle some hand divine unseal'd my eyes shadowy vast shapes smile through the air and sky and on the distant waves sail countless ships and anthems in new tongues i hear saluting me\",\n",
       " 'book xxviii',\n",
       " 'the sleepers',\n",
       " 'i wander all night in my vision stepping with light feet swiftly and noiselessly stepping and stopping bending with open eyes over the shut eyes of sleepers wandering and confused lost to myself ill assorted contradictory pausing gazing bending and stopping',\n",
       " \"how solemn they look there stretch'd and still how quiet they breathe the little children in their cradles\",\n",
       " \"the wretched features of ennuyes the white features of corpses the livid faces of drunkards the sick gray faces of onanists the gash'd bodies on battle fields the insane in their strong door'd rooms the sacred idiots the new born emerging from gates and the dying emerging from gates the night pervades them and infolds them\",\n",
       " 'the married couple sleep calmly in their bed he with his palm on the hip of the wife and she with her palm on the hip of the husband the sisters sleep lovingly side by side in their bed the men sleep lovingly side by side in theirs and the mother sleeps with her little child carefully wrapt',\n",
       " 'the blind sleep and the deaf and dumb sleep the prisoner sleeps well in the prison the runaway son sleeps the murderer that is to be hung next day how does he sleep',\n",
       " \"and the murder'd person how does he sleep\",\n",
       " 'the female that loves unrequited sleeps and the male that loves unrequited sleeps the head of the money maker that plotted all day sleeps and the enraged and treacherous dispositions all all sleep',\n",
       " 'i stand in the dark with drooping eyes by the worst suffering and the most restless i pass my hands soothingly to and fro a few inches from them the restless sink in their beds they fitfully sleep',\n",
       " 'now i pierce the darkness new beings appear the earth recedes from me into the night i saw that it was beautiful and i see that what is not the earth is beautiful',\n",
       " 'i go from bedside to bedside i sleep close with the other sleepers each in turn i dream in my dream all the dreams of the other dreamers and i become the other dreamers',\n",
       " 'i am a dance play up there',\n",
       " 'the fit is whirling me fast',\n",
       " 'i am the ever laughing it is new moon and twilight i see the hiding of douceurs i see nimble ghosts whichever way look cache and cache again deep in the ground and sea and where it is neither ground nor sea',\n",
       " \"well do they do their jobs those journeymen divine only from me can they hide nothing and would not if they could i reckon i am their boss and they make me a pet besides and surround me and lead me and run ahead when i walk to lift their cunning covers to signify me with stretch'd arms and resume the way onward we move a gay gang of blackguards\",\n",
       " 'with mirth shouting music and wild flapping pennants of joy',\n",
       " \"i am the actor the actress the voter the politician the emigrant and the exile the criminal that stood in the box he who has been famous and he who shall be famous after to day the stammerer the well form'd person the wasted or feeble person\",\n",
       " \"i am she who adorn'd herself and folded her hair expectantly my truant lover has come and it is dark\",\n",
       " 'double yourself and receive me darkness receive me and my lover too he will not let me go without him',\n",
       " 'i roll myself upon you as upon a bed i resign myself to the dusk',\n",
       " 'he whom i call answers me and takes the place of my lover he rises with me silently from the bed',\n",
       " 'darkness you are gentler than my lover his flesh was sweaty and panting i feel the hot moisture yet that he left me',\n",
       " 'my hands are spread forth i pass them in all directions i would sound up the shadowy shore to which you are journeying',\n",
       " 'be careful darkness',\n",
       " \"already what was it touch'd me\",\n",
       " 'i thought my lover had gone else darkness and he are one i hear the heart beat i follow i fade away',\n",
       " 'i descend my western course my sinews are flaccid perfume and youth course through me and i am their wake',\n",
       " \"it is my face yellow and wrinkled instead of the old woman's i sit low in a straw bottom chair and carefully darn my grandson's stockings\",\n",
       " 'it is i too the sleepless widow looking out on the winter midnight i see the sparkles of starshine on the icy and pallid earth',\n",
       " 'a shroud i see and i am the shroud i wrap a body and lie in the coffin it is dark here under ground it is not evil or pain here it is blank here for reasons',\n",
       " 'it seems to me that every thing in the light and air ought to be happy whoever is not in his coffin and the dark grave let him know he has enough',\n",
       " 'i see a beautiful gigantic swimmer swimming naked through the eddies of the sea his brown hair lies close and even to his head he strikes out with courageous arms he urges himself with his legs i see his white body i see his undaunted eyes i hate the swift running eddies that would dash him head foremost on the rocks',\n",
       " 'what are you doing you ruffianly red trickled waves',\n",
       " 'will you kill the courageous giant',\n",
       " 'will you kill him in the prime of his middle age',\n",
       " \"steady and long he struggles he is baffled bang'd bruis'd he holds out while his strength holds out the slapping eddies are spotted with his blood they bear him away they roll him swing him turn him his beautiful body is borne in the circling eddies it is continually bruis'd on rocks swiftly and ought of sight is borne the brave corpse\",\n",
       " 'i turn but do not extricate myself confused a past reading another but with darkness yet',\n",
       " 'the beach is cut by the razory ice wind the wreck guns sound the tempest lulls the moon comes floundering through the drifts',\n",
       " 'i look where the ship helplessly heads end on i hear the burst as she strikes i hear the howls of dismay they grow fainter and fainter',\n",
       " 'i cannot aid with my wringing fingers i can but rush to the surf and let it drench me and freeze upon me',\n",
       " \"i search with the crowd not one of the company is wash'd to us alive in the morning i help pick up the dead and lay them in rows in a barn\",\n",
       " \"now of the older war days the defeat at brooklyn washington stands inside the lines he stands on the intrench'd hills amid a crowd of officers\",\n",
       " \"his face is cold and damp he cannot repress the weeping drops he lifts the glass perpetually to his eyes the color is blanch'd from his cheeks he sees the slaughter of the southern braves confided to him by their parents\",\n",
       " \"the same at last and at last when peace is declared he stands in the room of the old tavern the well belov'd soldiers all pass through the officers speechless and slow draw near in their turns the chief encircles their necks with his arm and kisses them on the cheek he kisses lightly the wet cheeks one after another he shakes hands and bids good by to the army\",\n",
       " 'now what my mother told me one day as we sat at dinner together of when she was a nearly grown girl living home with her parents on the old homestead',\n",
       " \"a red squaw came one breakfast time to the old homestead on her back she carried a bundle of rushes for rush bottoming chairs her hair straight shiny coarse black profuse half envelop'd her face her step was free and elastic and her voice sounded exquisitely as she spoke\",\n",
       " \"my mother look'd in delight and amazement at the stranger she look'd at the freshness of her tall borne face and full and pliant limbs the more she look'd upon her she loved her never before had she seen such wonderful beauty and purity she made her sit on a bench by the jamb of the fireplace she cook'd food for her she had no work to give her but she gave her remembrance and fondness\",\n",
       " \"the red squaw staid all the forenoon and toward the middle of the afternoon she went away o my mother was loth to have her go away all the week she thought of her she watch'd for her many a month she remember'd her many a winter and many a summer but the red squaw never came nor was heard of there again\",\n",
       " \"a show of the summer softness a contact of something unseen an amour of the light and air i am jealous and overwhelm'd with friendliness and will go gallivant with the light and air myself\",\n",
       " \"o love and summer you are in the dreams and in me autumn and winter are in the dreams the farmer goes with his thrift the droves and crops increase the barns are well fill'd\",\n",
       " \"elements merge in the night ships make tacks in the dreams the sailor sails the exile returns home the fugitive returns unharm'd the immigrant is back beyond months and years the poor irishman lives in the simple house of his childhood with the well known neighbors and faces they warmly welcome him he is barefoot again he forgets he is well off the dutchman voyages home and the scotchman and welshman voyage home and the native of the mediterranean voyages home to every port of england france spain enter well fill'd ships the swiss foots it toward his hills the prussian goes his way the hungarian his way and the pole his way the swede returns and the dane and norwegian return\",\n",
       " \"the homeward bound and the outward bound the beautiful lost swimmer the ennuye the onanist the female that loves unrequited the money maker the actor and actress those through with their parts and those waiting to commence the affectionate boy the husband and wife the voter the nominee that is chosen and the nominee that has fail'd the great already known and the great any time after to day the stammerer the sick the perfect form'd the homely the criminal that stood in the box the judge that sat and sentenced him the fluent lawyers the jury the audience the laugher and weeper the dancer the midnight widow the red squaw the consumptive the erysipalite the idiot he that is wrong'd the antipodes and every one between this and them in the dark i swear they are averaged now one is no better than the other the night and sleep have liken'd them and restored them\",\n",
       " 'i swear they are all beautiful every one that sleeps is beautiful every thing in the dim light is beautiful the wildest and bloodiest is over and all is peace',\n",
       " 'peace is always beautiful the myth of heaven indicates peace and night',\n",
       " \"the myth of heaven indicates the soul the soul is always beautiful it appears more or it appears less it comes or it lags behind it comes from its embower'd garden and looks pleasantly on itself and encloses the world perfect and clean the genitals previously jetting and perfect and clean the womb cohering the head well grown proportion'd and plumb and the bowels and joints proportion'd and plumb\",\n",
       " 'the soul is always beautiful the universe is duly in order every thing is in its place what has arrived is in its place and what waits shall be in its place the twisted skull waits the watery or rotten blood waits the child of the glutton or venerealee waits long and the child of the drunkard waits long and the drunkard himself waits long the sleepers that lived and died wait the far advanced are to go on in their turns and the far behind are to come on in their turns the diverse shall be no less diverse but they shall flow and unite they unite now',\n",
       " \"the sleepers are very beautiful as they lie unclothed they flow hand in hand over the whole earth from east to west as they lie unclothed the asiatic and african are hand in hand the european and american are hand in hand learn'd and unlearn'd are hand in hand and male and female are hand in hand the bare arm of the girl crosses the bare breast of her lover they press close without lust his lips press her neck the father holds his grown or ungrown son in his arms with measureless love and the son holds the father in his arms with measureless love the white hair of the mother shines on the white wrist of the daughter the breath of the boy goes with the breath of the man friend is inarm'd by friend the scholar kisses the teacher and the teacher kisses the scholar the wrong'd made right the call of the slave is one with the master's call and the master salutes the slave the felon steps forth from the prison the insane becomes sane the suffering of sick persons is reliev'd the sweatings and fevers stop the throat that was unsound is sound the lungs of the consumptive are resumed the poor distress'd head is free the joints of the rheumatic move as smoothly as ever and smoother than ever stiflings and passages open the paralyzed become supple the swell'd and convuls'd and congested awake to themselves in condition they pass the invigoration of the night and the chemistry of the night and awake\",\n",
       " 'i too pass from the night i stay a while away o night but i return to you again and love you',\n",
       " 'why should i be afraid to trust myself to you',\n",
       " 'i am not afraid i have been well brought forward by you i love the rich running day but i do not desert her in whom i lay so long i know not how i came of you and i know not where i go with you but i know i came well and shall go well',\n",
       " 'i will stop only a time with the night and rise betimes i will duly pass the day o my mother and duly return to you',\n",
       " 'transpositions',\n",
       " 'let the reformers descend from the stands where they are forever bawling let an idiot or insane person appear on each of the stands let judges and criminals be transposed let the prison keepers be put in prison let those that were prisoners take the keys let them that distrust birth and death lead the rest',\n",
       " 'book xxix',\n",
       " 'to think of time',\n",
       " 'to think of time of all that retrospection to think of to day and the ages continued henceforward',\n",
       " \"have you guess'd you yourself would not continue\",\n",
       " 'have you dreaded these earth beetles',\n",
       " \"have you fear'd the future would be nothing to you\",\n",
       " 'is to day nothing',\n",
       " 'is the beginningless past nothing',\n",
       " 'if the future is nothing they are just as surely nothing',\n",
       " 'to think that the sun rose in the east that men and women were flexible real alive that every thing was alive to think that you and i did not see feel think nor bear our part to think that we are now here and bear our part',\n",
       " 'not a day passes not a minute or second without an accouchement not a day passes not a minute or second without a corpse',\n",
       " 'the dull nights go over and the dull days also the soreness of lying so much in bed goes over the physician after long putting off gives the silent and terrible look for an answer the children come hurried and weeping and the brothers and sisters are sent for medicines stand unused on the shelf the camphor smell has long pervaded the rooms the faithful hand of the living does not desert the hand of the dying the twitching lips press lightly on the forehead of the dying the breath ceases and the pulse of the heart ceases the corpse stretches on the bed and the living look upon it it is palpable as the living are palpable',\n",
       " 'the living look upon the corpse with their eyesight but without eyesight lingers a different living and looks curiously on the corpse',\n",
       " 'to think the thought of death merged in the thought of materials to think of all these wonders of city and country and others taking great interest in them and we taking no interest in them',\n",
       " 'to think how eager we are in building our houses to think others shall be just as eager and we quite indifferent',\n",
       " 'i see one building the house that serves him a few years or seventy or eighty years at most i see one building the house that serves him longer than that',\n",
       " 'slow moving and black lines creep over the whole earth they never cease they are the burial lines he that was president was buried and he that is now president shall surely be buried',\n",
       " 'a reminiscence of the vulgar fate a frequent sample of the life and death of workmen each after his kind',\n",
       " 'cold dash of waves at the ferry wharf posh and ice in the river half frozen mud in the streets a gray discouraged sky overhead the short last daylight of december a hearse and stages the funeral of an old broadway stage driver the cortege mostly drivers',\n",
       " \"steady the trot to the cemetery duly rattles the death bell the gate is pass'd the new dug grave is halted at the living alight the hearse uncloses the coffin is pass'd out lower'd and settled the whip is laid on the coffin the earth is swiftly shovel'd in the mound above is flatted with the spades silence a minute no one moves or speaks it is done he is decently put away is there any thing more\",\n",
       " \"he was a good fellow free mouth'd quick temper'd not bad looking ready with life or death for a friend fond of women gambled ate hearty drank hearty had known what it was to be flush grew low spirited toward the last sicken'd was help'd by a contribution died aged forty one years and that was his funeral\",\n",
       " \"thumb extended finger uplifted apron cape gloves strap wet weather clothes whip carefully chosen boss spotter starter hostler somebody loafing on you you loafing on somebody headway man before and man behind good day's work bad day's work pet stock mean stock first out last out turning in at night to think that these are so much and so nigh to other drivers and he there takes no interest in them\",\n",
       " \"the markets the government the working man's wages to think what account they are through our nights and days to think that other working men will make just as great account of them yet we make little or no account\",\n",
       " 'the vulgar and the refined what you call sin and what you call goodness to think how wide a difference to think the difference will still continue to others yet we lie beyond the difference',\n",
       " 'to think how much pleasure there is do you enjoy yourself in the city',\n",
       " 'or engaged in business',\n",
       " 'or planning a nomination and election',\n",
       " 'or with your wife and family',\n",
       " 'or with your mother and sisters',\n",
       " 'or in womanly housework',\n",
       " 'or the beautiful maternal cares',\n",
       " 'these also flow onward to others you and i flow onward but in due time you and i shall take less interest in them',\n",
       " \"your farm profits crops to think how engross'd you are to think there will still be farms profits crops yet for you of what avail\",\n",
       " 'what will be will be well for what is is well to take interest is well and not to take interest shall be well',\n",
       " \"the domestic joys the dally housework or business the building of houses are not phantasms they have weight form location farms profits crops markets wages government are none of them phantasms the difference between sin and goodness is no delusion the earth is not an echo man and his life and all the things of his life are well consider'd\",\n",
       " 'you are not thrown to the winds you gather certainly and safely around yourself yourself',\n",
       " 'yourself',\n",
       " 'yourself for ever and ever',\n",
       " \"it is not to diffuse you that you were born of your mother and father it is to identify you it is not that you should be undecided but that you should be decided something long preparing and formless is arrived and form'd in you you are henceforth secure whatever comes or goes\",\n",
       " \"the threads that were spun are gather'd the wet crosses the warp the pattern is systematic\",\n",
       " 'the preparations have every one been justified the orchestra have sufficiently tuned their instruments the baton has given the signal',\n",
       " 'the guest that was coming he waited long he is now housed he is one of those who are beautiful and happy he is one of those that to look upon and be with is enough',\n",
       " 'the law of the past cannot be eluded the law of the present and future cannot be eluded the law of the living cannot be eluded it is eternal the law of promotion and transformation cannot be eluded the law of heroes and good doers cannot be eluded the law of drunkards informers mean persons not one iota thereof can be eluded',\n",
       " 'slow moving and black lines go ceaselessly over the earth northerner goes carried and southerner goes carried and they on the atlantic side and they on the pacific and they between and all through the mississippi country and all over the earth',\n",
       " \"the great masters and kosmos are well as they go the heroes and good doers are well the known leaders and inventors and the rich owners and pious and distinguish'd may be well but there is more account than that there is strict account of all\",\n",
       " 'the interminable hordes of the ignorant and wicked are not nothing the barbarians of africa and asia are not nothing the perpetual successions of shallow people are not nothing as they go',\n",
       " \"of and in all these things i have dream'd that we are not to be changed so much nor the law of us changed i have dream'd that heroes and good doers shall be under the present and past law and that murderers drunkards liars shall be under the present and past law for i have dream'd that the law they are under now is enough\",\n",
       " \"and i have dream'd that the purpose and essence of the known life the transient is to form and decide identity for the unknown life the permanent\",\n",
       " 'if all came but to ashes of dung if maggots and rats ended us then alarum',\n",
       " \"for we are betray'd then indeed suspicion of death\",\n",
       " 'do you suspect death',\n",
       " 'if i were to suspect death i should die now do you think i could walk pleasantly and well suited toward annihilation',\n",
       " 'pleasantly and well suited i walk whither i walk i cannot define but i know it is good the whole universe indicates that it is good the past and the present indicate that it is good',\n",
       " 'how beautiful and perfect are the animals',\n",
       " 'how perfect the earth and the minutest thing upon it',\n",
       " \"what is called good is perfect and what is called bad is just as perfect the vegetables and minerals are all perfect and the imponderable fluids perfect slowly and surely they have pass'd on to this and slowly and surely they yet pass on\",\n",
       " 'i swear i think now that every thing without exception has an eternal soul',\n",
       " 'the trees have rooted in the ground',\n",
       " 'the weeds of the sea have',\n",
       " 'the animals',\n",
       " 'i swear i think there is nothing but immortality',\n",
       " 'that the exquisite scheme is for it and the nebulous float is for it and the cohering is for it',\n",
       " 'and all preparation is for it and identity is for it and life and materials are altogether for it',\n",
       " 'book xxx',\n",
       " 'whispers of heavenly death',\n",
       " 'darest thou now o soul',\n",
       " 'darest thou now o soul walk out with me toward the unknown region where neither ground is for the feet nor any path to follow',\n",
       " 'no map there nor guide nor voice sounding nor touch of human hand nor face with blooming flesh nor lips nor eyes are in that land',\n",
       " \"i know it not o soul nor dost thou all is a blank before us all waits undream'd of in that region that inaccessible land\",\n",
       " 'till when the ties loosen all but the ties eternal time and space nor darkness gravitation sense nor any bounds bounding us',\n",
       " 'then we burst forth we float in time and space o soul prepared for them equal equipt at last o joy',\n",
       " 'o fruit of all',\n",
       " 'them to fulfil o soul',\n",
       " 'whispers of heavenly death',\n",
       " \"whispers of heavenly death murmur'd i hear labial gossip of night sibilant chorals footsteps gently ascending mystical breezes wafted soft and low ripples of unseen rivers tides of a current flowing forever flowing or is it the plashing of tears\",\n",
       " 'the measureless waters of human tears',\n",
       " \"i see just see skyward great cloud masses mournfully slowly they roll silently swelling and mixing with at times a half dimm'd sadden'd far off star appearing and disappearing\",\n",
       " 'some parturition rather some solemn immortal birth on the frontiers to eyes impenetrable some soul is passing over',\n",
       " 'chanting the square deific',\n",
       " \"chanting the square deific out of the one advancing out of the sides out of the old and new out of the square entirely divine solid four sided all the sides needed from this side jehovah am i old brahm i and i saturnius am not time affects me i am time old modern as any unpersuadable relentless executing righteous judgments as the earth the father the brown old kronos with laws aged beyond computation yet never new ever with those mighty laws rolling relentless i forgive no man whoever sins dies i will have that man's life therefore let none expect mercy have the seasons gravitation the appointed days mercy\",\n",
       " 'no more have i but as the seasons and gravitation and as all the appointed days that forgive not i dispense from this side judgments inexorable without the least remorse',\n",
       " \"consolator most mild the promis'd one advancing with gentle hand extended the mightier god am i foretold by prophets and poets in their most rapt prophecies and poems from this side lo\",\n",
       " 'the lord christ gazes lo',\n",
       " 'hermes i lo',\n",
       " \"mine is hercules'face all sorrow labor suffering i tallying it absorb in myself many times have i been rejected taunted put in prison and crucified and many times shall be again all the world have i given up for my dear brothers'and sisters'sake for the soul's sake wanding my way through the homes of men rich or poor with the kiss of affection for i am affection i am the cheer bringing god with hope and all enclosing charity with indulgent words as to children with fresh and sane words mine only young and strong i pass knowing well i am destin'd myself to an early death but my charity has no death my wisdom dies not neither early nor late and my sweet love bequeath'd here and elsewhere never dies\",\n",
       " \"aloof dissatisfied plotting revolt comrade of criminals brother of slaves crafty despised a drudge ignorant with sudra face and worn brow black but in the depths of my heart proud as any lifted now and always against whoever scorning assumes to rule me morose full of guile full of reminiscences brooding with many wiles though it was thought i was baffled and dispel'd and my wiles done but that will never be defiant i satan still live still utter words in new lands duly appearing and old ones also permanent here from my side warlike equal with any real as any nor time nor change shall ever change me or my words\",\n",
       " 'santa spirita breather life beyond the light lighter than light beyond the flames of hell joyous leaping easily above hell beyond paradise perfumed solely with mine own perfume including all life on earth touching including god including saviour and satan ethereal pervading all for without me what were all',\n",
       " 'what were god',\n",
       " 'essence of forms life of the real identities permanent positive namely the unseen life of the great round world the sun and stars and of man i the general soul here the square finishing the solid i the most solid breathe my breath also through these songs',\n",
       " 'of him i love day and night',\n",
       " \"of him i love day and night i dream'd i heard he was dead and i dream'd i went where they had buried him i love but he was not in that place and i dream'd i wander'd searching among burial places to find him and i found that every place was a burial place the houses full of life were equally full of death this house is now the streets the shipping the places of amusement the chicago boston philadelphia the mannahatta were as full of the dead as of the living and fuller o vastly fuller of the dead than of the living and what i dream'd i will henceforth tell to every person and age and i stand henceforth bound to what i dream'd and now i am willing to disregard burial places and dispense with them and if the memorials of the dead were put up indifferently everywhere even in the room where i eat or sleep i should be satisfied and if the corpse of any one i love or if my own corpse be duly render'd to powder and pour'd in the sea i shall be satisfied or if it be distributed to the winds i shall be satisfied\",\n",
       " 'yet yet ye downcast hours',\n",
       " \"yet yet ye downcast hours i know ye also weights of lead how ye clog and cling at my ankles earth to a chamber of mourning turns i hear the o'erweening mocking voice matter is conqueror matter triumphant only continues onward\",\n",
       " \"despairing cries float ceaselessly toward me the call of my nearest lover putting forth alarm'd uncertain the sea i am quickly to sail come tell me come tell me where i am speeding tell me my destination\",\n",
       " \"i understand your anguish but i cannot help you i approach hear behold the sad mouth the look out of the eyes your mute inquiry whither i go from the bed i recline on come tell me old age alarm'd uncertain a young woman's voice appealing to me for comfort a young man's voice shall i not escape\",\n",
       " \"as if a phantom caress'd me\",\n",
       " \"as if a phantom caress'd me i thought i was not alone walking here by the shore but the one i thought was with me as now i walk by the shore the one i loved that caress'd me as i lean and look through the glimmering light that one has utterly disappear'd\",\n",
       " 'and those appear that are hateful to me and mock me',\n",
       " 'assurances',\n",
       " 'i need no assurances i am a man who is preoccupied of his own soul i do not doubt that from under the feet and beside the hands and face i am cognizant of are now looking faces i am not cognizant of calm and actual faces i do not doubt but the majesty and beauty of the world are latent in any iota of the world i do not doubt i am limitless and that the universes are limitless in vain i try to think how limitless i do not doubt that the orbs and the systems of orbs play their swift sports through the air on purpose and that i shall one day be eligible to do as much as they and more than they i do not doubt that temporary affairs keep on and on millions of years i do not doubt interiors have their interiors and exteriors have their exteriors and that the eyesight has another eyesight and the hearing another hearing and the voice another voice i do not doubt that the passionately wept deaths of young men are provided for and that the deaths of young women and the deaths of little children are provided for did you think life was so well provided for and death the purport of all life is not well provided for',\n",
       " 'i do not doubt that wrecks at sea no matter what the horrors of them no matter whose wife child husband father lover has gone down are provided for to the minutest points i do not doubt that whatever can possibly happen anywhere at any time is provided for in the inherences of things i do not think life provides for all and for time and space but i believe heavenly death provides for all',\n",
       " 'quicksand years',\n",
       " \"quicksand years that whirl me i know not whither your schemes politics fail lines give way substances mock and elude me only the theme i sing the great and strong possess'd soul eludes not one's self must never give way that is the final substance that out of all is sure out of politics triumphs battles life what at last finally remains\",\n",
       " \"when shows break up what but one's self is sure\",\n",
       " 'that music always round me',\n",
       " 'that music always round me unceasing unbeginning yet long untaught i did not hear but now the chorus i hear and am elated a tenor strong ascending with power and health with glad notes of daybreak i hear a soprano at intervals sailing buoyantly over the tops of immense waves a transparent base shuddering lusciously under and through the universe the triumphant tutti the funeral wailings with sweet flutes and violins all these i fill myself with i hear not the volumes of sound merely i am moved by the exquisite meanings i listen to the different voices winding in and out striving contending with fiery vehemence to excel each other in emotion i do not think the performers know themselves but now i think begin to know them',\n",
       " 'what ship puzzled at sea',\n",
       " 'what ship puzzled at sea cons for the true reckoning',\n",
       " 'or coming in to avoid the bars and follow the channel a perfect pilot needs',\n",
       " 'here sailor',\n",
       " 'here ship',\n",
       " 'take aboard the most perfect pilot whom in a little boat putting off and rowing i hailing you offer',\n",
       " 'a noiseless patient spider',\n",
       " \"a noiseless patient spider i mark'd where on a little promontory it stood isolated mark'd how to explore the vacant vast surrounding it launch'd forth filament filament filament out of itself ever unreeling them ever tirelessly speeding them\",\n",
       " \"and you o my soul where you stand surrounded detached in measureless oceans of space ceaselessly musing venturing throwing seeking the spheres to connect them till the bridge you will need be form'd till the ductile anchor hold till the gossamer thread you fling catch somewhere o my soul\",\n",
       " 'o living always always dying',\n",
       " 'o living always always dying',\n",
       " 'o the burials of me past and present o me while i stride ahead material visible imperious as ever o me what i was for years now dead i lament not i am content o to disengage myself from those corpses of me which i turn and look at where i cast them to pass on o living',\n",
       " 'always living',\n",
       " 'and leave the corpses behind',\n",
       " 'to one shortly to die',\n",
       " 'from all the rest i single out you having a message for you you are to die let others tell you what they please i cannot prevaricate i am exact and merciless but i love you there is no escape for you',\n",
       " \"softly i lay my right hand upon you you'ust feel it i do not argue i bend my head close and half envelop it i sit quietly by i remain faithful i am more than nurse more than parent or neighbor i absolve you from all except yourself spiritual bodily that is eternal you yourself will surely escape the corpse you will leave will be but excrementitious\",\n",
       " 'the sun bursts through in unlooked for directions strong thoughts fill you and confidence you smile you forget you are sick as i forget you are sick you do not see the medicines you do not mind the weeping friends i am with you i exclude others from you there is nothing to be commiserated i do not commiserate i congratulate you',\n",
       " 'night on the prairies',\n",
       " 'night on the prairies the supper is over the fire on the ground burns low the wearied emigrants sleep wrapt in their blankets i walk by myself i stand and look at the stars which i think now never realized before',\n",
       " 'now i absorb immortality and peace i admire death and test propositions',\n",
       " 'how plenteous',\n",
       " 'how spiritual',\n",
       " 'how resume',\n",
       " 'the same old man and soul the same old aspirations and the same content',\n",
       " 'i was thinking the day most splendid till i saw what the not day exhibited i was thinking this globe enough till there sprang out so noiseless around me myriads of other globes',\n",
       " \"now while the great thoughts of space and eternity fill me i will measure myself by them and now touch'd with the lives of other globes arrived as far along as those of the earth or waiting to arrive or pass'd on farther than those of the earth i henceforth no more ignore them than i ignore my own life or the lives of the earth arrived as far as mine or waiting to arrive\",\n",
       " 'o i see now that life cannot exhibit all to me as the day cannot i see that i am to wait for what will be exhibited by death',\n",
       " 'thought',\n",
       " \"as i sit with others at a great feast suddenly while the music is playing to my mind whence it comes i know not spectral in mist of a wreck at sea of certain ships how they sail from port with flying streamers and wafted kisses and that is the last of them of the solemn and murky mystery about the fate of the president of the flower of the marine science of fifty generations founder'd off the northeast coast and going down of the steamship arctic going down of the veil'd tableau women gather'd together on deck pale heroic waiting the moment that draws so close o the moment\",\n",
       " 'a huge sob a few bubbles the white foam spirting up and then the women gone sinking there while the passionless wet flows on and i now pondering are those women indeed gone',\n",
       " \"are souls drown'd and destroy'd so\",\n",
       " 'is only matter triumphant',\n",
       " 'the last invocation',\n",
       " \"at the last tenderly from the walls of the powerful fortress'd house from the clasp of the knitted locks from the keep of the well closed doors let me be wafted\",\n",
       " 'let me glide noiselessly forth with the key of softness unlock the locks with a whisper set ope the doors o soul',\n",
       " 'tenderly be not impatient strong is your hold o mortal flesh strong is your hold o love',\n",
       " 'as i watch the ploughman ploughing',\n",
       " \"as i watch'd the ploughman ploughing or the sower sowing in the fields or the harvester harvesting i saw there too o life and death your analogies life life is the tillage and death is the harvest according\",\n",
       " 'pensive and faltering',\n",
       " 'pensive and faltering the words the dead i write for living are the dead haply the only living only real and i the apparition i the spectre',\n",
       " 'book xxxi',\n",
       " 'thou mother with thy equal brood',\n",
       " \"thou mother with thy equal brood thou varied chain of different states yet one identity only a special song before i go i'd sing o'er all the rest for thee the future\",\n",
       " \"i'd sow a seed for thee of endless nationality i'd fashion thy ensemble including body and soul i'd show away ahead thy real union and how it may be accomplish'd\",\n",
       " 'the paths to the house i seek to make but leave to those to come the house itself',\n",
       " 'belief i sing and preparation as life and nature are not great with reference to the present only but greater still from what is yet to come out of that formula for thee i sing',\n",
       " \"as a strong bird on pinions free joyous the amplest spaces heavenward cleaving such be the thought i'd think of thee america such be the recitative i'd bring for thee\",\n",
       " \"the conceits of the poets of other lands i'd bring thee not nor the compliments that have served their turn so long nor rhyme nor the classics nor perfume of foreign court or indoor library but an odor i'd bring as from forests of pine in maine or breath of an illinois prairie with open airs of virginia or georgia or tennessee or from texas uplands or florida's glades or the saguenay's black stream or the wide blue spread of huron with presentment of yellowstone's scenes or yosemite and murmuring under pervading all i'd bring the rustling sea sound that endlessly sounds from the two great seas of the world\",\n",
       " 'and for thy subtler sense subtler refrains dread mother preludes of intellect tallying these and thee mind formulas fitted for thee real and sane and large as these and thee thou',\n",
       " 'mounting higher diving deeper than we knew thou transcendental union',\n",
       " 'by thee fact to be justified blended with thought thought of man justified blended with god through thy idea lo the immortal reality',\n",
       " 'through thy reality lo the immortal idea',\n",
       " 'brain of the new world what a task is thine to formulate the modern out of the peerless grandeur of the modern out of thyself comprising science to recast poems churches art recast may be discard them end them maybe their work is done who knows',\n",
       " 'by vision hand conception on the background of the mighty past the dead to limn with absolute faith the mighty living present',\n",
       " \"and yet thou living present brain heir of the dead the old world brain thou that lay folded like an unborn babe within its folds so long thou carefully prepared by it so long haply thou but unfoldest it only maturest it it to eventuate in thee the essence of the by gone time contain'd in thee its poems churches arts unwitting to themselves destined with reference to thee thou but the apples long long long a growing the fruit of all the old ripening to day in thee\",\n",
       " \"sail sail thy best ship of democracy of value is thy freight 'tis not the present only the past is also stored in thee thou holdest not the venture of thyself alone not of the western continent alone earth's resume entire floats on thy keel o ship is steadied by thy spars with thee time voyages in trust the antecedent nations sink or swim with thee with all their ancient struggles martyrs heroes epics wars thou bear'st the other continents theirs theirs as much as thine the destination port triumphant steer then with good strong hand and wary eye o helmsman thou carriest great companions venerable priestly asia sails this day with thee and royal feudal europe sails with thee\",\n",
       " \"beautiful world of new superber birth that rises to my eyes like a limitless golden cloud filling the westernr sky emblem of general maternity lifted above all sacred shape of the bearer of daughters and sons out of thy teeming womb thy giant babes in ceaseless procession issuing acceding from such gestation taking and giving continual strength and life world of the real world of the twain in one world of the soul born by the world of the real alone led to identity body by it alone yet in beginning only incalculable masses of composite precious materials by history's cycles forwarded by every nation language hither sent ready collected here a freer vast electric world to be constructed here the true new world the world of orbic science morals literatures to come thou wonder world yet undefined unform'd neither do i define thee how can i pierce the impenetrable blank of the future\",\n",
       " 'i feel thy ominous greatness evil as well as good i watch thee advancing absorbing the present transcending the past i see thy light lighting and thy shadow shadowing as if the entire globe but i do not undertake to define thee hardly to comprehend thee i but thee name thee prophesy as now i merely thee ejaculate',\n",
       " \"thee in thy future thee in thy only permanent life career thy own unloosen'd mind thy soaring spirit thee as another equally needed sun radiant ablaze swift moving fructifying all thee risen in potent cheerfulness and joy in endless great hilarity scattering for good the cloud that hung so long that weigh'd so long upon the mind of man the doubt suspicion dread of gradual certain decadence of man thee in thy larger saner brood of female male thee in thy athletes moral spiritual south north west east to thy immortal breasts mother of all thy every daughter son endear'd alike forever equal thee in thy own musicians singers artists unborn yet but certain thee in thy moral wealth and civilization until which thy proudest material civilization must remain in vain thee in thy all supplying all enclosing worship thee in no single bible saviour merely thy saviours countless latent within thyself thy bibles incessant within thyself equal to any divine as any thy soaring course thee formulating not in thy two great wars nor in thy century's visible growth but far more in these leaves and chants thy chants great mother\",\n",
       " \"thee in an education grown of thee in teachers studies students born of thee thee in thy democratic fetes en masse thy high original festivals operas lecturers preachers thee in thy ultimate the preparations only now completed the edifice on sure foundations tied thee in thy pinnacles intellect thought thy topmost rational joys thy love and godlike aspiration in thy resplendent coming literati thy full lung'd orators thy sacerdotal bards kosmic savans these\",\n",
       " 'these in thee certain to come to day i prophesy',\n",
       " 'land tolerating all accepting all not for the good alone all good for thee land in the realms of god to be a realm unto thyself under the rule of god to be a rule unto thyself',\n",
       " 'lo where arise three peerless stars to be thy natal stars my country ensemble evolution freedom set in the sky of law',\n",
       " \"land of unprecedented faith god's faith thy soil thy very subsoil all upheav'd the general inner earth so long so sedulously draped over now hence for what it is boldly laid bare open'd by thee to heaven's light for benefit or bale\",\n",
       " 'not for success alone not to fair sail unintermitted always the storm shall dash thy face the murk of war and worse than war shall cover thee all over wert capable of war its tug and trials',\n",
       " \"be capable of peace its trials for the tug and mortal strain of nations come at last in prosperous peace not war in many a smiling mask death shall approach beguiling thee thou in disease shalt swelter the livid cancer spread its hideous claws clinging upon thy breasts seeking to strike thee deep within consumption of the worst moral consumption shall rouge thy face with hectic but thou shalt face thy fortunes thy diseases and surmount them all whatever they are to day and whatever through time they may be they each and all shall lift and pass away and cease from thee while thou time's spirals rounding out of thyself thyself still extricating fusing equable natural mystical union thou the mortal with immortal blent shalt soar toward the fulfilment of the future the spirit of the body and the mind the soul its destinies\",\n",
       " 'the soul its destinies the real real purport of all these apparitions of the real in thee america the soul its destinies thou globe of globes',\n",
       " 'thou wonder nebulous',\n",
       " \"by many a throe of heat and cold convuls'd by these thyself solidifying thou mental moral orb thou new indeed new spiritual world\",\n",
       " \"the present holds thee not for such vast growth as thine for such unparallel'd flight as thine such brood as thine the future only holds thee and can hold thee\",\n",
       " 'a paumanok picture',\n",
       " \"two boats with nets lying off the sea beach quite still ten fishermen waiting they discover a thick school of mossbonkers they drop the join'd seine ends in the water the boats separate and row off each on its rounding course to the beach enclosing the mossbonkers the net is drawn in by a windlass by those who stop ashore some of the fishermen lounge in their boats others stand ankle deep in the water pois'd on strong legs the boats partly drawn up the water slapping against them strew'd on the sand in heaps and windrows well out from the water the green back'd spotted mossbonkers\",\n",
       " 'book xxxii',\n",
       " 'from noon to starry night',\n",
       " 'thou orb aloft full dazzling',\n",
       " 'thou orb aloft full dazzling',\n",
       " 'thou hot october noon',\n",
       " 'flooding with sheeny light the gray beach sand the sibilant near sea with vistas far and foam and tawny streaks and shades and spreading blue o sun of noon refulgent',\n",
       " 'my special word to thee',\n",
       " 'hear me illustrious',\n",
       " 'thy lover me for always i have loved thee even as basking babe then happy boy alone by some wood edge thy touching distant beams enough or man matured or young or old as now to thee i launch my invocation',\n",
       " 'thou canst not with thy dumbness me deceive i know before the fitting man all nature yields though answering not in words the skies trees hear his voice and thou o sun as for thy throes thy perturbations sudden breaks and shafts of flame gigantic i understand them i know those flames those perturbations well',\n",
       " \"thou that with fructifying heat and light o'er myriad farms o'er lands and waters north and south o'er mississippi's endless course o'er texas'grassy plains kanada's woods o'er all the globe that turns its face to thee shining in space thou that impartially enfoldest all not only continents seas thou that to grapes and weeds and little wild flowers givest so liberally shed shed thyself on mine and me with but a fleeting ray out of thy million millions strike through these chants\",\n",
       " 'nor only launch thy subtle dazzle and thy strength for these prepare the later afternoon of me myself prepare my lengthening shadows prepare my starry nights',\n",
       " 'faces',\n",
       " 'sauntering the pavement or riding the country by road faces',\n",
       " \"faces of friendship precision caution suavity ideality the spiritual prescient face the always welcome common benevolent face the face of the singing of music the grand faces of natural lawyers and judges broad at the back top the faces of hunters and fishers bulged at the brows the shaved blanch'd faces of orthodox citizens the pure extravagant yearning questioning artist's face the ugly face of some beautiful soul the handsome detested or despised face the sacred faces of infants the illuminated face of the mother of many children the face of an amour the face of veneration the face as of a dream the face of an immobile rock the face withdrawn of its good and bad a castrated face a wild hawk his wings clipp'd by the clipper a stallion that yielded at last to the thongs and knife of the gelder\",\n",
       " 'sauntering the pavement thus or crossing the ceaseless ferry faces and faces and faces i see them and complain not and am content with all',\n",
       " 'do you suppose i could be content with all if i thought them their own finale',\n",
       " 'this now is too lamentable a face for a man some abject louse asking leave to be cringing for it some milk nosed maggot blessing what lets it wrig to its hole',\n",
       " \"this face is a dog's snout sniffing for garbage snakes nest in that mouth i hear the sibilant threat\",\n",
       " 'this face is a haze more chill than the arctic sea its sleepy and wobbling icebergs crunch as they go',\n",
       " \"this is a face of bitter herbs this an emetic they need no label and more of the drug shelf laudanum caoutchouc or hog's lard\",\n",
       " \"this face is an epilepsy its wordless tongue gives out the unearthly cry its veins down the neck distend its eyes roll till they show nothing but their whites its teeth grit the palms of the hands are cut by the turn'd in nails the man falls struggling and foaming to the ground while he speculates well\",\n",
       " \"this face is bitten by vermin and worms and this is some murderer's knife with a half pull'd scabbard\",\n",
       " 'this face owes to the sexton his dismalest fee an unceasing death bell tolls there',\n",
       " \"features of my equals would you trick me with your creas'd and cadaverous march\",\n",
       " 'well you cannot trick me',\n",
       " \"i see your rounded never erased flow i see'neath the rims of your haggard and mean disguises\",\n",
       " \"splay and twist as you like poke with the tangling fores of fishes or rats you'll be unmuzzled you certainly will\",\n",
       " \"i saw the face of the most smear'd and slobbering idiot they had at the asylum and i knew for my consolation what they knew not i knew of the agents that emptied and broke my brother the same wait to clear the rubbish from the fallen tenement and i shall look again in a score or two of ages and i shall meet the real landlord perfect and unharm'd every inch as good as myself\",\n",
       " \"the lord advances and yet advances always the shadow in front always the reach'd hand bringing up the laggards\",\n",
       " 'out of this face emerge banners and horses o superb',\n",
       " 'i see what is coming i see the high pioneer caps see staves of runners clearing the way i hear victorious drums',\n",
       " \"this face is a life boat this is the face commanding and bearded it asks no odds of the rest this face is flavor'd fruit ready for eating this face of a healthy honest boy is the programme of all good\",\n",
       " 'these faces bear testimony slumbering or awake they show their descent from the master himself',\n",
       " 'off the word i have spoken i except not one red white black are all deific in each house is the ovum it comes forth after a thousand years',\n",
       " 'spots or cracks at the windows do not disturb me tall and sufficient stand behind and make signs to me i read the promise and patiently wait',\n",
       " \"this is a full grown lily's face she speaks to the limber hipp'd man near the garden pickets come here she blushingly cries come nigh to me limber hipp'd man stand at my side till i lean as high as i can upon you fill me with albescent honey bend down to me rub to me with your chafing beard rub to my breast and shoulders\",\n",
       " 'the old face of the mother of many children whist',\n",
       " 'i am fully content',\n",
       " \"lull'd and late is the smoke of the first day morning it hangs low over the rows of trees by the fences it hangs thin by the sassafras and wild cherry and cat brier under them\",\n",
       " 'i saw the rich ladies in full dress at the soiree i heard what the singers were singing so long heard who sprang in crimson youth from the white froth and the water blue',\n",
       " 'behold a woman',\n",
       " 'she looks out from her quaker cap her face is clearer and more beautiful than the sky',\n",
       " 'she sits in an armchair under the shaded porch of the farmhouse the sun just shines on her old white head',\n",
       " 'her ample gown is of cream hued linen her grandsons raised the flax and her grand daughters spun it with the distaff and the wheel',\n",
       " 'the melodious character of the earth the finish beyond which philosophy cannot go and does not wish to go the justified mother of men',\n",
       " 'the mystic trumpeter',\n",
       " 'hark some wild trumpeter some strange musician hovering unseen in air vibrates capricious tunes to night',\n",
       " 'i hear thee trumpeter listening alert i catch thy notes now pouring whirling like a tempest round me now low subdued now in the distance lost',\n",
       " \"come nearer bodiless one haply in thee resounds some dead composer haply thy pensive life was fill'd with aspirations high unform'd ideals waves oceans musical chaotically surging that now ecstatic ghost close to me bending thy cornet echoing pealing gives out to no one's ears but mine but freely gives to mine that i may thee translate\",\n",
       " \"blow trumpeter free and clear i follow thee while at thy liquid prelude glad serene the fretting world the streets the noisy hours of day withdraw a holy calm descends like dew upon me i walk in cool refreshing night the walks of paradise i scent the grass the moist air and the roses thy song expands my numb'd imbonded spirit thou freest launchest me floating and basking upon heaven's lake\",\n",
       " 'blow again trumpeter',\n",
       " 'and for my sensuous eyes bring the old pageants show the feudal world',\n",
       " 'what charm thy music works',\n",
       " \"thou makest pass before me ladies and cavaliers long dead barons are in their castle halls the troubadours are singing arm'd knights go forth to redress wrongs some in quest of the holy graal i see the tournament i see the contestants incased in heavy armor seated on stately champing horses i hear the shouts the sounds of blows and smiting steel i see the crusaders'tumultuous armies hark how the cymbals clang lo where the monks walk in advance bearing the cross on high\",\n",
       " 'blow again trumpeter',\n",
       " 'and for thy theme take now the enclosing theme of all the solvent and the setting love that is pulse of all the sustenance and the pang the heart of man and woman all for love no other theme but love knitting enclosing all diffusing love',\n",
       " 'o how the immortal phantoms crowd around me',\n",
       " 'i see the vast alembic ever working i see and know the flames that heat the world the glow the blush the beating hearts of lovers so blissful happy some and some so silent dark and nigh to death love that is all the earth to lovers love that mocks time and space love that is day and night love that is sun and moon and stars love that is crimson sumptuous sick with perfume no other words but words of love no other thought but love',\n",
       " \"blow again trumpeter conjure war's alarums\",\n",
       " \"swift to thy spell a shuddering hum like distant thunder rolls lo where the arm'd men hasten lo mid the clouds of dust the glint of bayonets i see the grime faced cannoneers i mark the rosy flash amid the smoke i hear the cracking of the guns nor war alone thy fearful music song wild player brings every sight of fear the deeds of ruthless brigands rapine murder i hear the cries for help\",\n",
       " 'i see ships foundering at sea i behold on deck and below deck the terrible tableaus',\n",
       " \"o trumpeter methinks i am myself the instrument thou playest thou melt'st my heart my brain thou movest drawest changest them at will and now thy sullen notes send darkness through me thou takest away all cheering light all hope i see the enslaved the overthrown the hurt the opprest of the whole earth i feel the measureless shame and humiliation of my race it becomes all mine mine too the revenges of humanity the wrongs of ages baffled feuds and hatreds utter defeat upon me weighs all lost the foe victorious yet'mid the ruins pride colossal stands unshaken to the last endurance resolution to the last\",\n",
       " 'now trumpeter for thy close vouchsafe a higher strain than any yet sing to my soul renew its languishing faith and hope rouse up my slow belief give me some vision of the future give me for once its prophecy and joy',\n",
       " 'o glad exulting culminating song',\n",
       " \"a vigor more than earth's is in thy notes marches of victory man disenthral'd the conqueror at last hymns to the universal god from universal man all joy\",\n",
       " 'a reborn race appears a perfect world all joy',\n",
       " 'women and men in wisdom innocence and health all joy',\n",
       " \"riotous laughing bacchanals fill'd with joy\",\n",
       " 'war sorrow suffering gone the rank earth purged nothing but joy left',\n",
       " \"the ocean fill'd with joy the atmosphere all joy\",\n",
       " 'joy',\n",
       " 'joy',\n",
       " 'in freedom worship love',\n",
       " 'joy in the ecstasy of life',\n",
       " 'enough to merely be',\n",
       " 'enough to breathe',\n",
       " 'joy',\n",
       " 'joy',\n",
       " 'all over joy',\n",
       " 'to a locomotive in winter',\n",
       " \"thee for my recitative thee in the driving storm even as now the snow the winter day declining thee in thy panoply thy measur'd dual throbbing and thy beat convulsive thy black cylindric body golden brass and silvery steel thy ponderous side bars parallel and connecting rods gyrating shuttling at thy sides thy metrical now swelling pant and roar now tapering in the distance thy great protruding head light fix'd in front thy long pale floating vapor pennants tinged with delicate purple the dense and murky clouds out belching from thy smoke stack thy knitted frame thy springs and valves the tremulous twinkle of thy wheels thy train of cars behind obedient merrily following through gale or calm now swift now slack yet steadily careering type of the modern emblem of motion and power pulse of the continent for once come serve the muse and merge in verse even as here i see thee with storm and buffeting gusts of wind and falling snow by day thy warning ringing bell to sound its notes by night thy silent signal lamps to swing\",\n",
       " 'fierce throated beauty',\n",
       " \"roll through my chant with all thy lawless music thy swinging lamps at night thy madly whistled laughter echoing rumbling like an earthquake rousing all law of thyself complete thine own track firmly holding no sweetness debonair of tearful harp or glib piano thine thy trills of shrieks by rocks and hills return'd launch'd o'er the prairies wide across the lakes to the free skies unpent and glad and strong\",\n",
       " 'o magnet south',\n",
       " 'o magnet south',\n",
       " 'o glistening perfumed south',\n",
       " 'my south',\n",
       " 'o quick mettle rich blood impulse and love',\n",
       " 'good and evil',\n",
       " 'o all dear to me',\n",
       " 'o dear to me my birth things all moving things and the trees where i was born the grains plants rivers dear to me my own slow sluggish rivers where they flow distant over flats of slivery sands or through swamps dear to me the roanoke the savannah the altamahaw the pedee the tombigbee the santee the coosa and the sabine o pensive far away wandering i return with my soul to haunt their banks again again in florida i float on transparent lakes i float on the okeechobee i cross the hummock land or through pleasant openings or dense forests i see the parrots in the woods i see the papaw tree and the blossoming titi again sailing in my coaster on deck i coast off georgia i coast up the carolinas i see where the live oak is growing i see where the yellow pine the scented bay tree the lemon and orange the cypress the graceful palmetto i pass rude sea headlands and enter pamlico sound through an inlet and dart my vision inland o the cotton plant',\n",
       " 'the growing fields of rice sugar hemp',\n",
       " \"the cactus guarded with thorns the laurel tree with large white flowers the range afar the richness and barrenness the old woods charged with mistletoe and trailing moss the piney odor and the gloom the awful natural stillness here in these dense swamps the freebooter carries his gun and the fugitive has his conceal'd hut o the strange fascination of these half known half impassable swamps infested by reptiles resounding with the bellow of the alligator the sad noises of the night owl and the wild cat and the whirr of the rattlesnake the mocking bird the american mimic singing all the forenoon singing through the moon lit night the humming bird the wild turkey the raccoon the opossum a kentucky corn field the tall graceful long leav'd corn slender flapping bright green with tassels with beautiful ears each well sheath'd in its husk o my heart\",\n",
       " 'o tender and fierce pangs i can stand them not i will depart o to be a virginian where i grew up',\n",
       " 'o to be a carolinian',\n",
       " 'o longings irrepressible',\n",
       " 'o i will go back to old tennessee and never wander more',\n",
       " 'mannahatta',\n",
       " 'i was asking for something specific and perfect for my city whereupon lo',\n",
       " 'upsprang the aboriginal name',\n",
       " \"now i see what there is in a name a word liquid sane unruly musical self sufficient i see that the word of my city is that word from of old because i see that word nested in nests of water bays superb rich hemm'd thick all around with sailships and steamships an island sixteen miles long solid founded numberless crowded streets high growths of iron slender strong light splendidly uprising toward clear skies tides swift and ample well loved by me toward sundown the flowing sea currents the little islands larger adjoining islands the heights the villas the countless masts the white shore steamers the lighters the ferry boats the black sea steamers well model'd the down town streets the jobbers'houses of business the houses of business of the ship merchants and money brokers the river streets immigrants arriving fifteen or twenty thousand in a week the carts hauling goods the manly race of drivers of horses the brown faced sailors the summer air the bright sun shining and the sailing clouds aloft the winter snows the sleigh bells the broken ice in the river passing along up or down with the flood tide or ebb tide the mechanics of the city the masters well form'd beautiful faced looking you straight in the eyes trottoirs throng'd vehicles broadway the women the shops and shows a million people manners free and superb open voices hospitality the most courageous and friendly young men city of hurried and sparkling waters\",\n",
       " 'city of spires and masts',\n",
       " 'city nested in bays',\n",
       " 'my city',\n",
       " 'all is truth',\n",
       " 'o me man of slack faith so long standing aloof denying portions so long only aware to day of compact all diffused truth discovering to day there is no lie or form of lie and can be none but grows as inevitably upon itself as the truth does upon itself or as any law of the earth or any natural production of the earth does',\n",
       " 'this is curious and may not be realized immediately but it must be realized i feel in myself that i represent falsehoods equally with the rest and that the universe does',\n",
       " \"where has fail'd a perfect return indifferent of lies or the truth\",\n",
       " 'is it upon the ground or in water or fire',\n",
       " 'or in the spirit of man',\n",
       " 'or in the meat and blood',\n",
       " 'meditating among liars and retreating sternly into myself i see that there are really no liars or lies after all and that nothing fails its perfect return and that what are called lies are perfect returns and that each thing exactly represents itself and what has preceded it and that the truth includes all and is compact just as much as space is compact and that there is no flaw or vacuum in the amount of the truth but that all is truth without exception and henceforth i will go celebrate any thing i see or am and sing and laugh and deny nothing',\n",
       " 'a riddle song',\n",
       " \"that which eludes this verse and any verse unheard by sharpest ear unform'd in clearest eye or cunningest mind nor lore nor fame nor happiness nor wealth and yet the pulse of every heart and life throughout the world incessantly which you and i and all pursuing ever ever miss open but still a secret the real of the real an illusion costless vouchsafed to each yet never man the owner which poets vainly seek to put in rhyme historians in prose which sculptor never chisel'd yet nor painter painted which vocalist never sung nor orator nor actor ever utter'd invoking here and now i challenge for my song\",\n",
       " \"indifferently 'mid public private haunts in solitude behind the mountain and the wood companion of the city's busiest streets through the assemblage it and its radiations constantly glide\",\n",
       " \"in looks of fair unconscious babes or strangely in the coffin'd dead or show of breaking dawn or stars by night as some dissolving delicate film of dreams hiding yet lingering\",\n",
       " 'two little breaths of words comprising it two words yet all from first to last comprised in it',\n",
       " 'how ardently for it',\n",
       " \"how many ships have sail'd and sunk for it\",\n",
       " \"how many travelers started from their homes and neer return'd\",\n",
       " 'how much of genius boldly staked and lost for it',\n",
       " \"what countless stores of beauty love ventur'd for it\",\n",
       " 'how all superbest deeds since time began are traceable to it and shall be to the end',\n",
       " 'how all heroic martyrdoms to it',\n",
       " 'how justified by it the horrors evils battles of the earth',\n",
       " \"how the bright fascinating lambent flames of it in every age and land have drawn men's eyes rich as a sunset on the norway coast the sky the islands and the cliffs or midnight's silent glowing northern lights unreachable\",\n",
       " \"haply god's riddle it so vague and yet so certain the soul for it and all the visible universe for it and heaven at last for it\",\n",
       " 'excelsior',\n",
       " 'who has gone farthest',\n",
       " 'for i would go farther and who has been just',\n",
       " 'for i would be the most just person of the earth and who most cautious',\n",
       " 'for i would be more cautious and who has been happiest',\n",
       " \"o i think it is i i think no one was ever happier than i and who has lavish'd all\",\n",
       " 'for i lavish constantly the best i have and who proudest',\n",
       " 'for i think i have reason to be the proudest son alive for i am the son of the brawny and tall topt city and who has been bold and true',\n",
       " 'for i would be the boldest and truest being of the universe and who benevolent',\n",
       " \"for i would show more benevolence than all the rest and who has receiv'd the love of the most friends\",\n",
       " \"for i know what it is to receive the passionate love of many friends and who possesses a perfect and enamour'd body\",\n",
       " \"for i do not believe any one possesses a more perfect or enamour'd body than mine and who thinks the amplest thoughts\",\n",
       " 'for i would surround those thoughts and who has made hymns fit for the earth',\n",
       " 'for i am mad with devouring ecstasy to make joyous hymns for the whole earth',\n",
       " 'ah poverties wincings and sulky retreats',\n",
       " \"ah poverties wincings and sulky retreats ah you foes that in conflict have overcome me for what is my life or any man's life but a conflict with foes the old the incessant war\",\n",
       " 'you degradations you tussle with passions and appetites you smarts from dissatisfied friendships ah wounds the sharpest of all',\n",
       " \"you toil of painful and choked articulations you meannesses you shallow tongue talks at tables my tongue the shallowest of any you broken resolutions you racking angers you smother'd ennuis\",\n",
       " \"ah think not you finally triumph my real self has yet to come forth it shall yet march forth o'ermastering till all lies beneath me it shall yet stand up the soldier of ultimate victory\",\n",
       " 'thoughts',\n",
       " 'of public opinion of a calm and cool fiat sooner or later how impassive',\n",
       " 'how certain and final',\n",
       " 'of the president with pale face asking secretly to himself what will the people say at last',\n",
       " 'of the frivolous judge of the corrupt congressman governor mayor of such as these standing helpless and exposed of the mumbling and screaming priest soon soon deserted of the lessening year by year of venerableness and of the dicta of officers statutes pulpits schools of the rising forever taller and stronger and broader of the intuitions of men and women and of self esteem and personality of the true new world of the democracies resplendent en masse of the conformity of politics armies navies to them of the shining sun by them of the inherent light greater than the rest of the envelopment of all by them and the effusion of all from them',\n",
       " 'mediums',\n",
       " 'they shall arise in the states they shall report nature laws physiology and happiness they shall illustrate democracy and the kosmos they shall be alimentive amative perceptive they shall be complete women and men their pose brawny and supple their drink water their blood clean and clear they shall fully enjoy materialism and the sight of products they shall enjoy the sight of the beef lumber bread stuffs of chicago the great city',\n",
       " \"they shall train themselves to go in public to become orators and oratresses strong and sweet shall their tongues be poems and materials of poems shall come from their lives they shall be makers and finders of them and of their works shall emerge divine conveyers to convey gospels characters events retrospections shall be convey'd in gospels trees animals waters shall be convey'd death the future the invisible faith shall all be convey'd\",\n",
       " 'weave in my hardy life',\n",
       " \"weave in weave in my hardy life weave yet a soldier strong and full for great campaigns to come weave in red blood weave sinews in like ropes the senses sight weave in weave lasting sure weave day and night the wet the warp incessant weave tire not we know not what the use o life nor know the aim the end nor really aught we know but know the work the need goes on and shall go on the death envelop'd march of peace as well as war goes on for great campaigns of peace the same the wiry threads to weave we know not why or what yet weave forever weave\",\n",
       " 'spain',\n",
       " \"out of the murk of heaviest clouds out of the feudal wrecks and heap'd up skeletons of kings out of that old entire european debris the shatter'd mummeries ruin'd cathedrals crumble of palaces tombs of priests lo freedom's features fresh undimm'd look forth the same immortal face looks forth a glimpse as of thy mother's face columbia a flash significant as of a sword beaming towards thee\",\n",
       " \"nor think we forget thee maternal lag'd'st thou so long\",\n",
       " 'shall the clouds close again upon thee',\n",
       " \"ah but thou hast thyself now appear'd to us we know thee thou hast given us a sure proof the glimpse of thyself thou waitest there as everywhere thy time\",\n",
       " \"by broad potomac's shore\",\n",
       " \"by broad potomac's shore again old tongue still uttering still ejaculating canst never cease this babble\",\n",
       " \"again old heart so gay again to you your sense the full flush spring returning again the freshness and the odors again virginia's summer sky pellucid blue and silver again the forenoon purple of the hills again the deathless grass so noiseless soft and green again the blood red roses blooming\",\n",
       " 'perfume this book of mine o blood red roses',\n",
       " 'lave subtly with your waters every line potomac',\n",
       " 'give me of you o spring before i close to put between its pages',\n",
       " 'o forenoon purple of the hills before i close of you',\n",
       " 'o deathless grass of you',\n",
       " \"from far dakota's canyons june\",\n",
       " \"from far dakota's canyons lands of the wild ravine the dusky sioux the lonesome stretch the silence haply to day a mournful wall haply a trumpet note for heroes\",\n",
       " \"the battle bulletin the indian ambuscade the craft the fatal environment the cavalry companies fighting to the last in sternest heroism in the midst of their little circle with their slaughter'd horses for breastworks the fall of custer and all his officers and men\",\n",
       " \"continues yet the old old legend of our race the loftiest of life upheld by death the ancient banner perfectly maintain'd o lesson opportune o how i welcome thee\",\n",
       " \"as sitting in dark days lone sulky through the time's thick murk looking in vain for light for hope from unsuspected parts a fierce and momentary proof the sun there at the centre though conceal'd electric life forever at the centre breaks forth a lightning flash\",\n",
       " 'thou of the tawny flowing hair in battle i erewhile saw with erect head pressing ever in front bearing a bright sword in thy hand now ending well in death the splendid fever of thy deeds i bring no dirge for it or thee i bring a glad triumphal sonnet desperate and glorious aye in defeat most desperate most glorious after thy many battles in which never yielding up a gun or a color leaving behind thee a memory sweet to soldiers thou yieldest up thyself',\n",
       " 'old war dreams',\n",
       " 'in midnight sleep of many a face of anguish of the look at first of the mortally wounded of that indescribable look of the dead on their backs with arms extended wide i dream i dream i dream',\n",
       " 'of scenes of nature fields and mountains of skies so beauteous after a storm and at night the moon so unearthly bright shining sweetly shining down where we dig the trenches and gather the heaps i dream i dream i dream',\n",
       " \"long have they pass'd faces and trenches and fields where through the carnage i moved with a callous composure or away from the fallen onward i sped at the time but now of their forms at night i dream i dream i dream\",\n",
       " 'thick sprinkled bunting',\n",
       " 'thick sprinkled bunting',\n",
       " 'flag of stars',\n",
       " \"long yet your road fateful flag long yet your road and lined with bloody death for the prize i see at issue at last is the world all its ships and shores i see interwoven with your threads greedy banner dream'd again the flags of kings highest borne to flaunt unrival'd\",\n",
       " 'o hasten flag of man o with sure and steady step passing highest flags of kings walk supreme to the heavens mighty symbol run up above them all flag of stars',\n",
       " 'thick sprinkled bunting',\n",
       " \"what best i see in thee to u s g return'd from his world's tour\",\n",
       " \"what best i see in thee is not that where thou mov'st down history's great highways ever undimm'd by time shoots warlike victory's dazzle or that thou sat'st where washington sat ruling the land in peace or thou the man whom feudal europe feted venerable asia swarm'd upon who walk'd with kings with even pace the round world's promenade but that in foreign lands in all thy walks with kings those prairie sovereigns of the west kansas missouri illinois ohio's indiana's millions comrades farmers soldiers all to the front invisibly with thee walking with kings with even pace the round world's promenade were all so justified\",\n",
       " \"spirit that form'd this scene written in platte canyon colorado\",\n",
       " \"spirit that form'd this scene these tumbled rock piles grim and red these reckless heaven ambitious peaks these gorges turbulent clear streams this naked freshness these formless wild arrays for reasons of their own i know thee savage spirit we have communed together mine too such wild arrays for reasons of their own wast charged against my chants they had forgotten art\",\n",
       " 'to fuse within themselves its rules precise and delicatesse',\n",
       " \"the lyrist's measur'd beat the wrought out temple's grace column and polish'd arch forgot\",\n",
       " \"but thou that revelest here spirit that form'd this scene they have remember'd thee\",\n",
       " 'as i walk these broad majestic days',\n",
       " \"as i walk these broad majestic days of peace for the war the struggle of blood finish'd wherein o terrific ideal against vast odds erewhile having gloriously won now thou stridest on yet perhaps in time toward denser wars perhaps to engage in time in still more dreadful contests dangers longer campaigns and crises labors beyond all others around me i hear that eclat of the world politics produce the announcements of recognized things science the approved growth of cities and the spread of inventions\",\n",
       " 'i see the ships they will last a few years the vast factories with their foremen and workmen and hear the indorsement of all and do not object to it',\n",
       " 'but i too announce solid things science ships politics cities factories are not nothing like a grand procession to music of distant bugles pouring triumphantly moving and grander heaving in sight they stand for realities all is as it should be',\n",
       " 'then my realities what else is so real as mine',\n",
       " 'libertad and the divine average freedom to every slave on the face of the earth the rapt promises and lumine of seers the spiritual world these centuries lasting songs and our visions the visions of poets the most solid announcements of any',\n",
       " 'a clear midnight',\n",
       " 'this is thy hour o soul thy free flight into the wordless away from books away from art the day erased the lesson done thee fully forth emerging silent gazing pondering the themes thou lovest best night sleep death and the stars',\n",
       " 'book xxxiii',\n",
       " 'songs of parting',\n",
       " 'as the time draws nigh',\n",
       " 'as the time draws nigh glooming a cloud a dread beyond of i know not what darkens me',\n",
       " 'i shall go forth i shall traverse the states awhile but i cannot tell whither or how long perhaps soon some day or night while i am singing my voice will suddenly cease',\n",
       " 'o book o chants',\n",
       " 'must all then amount to but this',\n",
       " 'must we barely arrive at this beginning of us',\n",
       " \"and yet it is enough o soul o soul we have positively appear'd that is enough\",\n",
       " 'years of the modern',\n",
       " 'years of the modern',\n",
       " \"years of the unperform'd\",\n",
       " \"your horizon rises i see it parting away for more august dramas i see not america only not only liberty's nation but other nations preparing i see tremendous entrances and exits new combinations the solidarity of races i see that force advancing with irresistible power on the world's stage have the old forces the old wars played their parts\",\n",
       " 'are the acts suitable to them closed',\n",
       " \"i see freedom completely arm'd and victorious and very haughty with law on one side and peace on the other a stupendous trio all issuing forth against the idea of caste what historic denouements are these we so rapidly approach\",\n",
       " \"i see men marching and countermarching by swift millions i see the frontiers and boundaries of the old aristocracies broken i see the landmarks of european kings removed i see this day the people beginning their landmarks all others give way never were such sharp questions ask'd as this day never was average man his soul more energetic more like a god lo how he urges and urges leaving the masses no rest\",\n",
       " 'his daring foot is on land and sea everywhere he colonizes the pacific the archipelagoes with the steamship the electric telegraph the newspaper the wholesale engines of war with these and the world spreading factories he interlinks all geography all lands what whispers are these o lands running ahead of you passing under the seas',\n",
       " 'are all nations communing',\n",
       " 'is there going to be but one heart to the globe',\n",
       " 'is humanity forming en masse',\n",
       " 'for lo tyrants tremble crowns grow dim the earth restive confronts a new era perhaps a general divine war no one knows what will happen next such portents fill the days and nights years prophetical',\n",
       " 'the space ahead as i walk as i vainly try to pierce it is full of phantoms unborn deeds things soon to be project their shapes around me this incredible rush and heat this strange ecstatic fever of dreams o years',\n",
       " 'your dreams o years how they penetrate through me',\n",
       " \"i know not whether i sleep or wake the perform'd america and europe grow dim retiring in shadow behind me the unperform'd more gigantic than ever advance advance upon me\",\n",
       " 'ashes of soldiers',\n",
       " 'ashes of soldiers south or north as i muse retrospective murmuring a chant in thought the war resumes again to my sense your shapes and again the advance of the armies',\n",
       " 'noiseless as mists and vapors from their graves in the trenches ascending from cemeteries all through virginia and tennessee from every point of the compass out of the countless graves in wafted clouds in myriads large or squads of twos or threes or single ones they come and silently gather round me',\n",
       " 'now sound no note o trumpeters not at the head of my cavalry parading on spirited horses with sabres drawn and glistening and carbines by their thighs ah my brave horsemen',\n",
       " 'my handsome tan faced horsemen',\n",
       " 'what life what joy and pride with all the perils were yours',\n",
       " 'nor you drummers neither at reveille at dawn nor the long roll alarming the camp nor even the muffled beat for burial nothing from you this time o drummers bearing my warlike drums',\n",
       " 'but aside from these and the marts of wealth and the crowded promenade admitting around me comrades close unseen by the rest and voiceless the slain elate and alive again the dust and debris alive i chant this chant of my silent soul in the name of all dead soldiers',\n",
       " 'faces so pale with wondrous eyes very dear gather closer yet draw close but speak not',\n",
       " 'phantoms of countless lost invisible to the rest henceforth become my companions follow me ever desert me not while i live',\n",
       " 'sweet are the blooming cheeks of the living sweet are the musical voices sounding but sweet ah sweet are the dead with their silent eyes',\n",
       " 'dearest comrades all is over and long gone but love is not over and what love o comrades',\n",
       " 'perfume from battle fields rising up from the foetor arising',\n",
       " 'perfume therefore my chant o love immortal love give me to bathe the memories of all dead soldiers shroud them embalm them cover them all over with tender pride',\n",
       " 'perfume all make all wholesome make these ashes to nourish and blossom o love solve all fructify all with the last chemistry',\n",
       " 'give me exhaustless make me a fountain that i exhale love from me wherever i go like a moist perennial dew for the ashes of all dead soldiers south or north',\n",
       " 'thoughts',\n",
       " \"of these years i sing how they pass and have pass'd through convuls'd pains as through parturitions how america illustrates birth muscular youth the promise the sure fulfilment the absolute success despite of people illustrates evil as well as good the vehement struggle so fierce for unity in one's self how many hold despairingly yet to the models departed caste myths obedience compulsion and to infidelity how few see the arrived models the athletes the western states or see freedom or spirituality or hold any faith in results but i see the athletes and i see the results of the war glorious and inevitable and they again leading to other results\",\n",
       " \"how the great cities appear how the democratic masses turbulent willful as i love them how the whirl the contest the wrestle of evil with good the sounding and resounding keep on and on how society waits unform'd and is for a while between things ended and things begun how america is the continent of glories and of the triumph of freedom and of the democracies and of the fruits of society and of all that is begun and how the states are complete in themselves and how all triumphs and glories are complete in themselves to lead onward and how these of mine and of the states will in their turn be convuls'd and serve other parturitions and transitions and how all people sights combinations the democratic masses too serve and how every fact and war itself with all its horrors serves and how now or at any time each serves the exquisite transition of death\",\n",
       " \"of seeds dropping into the ground of births of the steady concentration of america inland upward to impregnable and swarming places of what indiana kentucky arkansas and the rest are to be of what a few years will show there in nebraska colorado nevada and the rest or afar mounting the northern pacific to sitka or aliaska of what the feuillage of america is the preparation for and of what all sights north south east and west are of this union welded in blood of the solemn price paid of the unnamed lost ever present in my mind of the temporary use of materials for identity's sake of the present passing departing of the growth of completer men than any yet of all sloping down there where the fresh free giver the mother the mississippi flows of mighty inland cities yet unsurvey'd and unsuspected of the new and good names of the modern developments of inalienable homesteads of a free and original life there of simple diet and clean and sweet blood of litheness majestic faces clear eyes and perfect physique there of immense spiritual results future years far west each side of the anahuacs of these songs well understood there being made for that area of the native scorn of grossness and gain there o it lurks in me night and day what is gain after all to savageness and freedom\",\n",
       " 'song at sunset',\n",
       " 'splendor of ended day floating and filling me hour prophetic hour resuming the past inflating my throat you divine average you earth and life till the last ray gleams i sing',\n",
       " 'open mouth of my soul uttering gladness eyes of my soul seeing perfection natural life of me faithfully praising things corroborating forever the triumph of things',\n",
       " 'illustrious every one',\n",
       " \"illustrious what we name space sphere of unnumber'd spirits illustrious the mystery of motion in all beings even the tiniest insect illustrious the attribute of speech the senses the body illustrious the passing light illustrious the pale reflection on the new moon in the western sky illustrious whatever i see or hear or touch to the last\",\n",
       " 'good in all in the satisfaction and aplomb of animals in the annual return of the seasons in the hilarity of youth in the strength and flush of manhood in the grandeur and exquisiteness of old age in the superb vistas of death',\n",
       " 'wonderful to depart',\n",
       " 'wonderful to be here',\n",
       " 'the heart to jet the all alike and innocent blood',\n",
       " 'to breathe the air how delicious',\n",
       " 'to speak to walk to seize something by the hand',\n",
       " \"to prepare for sleep for bed to look on my rose color'd flesh\",\n",
       " 'to be conscious of my body so satisfied so large',\n",
       " 'to be this incredible god i am',\n",
       " 'to have gone forth among other gods these men and women i love',\n",
       " 'wonderful how i celebrate you and myself how my thoughts play subtly at the spectacles around',\n",
       " 'how the clouds pass silently overhead',\n",
       " 'how the earth darts on and on',\n",
       " 'and how the sun moon stars dart on and on',\n",
       " 'how the water sports and sings',\n",
       " 'surely it is alive',\n",
       " 'how the trees rise and stand up with strong trunks with branches and leaves',\n",
       " 'surely there is something more in each of the trees some living soul',\n",
       " 'o amazement of things even the least particle',\n",
       " 'o spirituality of things',\n",
       " 'o strain musical flowing through ages and continents now reaching me and america',\n",
       " 'i take your strong chords intersperse them and cheerfully pass them forward',\n",
       " \"i too carol the sun usher'd or at noon or as now setting i too throb to the brain and beauty of the earth and of all the growths of the earth i too have felt the resistless call of myself\",\n",
       " \"as i steam'd down the mississippi as i wander'd over the prairies as i have lived as i have look'd through my windows my eyes as i went forth in the morning as i beheld the light breaking in the east as i bathed on the beach of the eastern sea and again on the beach of the western sea as i roam'd the streets of inland chicago whatever streets i have roam'd or cities or silent woods or even amid the sights of war wherever i have been i have charged myself with contentment and triumph\",\n",
       " 'i sing to the last the equalities modern or old i sing the endless finales of things i say nature continues glory continues i praise with electric voice for i do not see one imperfection in the universe and i do not see one cause or result lamentable at last in the universe',\n",
       " 'o setting sun',\n",
       " 'though the time has come i still warble under you if none else does unmitigated adoration',\n",
       " 'as at thy portals also death',\n",
       " 'as at thy portals also death entering thy sovereign dim illimitable grounds to memories of my mother to the divine blending maternity to her buried and gone yet buried not gone not from me i see again the calm benignant face fresh and beautiful still i sit by the form in the coffin i kiss and kiss convulsively again the sweet old lips the cheeks the closed eyes in the coffin to her the ideal woman practical spiritual of all of earth life love to me the best i grave a monumental line before i go amid these songs and set a tombstone here',\n",
       " 'my legacy',\n",
       " 'the business man the acquirer vast after assiduous years surveying results preparing for departure devises houses and lands to his children bequeaths stocks goods funds for a school or hospital leaves money to certain companions to buy tokens souvenirs of gems and gold',\n",
       " 'but i my life surveying closing with nothing to show to devise from its idle years nor houses nor lands nor tokens of gems or gold for my friends yet certain remembrances of the war for you and after you and little souvenirs of camps and soldiers with my love i bind together and bequeath in this bundle of songs',\n",
       " 'pensive on her dead gazing',\n",
       " \"pensive on her dead gazing i heard the mother of all desperate on the torn bodies on the forms covering the battlefields gazing as the last gun ceased but the scent of the powder smoke linger'd as she call'd to her earth with mournful voice while she stalk'd absorb them well o my earth she cried i charge you lose not my sons lose not an atom and you streams absorb them well taking their dear blood and you local spots and you airs that swim above lightly impalpable and all you essences of soil and growth and you my rivers'depths and you mountain sides and the woods where my dear children's blood trickling redden'd and you trees down in your roots to bequeath to all future trees my dead absorb or south or north my young men's bodies absorb and their precious precious blood which holding in trust for me faithfully back again give me many a year hence in unseen essence and odor of surface and grass centuries hence in blowing airs from the fields back again give me my darlings give my immortal heroes exhale me them centuries hence breathe me their breath let not an atom be lost o years and graves\",\n",
       " 'o air and soil',\n",
       " 'o my dead an aroma sweet',\n",
       " 'exhale them perennial sweet death years centuries hence',\n",
       " 'camps of green',\n",
       " \"nor alone those camps of white old comrades of the wars when as order'd forward after a long march footsore and weary soon as the light lessens we halt for the night some of us so fatigued carrying the gun and knapsack dropping asleep in our tracks others pitching the little tents and the fires lit up begin to sparkle outposts of pickets posted surrounding alert through the dark and a word provided for countersign careful for safety till to the call of the drummers at daybreak loudly beating the drums we rise up refresh'd the night and sleep pass'd over and resume our journey or proceed to battle\",\n",
       " \"lo the camps of the tents of green which the days of peace keep filling and the days of war keep filling with a mystic army is it too order'd forward\",\n",
       " 'is it too only halting awhile till night and sleep pass over',\n",
       " 'now in those camps of green in their tents dotting the world in the parents children husbands wives in them in the old and young sleeping under the sunlight sleeping under the moonlight content and silent there at last behold the mighty bivouac field and waiting camp of all of the corps and generals all and the president over the corps and generals all and of each of us o soldiers and of each and all in the ranks we fought there without hatred we all all meet',\n",
       " 'for presently o soldiers we too camp in our place in the bivouac camps of green but we need not provide for outposts nor word for the countersign nor drummer to beat the morning drum',\n",
       " 'the sobbing of the bells midnight sept',\n",
       " 'the sobbing of the bells the sudden death news everywhere the slumberers rouse the rapport of the people full well they know that message in the darkness full well return respond within their breasts their brains the sad reverberations the passionate toll and clang city to city joining sounding passing those heart beats of a nation in the night',\n",
       " 'as they draw to a close',\n",
       " 'as they draw to a close of what underlies the precedent songs of my aims in them of the seed i have sought to plant in them of joy sweet joy through many a year in them for them for them have i lived in them my work is done of many an aspiration fond of many a dream and plan through space and time fused in a chant and the flowing eternal identity to nature encompassing these encompassing god to the joyous electric all to the sense of death and accepting exulting in death in its turn the same as life the entrance of man to sing to compact you ye parted diverse lives to put rapport the mountains and rocks and streams and the winds of the north and the forests of oak and pine with you o soul',\n",
       " 'joy shipmate joy',\n",
       " 'joy shipmate joy',\n",
       " \"pleas'd to my soul at death i cry our life is closed our life begins the long long anchorage we leave the ship is clear at last she leaps\",\n",
       " 'she swiftly courses from the shore joy shipmate joy',\n",
       " 'the untold want',\n",
       " \"the untold want by life and land ne'er granted now voyager sail thou forth to seek and find\",\n",
       " 'portals',\n",
       " 'what are those of the known but to ascend and enter the unknown',\n",
       " 'and what are those of life but for death',\n",
       " 'these carols',\n",
       " 'these carols sung to cheer my passage through the world i see for completion i dedicate to the invisible world',\n",
       " 'now finale to the shore',\n",
       " \"now finale to the shore now land and life finale and farewell now voyager depart much much for thee is yet in store often enough hast thou adventur'd o'er the seas cautiously cruising studying the charts duly again to port and hawser's tie returning but now obey thy cherish'd secret wish embrace thy friends leave all in order to port and hawser's tie no more returning depart upon thy endless cruise old sailor\",\n",
       " 'so long',\n",
       " 'to conclude i announce what comes after me',\n",
       " 'i remember i said before my leaves sprang at all i would raise my voice jocund and strong with reference to consummations',\n",
       " \"when america does what was promis'd when through these states walk a hundred millions of superb persons when the rest part away for superb persons and contribute to them when breeds of the most perfect mothers denote america then to me and mine our due fruition\",\n",
       " \"i have press'd through in my own right i have sung the body and the soul war and peace have i sung and the songs of life and death and the songs of birth and shown that there are many births\",\n",
       " \"i have offer'd my style to every one i have journey'd with confident step while my pleasure is yet at the full i whisper so long\",\n",
       " \"and take the young woman's hand and the young man's hand for the last time\",\n",
       " 'i announce natural persons to arise i announce justice triumphant i announce uncompromising liberty and equality i announce the justification of candor and the justification of pride',\n",
       " 'i announce that the identity of these states is a single identity only i announce the union more and more compact indissoluble i announce splendors and majesties to make all the previous politics of the earth insignificant',\n",
       " \"i announce adhesiveness i say it shall be limitless unloosen'd i say you shall yet find the friend you were looking for\",\n",
       " 'i announce a man or woman coming perhaps you are the one so long',\n",
       " \"i announce the great individual fluid as nature chaste affectionate compassionate fully arm'd\",\n",
       " 'i announce a life that shall be copious vehement spiritual bold i announce an end that shall lightly and joyfully meet its translation',\n",
       " 'i announce myriads of youths beautiful gigantic sweet blooded i announce a race of splendid and savage old men',\n",
       " 'o thicker and faster so long',\n",
       " 'o crowding too close upon me i foresee too much it means more than i thought it appears to me i am dying',\n",
       " 'hasten throat and sound your last salute me salute the days once more',\n",
       " 'peal the old cry once more',\n",
       " \"screaming electric the atmosphere using at random glancing each as i notice absorbing swiftly on but a little while alighting curious envelop'd messages delivering sparkles hot seed ethereal down in the dirt dropping myself unknowing my commission obeying to question it never daring to ages and ages yet the growth of the seed leaving to troops out of the war arising they the tasks i have set promulging to women certain whispers of myself bequeathing their affection me more clearly explaining to young men my problems offering no dallier i i the muscle of their brains trying so i pass a little time vocal visible contrary afterward a melodious echo passionately bent for death making me really undying the best of me then when no longer visible for toward that i have been incessantly preparing\",\n",
       " 'what is there more that i lag and pause and crouch extended with unshut mouth',\n",
       " 'is there a single final farewell',\n",
       " 'my songs cease i abandon them from behind the screen where i hid i advance personally solely to you',\n",
       " 'camerado this is no book who touches this touches a man is it night',\n",
       " 'are we here together alone',\n",
       " 'it is i you hold and who holds you i spring from the pages into your arms decease calls me forth',\n",
       " 'o how your fingers drowse me your breath falls around me like dew your pulse lulls the tympans of my ears i feel immerged from head to foot delicious enough',\n",
       " \"enough o deed impromptu and secret enough o gliding present enough o summ'd up past\",\n",
       " \"dear friend whoever you are take this kiss i give it especially to you do not forget me i feel like one who has done work for the day to retire awhile i receive now again of my many translations from my avataras ascending while others doubtless await me an unknown sphere more real than i dream'd more direct darts awakening rays about me so long\",\n",
       " 'remember my words i may again return i love you i depart from materials i am as one disembodied triumphant dead',\n",
       " 'book xxxiv',\n",
       " 'sands at seventy',\n",
       " 'mannahatta',\n",
       " \"my city's fit and noble name resumed choice aboriginal name with marvellous beauty meaning a rocky founded island shores where ever gayly dash the coming going hurrying sea waves\",\n",
       " 'paumanok',\n",
       " 'sea beauty',\n",
       " \"stretch'd and basking\",\n",
       " \"one side thy inland ocean laving broad with copious commerce steamers sails and one the atlantic's wind caressing fierce or gentle mighty hulls dark gliding in the distance\",\n",
       " 'isle of sweet brooks of drinking water healthy air and soil',\n",
       " 'isle of the salty shore and breeze and brine',\n",
       " 'from montauk point',\n",
       " \"i stand as on some mighty eagle's beak eastward the sea absorbing viewing nothing but sea and sky the tossing waves the foam the ships in the distance the wild unrest the snowy curling caps that inbound urge and urge of waves seeking the shores forever\",\n",
       " \"to those who've fail'd\",\n",
       " \"to those who've fail'd in aspiration vast to unnam'd soldiers fallen in front on the lead to calm devoted engineers to over ardent travelers to pilots on their ships to many a lofty song and picture without recognition i'd rear laurel cover'd monument high high above the rest to all cut off before their time possess'd by some strange spirit of fire quench'd by an early death\",\n",
       " 'a carol closing sixty nine',\n",
       " \"a carol closing sixty nine a resume a repetition my lines in joy and hope continuing on the same of ye o god life nature freedom poetry of you my land your rivers prairies states you mottled flag i love your aggregate retain'd entire of north south east and west your items all of me myself the jocund heart yet beating in my breast the body wreck'd old poor and paralyzed the strange inertia falling pall like round me the burning fires down in my sluggish blood not yet extinct the undiminish'd faith the groups of loving friends\",\n",
       " 'the bravest soldiers',\n",
       " \"brave brave were the soldiers high named to day who lived through the fight but the bravest press'd to the front and fell unnamed unknown\",\n",
       " 'a font of type',\n",
       " \"this latent mine these unlaunch'd voices passionate powers wrath argument or praise or comic leer or prayer devout not nonpareil brevier bourgeois long primer merely these ocean waves arousable to fury and to death or sooth'd to ease and sheeny sun and sleep within the pallid slivers slumbering\",\n",
       " 'as i sit writing here',\n",
       " 'as i sit writing here sick and grown old not my least burden is that dulness of the years querilities ungracious glooms aches lethargy constipation whimpering ennui may filter in my dally songs',\n",
       " 'my canary bird',\n",
       " 'did we count great o soul to penetrate the themes of mighty books absorbing deep and full from thoughts plays speculations',\n",
       " 'but now from thee to me caged bird to feel thy joyous warble filling the air the lonesome room the long forenoon is it not just as great o soul',\n",
       " 'queries to my seventieth year',\n",
       " 'approaching nearing curious thou dim uncertain spectre bringest thou life or death',\n",
       " 'strength weakness blindness more paralysis and heavier',\n",
       " 'or placid skies and sun',\n",
       " 'wilt stir the waters yet',\n",
       " 'or haply cut me short for good',\n",
       " \"or leave me here as now dull parrot like and old with crack'd voice harping screeching\",\n",
       " 'the wallabout martyrs',\n",
       " 'greater than memory of achilles or ulysses more more by far to thee than tomb of alexander those cart loads of old charnel ashes scales and splints of mouldy bones once living men once resolute courage aspiration strength the stepping stones to thee to day and here america',\n",
       " 'the first dandelion',\n",
       " \"simple and fresh and fair from winter's close emerging as if no artifice of fashion business politics had ever been forth from its sunny nook of shelter'd grass innocent golden calm as the dawn the spring's first dandelion shows its trustful face\",\n",
       " 'america',\n",
       " \"centre of equal daughters equal sons all all alike endear'd grown ungrown young or old strong ample fair enduring capable rich perennial with the earth with freedom law and love a grand sane towering seated mother chair'd in the adamant of time\",\n",
       " 'memories',\n",
       " 'how sweet the silent backward tracings',\n",
       " 'the wanderings as in dreams the meditation of old times resumed their loves joys persons voyages',\n",
       " 'to day and thee',\n",
       " \"the appointed winners in a long stretch'd game the course of time and nations egypt india greece and rome the past entire with all its heroes histories arts experiments its store of songs inventions voyages teachers books garner'd for now and thee to think of it\",\n",
       " 'the heirdom all converged in thee',\n",
       " 'after the dazzle of day',\n",
       " 'after the dazzle of day is gone only the dark dark night shows to my eyes the stars after the clangor of organ majestic or chorus or perfect band silent athwart my soul moves the symphony true',\n",
       " 'abraham lincoln born feb',\n",
       " 'to day from each and all a breath of prayer a pulse of thought to memory of him to birth of him',\n",
       " \"out of may's shows selected\",\n",
       " \"apple orchards the trees all cover'd with blossoms wheat fields carpeted far and near in vital emerald green the eternal exhaustless freshness of each early morning the yellow golden transparent haze of the warm afternoon sun the aspiring lilac bushes with profuse purple or white flowers\",\n",
       " 'halcyon days',\n",
       " \"not from successful love alone nor wealth nor honor'd middle age nor victories of politics or war but as life wanes and all the turbulent passions calm as gorgeous vapory silent hues cover the evening sky as softness fulness rest suffuse the frame like freshier balmier air as the days take on a mellower light and the apple at last hangs really finish'd and indolent ripe on the tree then for the teeming quietest happiest days of all\",\n",
       " 'the brooding and blissful halcyon days',\n",
       " 'fancies at navesink',\n",
       " 'i the pilot in the mist',\n",
       " \"steaming the northern rapids an old st lawrence reminiscence a sudden memory flash comes back i know not why here waiting for the sunrise gazing from this hill again'tis just at morning a heavy haze contends with daybreak again the trembling laboring vessel veers me i press through foam dash'd rocks that almost touch me again i mark where aft the small thin indian helmsman looms in the mist with brow elate and governing hand\",\n",
       " 'ii had i the choice',\n",
       " \"had i the choice to tally greatest bards to limn their portraits stately beautiful and emulate at will homer with all his wars and warriors hector achilles ajax or shakspere's woe entangled hamlet lear othello tennyson's fair ladies metre or wit the best or choice conceit to wield in perfect rhyme delight of singers these these o sea all these i'd gladly barter would you the undulation of one wave its trick to me transfer or breathe one breath of yours upon my verse and leave its odor there\",\n",
       " 'iii you tides with ceaseless swell',\n",
       " 'you tides with ceaseless swell',\n",
       " 'you power that does this work',\n",
       " \"you unseen force centripetal centrifugal through space's spread rapport of sun moon earth and all the constellations what are the messages by you from distant stars to us\",\n",
       " \"what sirius '\",\n",
       " \"what capella's\",\n",
       " 'what central heart and you the pulse vivifies all',\n",
       " 'what boundless aggregate of all',\n",
       " 'what subtle indirection and significance in you',\n",
       " 'what clue to all in you',\n",
       " 'what fluid vast identity holding the universe with all its parts as one as sailing in a ship',\n",
       " 'iv last of ebb and daylight waning',\n",
       " \"last of ebb and daylight waning scented sea cool landward making smells of sedge and salt incoming with many a half caught voice sent up from the eddies many a muffled confession many a sob and whisper'd word as of speakers far or hid\",\n",
       " 'how they sweep down and out',\n",
       " 'how they mutter',\n",
       " \"poets unnamed artists greatest of any with cherish'd lost designs love's unresponse a chorus of age's complaints hope's last words some suicide's despairing cry away to the boundless waste and never again return\",\n",
       " 'on to oblivion then',\n",
       " 'on on and do your part ye burying ebbing tide',\n",
       " 'on for your time ye furious debouche',\n",
       " 'v and yet not you alone',\n",
       " \"and yet not you alone twilight and burying ebb nor you ye lost designs alone nor failures aspirations i know divine deceitful ones your glamour's seeming duly by you from you the tide and light again duly the hinges turning duly the needed discord parts offsetting blending weaving from you from sleep night death itself the rhythmus of birth eternal\",\n",
       " 'vi proudly the flood comes in',\n",
       " \"proudly the flood comes in shouting foaming advancing long it holds at the high with bosom broad outswelling all throbs dilates the farms woods streets of cities workmen at work mainsails topsails jibs appear in the offing steamers'pennants of smoke and under the forenoon sun freighted with human lives gaily the outward bound gaily the inward bound flaunting from many a spar the flag i love\",\n",
       " 'vii by that long scan of waves',\n",
       " \"by that long scan of waves myself call'd back resumed upon myself in every crest some undulating light or shade some retrospect joys travels studies silent panoramas scenes ephemeral the long past war the battles hospital sights the wounded and the dead myself through every by gone phase my idle youth old age at hand my three score years of life summ'd up and more and past by any grand ideal tried intentionless the whole a nothing and haply yet some drop within god's scheme's ensemble some wave or part of wave like one of yours ye multitudinous ocean\",\n",
       " 'viii then last of all',\n",
       " 'then last of all caught from these shores this hill of you o tides the mystic human meaning only by law of you your swell and ebb enclosing me the same the brain that shapes the voice that chants this song',\n",
       " 'election day november',\n",
       " \"if i should need to name o western world your powerfulest scene and show 'twould not be you niagara nor you ye limitless prairies nor your huge rifts of canyons colorado nor you yosemite nor yellowstone with all its spasmic geyser loops ascending to the skies appearing and disappearing nor oregon's white cones nor huron's belt of mighty lakes nor mississippi's stream this seething hemisphere's humanity as now i'd name the still small voice vibrating america's choosing day the heart of it not in the chosen the act itself the main the quadriennial choosing the stretch of north and south arous'd sea board and inland texas to maine the prairie states vermont virginia california the final ballot shower from east to west the paradox and conflict the countless snow flakes falling a swordless conflict yet more than all rome's wars of old or modern napoleon's the peaceful choice of all or good or ill humanity welcoming the darker odds the dross foams and ferments the wine\",\n",
       " \"it serves to purify while the heart pants life glows these stormy gusts and winds waft precious ships swell'd washington's jefferson's lincoln's sails\",\n",
       " 'with husky haughty lips o sea',\n",
       " 'with husky haughty lips o sea',\n",
       " \"where day and night i wend thy surf beat shore imaging to my sense thy varied strange suggestions i see and plainly list thy talk and conference here thy troops of white maned racers racing to the goal thy ample smiling face dash'd with the sparkling dimples of the sun thy brooding scowl and murk thy unloos'd hurricanes thy unsubduedness caprices wilfulness great as thou art above the rest thy many tears a lack from all eternity in thy content naught but the greatest struggles wrongs defeats could make thee greatest no less could make thee thy lonely state something thou ever seek'st and seek'st yet never gain'st surely some right withheld some voice in huge monotonous rage of freedom lover pent some vast heart like a planet's chain'd and chafing in those breakers by lengthen'd swell and spasm and panting breath and rhythmic rasping of thy sands and waves and serpent hiss and savage peals of laughter and undertones of distant lion roar sounding appealing to the sky's deaf ear but now rapport for once a phantom in the night thy confidant for once the first and last confession of the globe outsurging muttering from thy soul's abysms the tale of cosmic elemental passion thou tellest to a kindred soul\",\n",
       " 'death of general grant',\n",
       " \"as one by one withdraw the lofty actors from that great play on history's stage eterne that lurid partial act of war and peace of old and new contending fought out through wrath fears dark dismays and many a long suspense all past and since in countless graves receding mellowing victor's and vanquish'd lincoln's and lee's now thou with them man of the mighty days and equal to the days\",\n",
       " \"thou from the prairies tangled and many vein'd and hard has been thy part to admiration has it been enacted\",\n",
       " 'red jacket from aloft',\n",
       " 'upon this scene this show yielded to day by fashion learning wealth nor in caprice alone some grains of deepest meaning haply aloft who knows',\n",
       " \"from distant sky clouds'blended shapes as some old tree or rock or cliff thrill'd with its soul product of nature's sun stars earth direct a towering human form in hunting shirt of film arm'd with the rifle a half ironical smile curving its phantom lips like one of ossian's ghosts looks down\",\n",
       " \"washington's monument february\",\n",
       " \"ah not this marble dead and cold far from its base and shaft expanding the round zones circling comprehending thou washington art all the world's the continents'entire not yours alone america europe's as well in every part castle of lord or laborer's cot or frozen north or sultry south the african's the arab's in his tent old asia's there with venerable smile seated amid her ruins greets the antique the hero new\",\n",
       " \"' tis but the same the heir legitimate continued ever the indomitable heart and arm proofs of the never broken line courage alertness patience faith the same e'en in defeat defeated not the same wherever sails a ship or house is built on land or day or night through teeming cities'streets indoors or out factories or farms now or to come or past where patriot wills existed or exist wherever freedom pois'd by toleration sway'd by law stands or is rising thy true monument\",\n",
       " 'of that blithe throat of thine',\n",
       " \"of that blithe throat of thine from arctic bleak and blank i'll mind the lesson solitary bird let me too welcome chilling drifts e'en the profoundest chill as now a torpid pulse a brain unnerv'd old age land lock'd within its winter bay cold cold o cold\",\n",
       " \"these snowy hairs my feeble arm my frozen feet for them thy faith thy rule i take and grave it to the last not summer's zones alone not chants of youth or south's warm tides alone but held by sluggish floes pack'd in the northern ice the cumulus of years these with gay heart i also sing\",\n",
       " 'broadway',\n",
       " 'what hurrying human tides or day or night',\n",
       " 'what passions winnings losses ardors swim thy waters',\n",
       " 'what whirls of evil bliss and sorrow stem thee',\n",
       " 'what curious questioning glances glints of love',\n",
       " 'leer envy scorn contempt hope aspiration',\n",
       " 'thou portal thou arena thou of the myriad long drawn lines and groups',\n",
       " 'could but thy flagstones curbs facades tell their inimitable tales thy windows rich and huge hotels thy side walks wide thou of the endless sliding mincing shuffling feet',\n",
       " 'thou like the parti colored world itself like infinite teeming mocking life',\n",
       " \"thou visor'd vast unspeakable show and lesson\",\n",
       " 'to get the final lilt of songs',\n",
       " 'to get the final lilt of songs to penetrate the inmost lore of poets to know the mighty ones job homer eschylus dante shakespere tennyson emerson to diagnose the shifting delicate tints of love and pride and doubt to truly understand to encompass these the last keen faculty and entrance price old age and what it brings from all its past experiences',\n",
       " 'old salt kossabone',\n",
       " \"far back related on my mother's side old salt kossabone i'll tell you how he died had been a sailor all his life was nearly lived with his married grandchild jenny house on a hill with view of bay at hand and distant cape and stretch to open sea the last of afternoons the evening hours for many a year his regular custom in his great arm chair by the window seated sometimes indeed through half the day watching the coming going of the vessels he mutters to himself and now the close of all one struggling outbound brig one day baffled for long cross tides and much wrong going at last at nightfall strikes the breeze aright her whole luck veering and swiftly bending round the cape the darkness proudly entering cleaving as he watches she's free she's on her destination these the last words when jenny came he sat there dead dutch kossabone old salt related on my mother's side far back\",\n",
       " 'the dead tenor',\n",
       " \"as down the stage again with spanish hat and plumes and gait inimitable back from the fading lessons of the past i'd call i'd tell and own how much from thee\",\n",
       " 'the revelation of the singing voice from thee',\n",
       " 'so firm so liquid soft again that tremulous manly timbre',\n",
       " \"the perfect singing voice deepest of all to me the lesson trial and test of all how through those strains distill'd how the rapt ears the soul of me absorbing fernando's heart manrico's passionate call ernani's sweet gennaro's i fold thenceforth or seek to fold within my chants transmuting freedom's and love's and faith's unloos'd cantabile as perfume's color's sunlight's correlation from these for these with these a hurried line dead tenor a wafted autumn leaf dropt in the closing grave the shovel'd earth to memory of thee\",\n",
       " 'continuities',\n",
       " 'nothing is ever really lost or can be lost no birth identity form no object of the world',\n",
       " 'nor life nor force nor any visible thing appearance must not foil nor shifted sphere confuse thy brain',\n",
       " 'ample are time and space ample the fields of nature',\n",
       " \"the body sluggish aged cold the embers left from earlier fires the light in the eye grown dim shall duly flame again the sun now low in the west rises for mornings and for noons continual to frozen clods ever the spring's invisible law returns with grass and flowers and summer fruits and corn\",\n",
       " 'yonnondio',\n",
       " 'a song a poem of itself the word itself a dirge amid the wilds the rocks the storm and wintry night to me such misty strange tableaux the syllables calling up yonnondio i see far in the west or north a limitless ravine with plains and mountains dark i see swarms of stalwart chieftains medicine men and warriors as flitting by like clouds of ghosts they pass and are gone in the twilight race of the woods the landscapes free and the falls',\n",
       " 'no picture poem statement passing them to the future yonnondio',\n",
       " \"yonnondio unlimn'd they disappear to day gives place and fades the cities farms factories fade a muffled sonorous sound a wailing word is borne through the air for a moment then blank and gone and still and utterly lost\",\n",
       " 'life',\n",
       " \"ever the undiscouraged resolute struggling soul of man have former armies fail'd\",\n",
       " \"then we send fresh armies and fresh again ever the grappled mystery of all earth's ages old or new ever the eager eyes hurrahs the welcome clapping hands the loud applause ever the soul dissatisfied curious unconvinced at last struggling to day the same battling the same\",\n",
       " 'going somewhere',\n",
       " 'my science friend my noblest woman friend now buried in an english grave and this a memory leaf for her dear sake ended our talk the sum concluding all we know of old or modern learning intuitions deep of all geologies histories of all astronomy of evolution metaphysics all is that we all are onward onward speeding slowly surely bettering life life an endless march an endless army no halt but it is duly over the world the race the soul in space and time the universes all bound as is befitting each all surely going somewhere',\n",
       " 'small the theme of my chant',\n",
       " \"small the theme of my chant yet the greatest namely one's self a simple separate person\",\n",
       " 'that for the use of the new world i sing',\n",
       " \"man's physiology complete from top to toe i sing\",\n",
       " 'not physiognomy alone nor brain alone is worthy for the muse i say the form complete is worthier far',\n",
       " 'the female equally with the male i sing',\n",
       " \"nor cease at the theme of one's self\",\n",
       " 'i speak the word of the modern the word en masse',\n",
       " 'my days i sing and the lands with interstice i knew of hapless war',\n",
       " \"o friend whoe'er you are at last arriving hither to commence i feel through every leaf the pressure of your hand which i return\",\n",
       " \"and thus upon our journey footing the road and more than once and link'd together let us go\",\n",
       " 'true conquerors',\n",
       " \"old farmers travelers workmen no matter how crippled or bent old sailors out of many a perilous voyage storm and wreck old soldiers from campaigns with all their wounds defeats and scars enough that they've survived at all long life's unflinching ones\",\n",
       " \"forth from their struggles trials fights to have emerged at all in that alone true conquerors o'er all the rest\",\n",
       " 'the united states to old world critics',\n",
       " 'here first the duties of to day the lessons of the concrete wealth order travel shelter products plenty as of the building of some varied vast perpetual edifice whence to arise inevitable in time the towering roofs the lamps the solid planted spires tall shooting to the stars',\n",
       " 'the calming thought of all',\n",
       " \"that coursing on whate'er men's speculations amid the changing schools theologies philosophies amid the bawling presentations new and old the round earth's silent vital laws facts modes continue\",\n",
       " 'thanks in old age',\n",
       " \"thanks in old age thanks ere i go for health the midday sun the impalpable air for life mere life for precious ever lingering memories of you my mother dear you father you brothers sisters friends for all my days not those of peace alone the days of war the same for gentle words caresses gifts from foreign lands for shelter wine and meat for sweet appreciation you distant dim unknown or young or old countless unspecified readers belov'd we never met and neer shall meet and yet our souls embrace long close and long for beings groups love deeds words books for colors forms for all the brave strong men devoted hardy men who've forward sprung in freedom's help all years all lands for braver stronger more devoted men a special laurel ere i go to life's war's chosen ones the cannoneers of song and thought the great artillerists the foremost leaders captains of the soul as soldier from an ended war return'd as traveler out of myriads to the long procession retrospective thanks joyful thanks a soldier's traveler's thanks\",\n",
       " 'life and death',\n",
       " 'the two old simple problems ever intertwined close home elusive present baffled grappled',\n",
       " \"by each successive age insoluble pass'd on to ours to day and we pass on the same\",\n",
       " 'the voice of the rain',\n",
       " 'and who art thou',\n",
       " \"said i to the soft falling shower which strange to tell gave me an answer as here translated i am the poem of earth said the voice of the rain eternal i rise impalpable out of the land and the bottomless sea upward to heaven whence vaguely form'd altogether changed and yet the same i descend to lave the drouths atomies dust layers of the globe and all that in them without me were seeds only latent unborn and forever by day and night i give back life to my own origin and make pure and beautify it for song issuing from its birth place after fulfilment wandering reck'd or unreck'd duly with love returns\",\n",
       " \"soon shall the winter's foil be here\",\n",
       " \"soon shall the winter's foil be here soon shall these icy ligatures unbind and melt a little while and air soil wave suffused shall be in softness bloom and growth a thousand forms shall rise from these dead clods and chills as from low burial graves\",\n",
       " 'thine eyes ears all thy best attributes all that takes cognizance of natural beauty shall wake and fill',\n",
       " \"thou shalt perceive the simple shows the delicate miracles of earth dandelions clover the emerald grass the early scents and flowers the arbutus under foot the willow's yellow green the blossoming plum and cherry with these the robin lark and thrush singing their songs the flitting bluebird for such the scenes the annual play brings on\",\n",
       " 'while not the past forgetting',\n",
       " 'while not the past forgetting to day at least contention sunk entire peace brotherhood uprisen for sign reciprocal our northern southern hands lay on the graves of all dead soldiers north or south nor for the past alone for meanings to the future wreaths of roses and branches of palm',\n",
       " 'the dying veteran',\n",
       " \"amid these days of order ease prosperity amid the current songs of beauty peace decorum i cast a reminiscence likely'twill offend you i heard it in my boyhood more than a generation since a queer old savage man a fighter under washington himself large brave cleanly hot blooded no talker rather spiritualistic had fought in the ranks fought well had been all through the revolutionary war lay dying sons daughters church deacons lovingly tending him sharping their sense their ears towards his murmuring half caught words let me return again to my war days to the sights and scenes to forming the line of battle to the scouts ahead reconnoitering to the cannons the grim artillery to the galloping aides carrying orders to the wounded the fallen the heat the suspense the perfume strong the smoke the deafening noise away with your life of peace your joys of peace\",\n",
       " 'give me my old wild battle life again',\n",
       " 'stronger lessons',\n",
       " \"have you learn'd lessons only of those who admired you and were tender with you and stood aside for you\",\n",
       " \"have you not learn'd great lessons from those who reject you and brace themselves against you\",\n",
       " 'or who treat you with contempt or dispute the passage with you',\n",
       " 'a prairie sunset',\n",
       " \"shot gold maroon and violet dazzling silver emerald fawn the earth's whole amplitude and nature's multiform power consign'd for once to colors the light the general air possess'd by them colors till now unknown no limit confine not the western sky alone the high meridian north south all pure luminous color fighting the silent shadows to the last\",\n",
       " 'twenty years',\n",
       " \"down on the ancient wharf the sand i sit with a new comer chatting he shipp'd as green hand boy and sail'd away took some sudden vehement notion since twenty years and more have circled round and round while he the globe was circling round and round and now returns how changed the place all the old land marks gone the parents dead yes he comes back to lay in port for good to settle has a well fill'd purse no spot will do but this the little boat that scull'd him from the sloop now held in leash i see i hear the slapping waves the restless keel the rocking in the sand i see the sailor kit the canvas bag the great box bound with brass i scan the face all berry brown and bearded the stout strong frame dress'd in its russet suit of good scotch cloth then what the told out story of those twenty years\",\n",
       " 'what of the future',\n",
       " 'orange buds by mail from florida',\n",
       " \"a lesser proof than old voltaire's yet greater proof of this present time and thee thy broad expanse america to my plain northern hut in outside clouds and snow brought safely for a thousand miles o'er land and tide some three days since on their own soil live sprouting now here their sweetness through my room unfolding a bunch of orange buds by mall from florida\",\n",
       " 'twilight',\n",
       " \"the soft voluptuous opiate shades the sun just gone the eager light dispell'd i too will soon be gone dispell'd a haze nirwana rest and night oblivion\",\n",
       " 'you lingering sparse leaves of me',\n",
       " \"you lingering sparse leaves of me on winter nearing boughs and i some well shorn tree of field or orchard row you tokens diminute and lorn not now the flush of may or july clover bloom no grain of august now you pallid banner staves you pennants valueless you overstay'd of time yet my soul dearest leaves confirming all the rest the faithfulest hardiest last\",\n",
       " 'not meagre latent boughs alone',\n",
       " 'not meagre latent boughs alone o songs',\n",
       " \"scaly and bare like eagles'talons but haply for some sunny day who knows\",\n",
       " 'some future spring some summer bursting forth to verdant leaves or sheltering shade to nourishing fruit apples and grapes the stalwart limbs of trees emerging the fresh free open air and love and faith like scented roses blooming',\n",
       " 'the dead emperor',\n",
       " \"to day with bending head and eyes thou too columbia less for the mighty crown laid low in sorrow less for the emperor thy true condolence breathest sendest out o'er many a salt sea mile mourning a good old man a faithful shepherd patriot\",\n",
       " \"as the greek's signal flame\",\n",
       " \"as the greek's signal flame by antique records told rose from the hill top like applause and glory welcoming in fame some special veteran hero with rosy tinge reddening the land he'd served so i aloft from mannahatta's ship fringed shore lift high a kindled brand for thee old poet\",\n",
       " 'the dismantled ship',\n",
       " \"in some unused lagoon some nameless bay on sluggish lonesome waters anchor'd near the shore an old dismasted gray and batter'd ship disabled done after free voyages to all the seas of earth haul'd up at last and hawser'd tight lies rusting mouldering\",\n",
       " 'now precedent songs farewell',\n",
       " \"now precedent songs farewell by every name farewell trains of a staggering line in many a strange procession waggons from ups and downs with intervals from elder years mid age or youth in cabin'd ships or thee old cause or poets to come or paumanok song of myself calamus or adam or beat\",\n",
       " 'beat',\n",
       " 'drums',\n",
       " \"or to the leaven'd soil they trod or captain\",\n",
       " 'my captain',\n",
       " \"kosmos quicksand years or thoughts thou mother with thy equal brood and many many more unspecified from fibre heart of mine from throat and tongue my life's hot pulsing blood the personal urge and form for me not merely paper automatic type and ink each song of mine each utterance in the past having its long long history of life or death or soldier's wound of country's loss or safety o heaven\",\n",
       " 'what flash and started endless train of all',\n",
       " 'compared indeed to that',\n",
       " \"what wretched shred e'en at the best of all\",\n",
       " 'an evening lull',\n",
       " 'after a week of physical anguish unrest and pain and feverish heat toward the ending day a calm and lull comes on three hours of peace and soothing rest of brain',\n",
       " \"old age's lambent peaks\",\n",
       " \"the touch of flame the illuminating fire the loftiest look at last o'er city passion sea o'er prairie mountain wood the earth itself the airy different changing hues of all in failing twilight objects and groups bearings faces reminiscences the calmer sight the golden setting clear and broad so much i'the atmosphere the points of view the situations whence we scan bro't out by them alone so much perhaps the best unreck'd before the lights indeed from them old age's lambent peaks\",\n",
       " 'after the supper and talk',\n",
       " \"after the supper and talk after the day is done as a friend from friends his final withdrawal prolonging good bye and good bye with emotional lips repeating so hard for his hand to release those hands no more will they meet no more for communion of sorrow and joy of old and young a far stretching journey awaits him to return no more shunning postponing severance seeking to ward off the last word ever so little e'en at the exit door turning charges superfluous calling back e'en as he descends the steps something to eke out a minute additional shadows of nightfall deepening farewells messages lessening dimmer the forthgoer's visage and form soon to be lost for aye in the darkness loth o so loth to depart\",\n",
       " 'garrulous to the very last',\n",
       " 'bookxxxv',\n",
       " 'good bye my fancy',\n",
       " 'sail out for good eidolon yacht',\n",
       " 'heave the anchor short',\n",
       " \"raise main sail and jib steer forth o little white hull'd sloop now speed on really deep waters i will not call it our concluding voyage but outset and sure entrance to the truest best maturest depart depart from solid earth no more returning to these shores now on for aye our infinite free venture wending spurning all yet tried ports seas hawsers densities gravitation sail out for good eidolon yacht of me\",\n",
       " 'lingering last drops',\n",
       " 'and whence and why come you',\n",
       " \"we know not whence was the answer we only know that we drift here with the rest that we linger'd and lagg'd but were wafted at last and are now here to make the passing shower's concluding drops\",\n",
       " 'good bye my fancy',\n",
       " \"good bye my fancy i had a word to say but'tis not quite the time the best of any man's word or say is when its proper place arrives and for its meaning i keep mine till the last\",\n",
       " 'on on the same ye jocund twain',\n",
       " 'on on the same ye jocund twain',\n",
       " \"my life and recitative containing birth youth mid age years fitful as motley tongues of flame inseparably twined and merged in one combining all my single soul aims confirmations failures joys nor single soul alone i chant my nation's crucial stage america's haply humanity's the trial great the victory great a strange eclaircissement of all the masses past the eastern world the ancient medieval here here from wanderings strayings lessons wars defeats here at the west a voice triumphant justifying all a gladsome pealing cry a song for once of utmost pride and satisfaction i chant from it the common bulk the general average horde the best sooner than the worst and now i chant old age my verses written first for forenoon life and for the summer's autumn's spread i pass to snow white hairs the same and give to pulses winter cool'd the same as here in careless trill i and my recitatives with faith and love wafting to other work to unknown songs conditions on on ye jocund twain\",\n",
       " 'continue on the same',\n",
       " 'my st year',\n",
       " \"after surmounting three score and ten with all their chances changes losses sorrows my parents'deaths the vagaries of my life the many tearing passions of me the war of' and' as some old broken soldier after a long hot wearying march or haply after battle to day at twilight hobbling answering company roll call here with vital voice reporting yet saluting yet the officer over all\",\n",
       " 'apparitions',\n",
       " \"a vague mist hanging'round half the pages sometimes how strange and clear to the soul that all these solid things are indeed but apparitions concepts non realities\",\n",
       " 'the pallid wreath',\n",
       " \"somehow i cannot let it go yet funeral though it is let it remain back there on its nail suspended with pink blue yellow all blanch'd and the white now gray and ashy one wither'd rose put years ago for thee dear friend but i do not forget thee\",\n",
       " 'hast thou then faded',\n",
       " 'is the odor exhaled',\n",
       " 'are the colors vitalities dead',\n",
       " 'no while memories subtly play the past vivid as ever for but last night i woke and in that spectral ring saw thee thy smile eyes face calm silent loving as ever so let the wreath hang still awhile within my eye reach it is not yet dead to me nor even pallid',\n",
       " 'an ended day',\n",
       " 'the soothing sanity and blitheness of completion the pomp and hurried contest glare and rush are done now triumph',\n",
       " 'transformation',\n",
       " 'jubilate',\n",
       " \"old age's ship crafty death's\",\n",
       " \"from east and west across the horizon's edge two mighty masterful vessels sailers steal upon us but we'll make race a time upon the seas a battle contest yet\",\n",
       " 'bear lively there',\n",
       " 'our joys of strife and derring do to the last',\n",
       " 'put on the old ship all her power to day',\n",
       " 'crowd top sail top gallant and royal studding sails out challenge and defiance flags and flaunting pennants added as we take to the open take to the deepest freest waters',\n",
       " 'to the pending year',\n",
       " 'have i no weapon word for thee some message brief and fierce',\n",
       " 'have i fought out and done indeed the battle',\n",
       " 'is there no shot left for all thy affectations lisps scorns manifold silliness',\n",
       " 'nor for myself my own rebellious self in thee',\n",
       " 'down down proud gorge though choking thee thy bearded throat and high borne forehead to the gutter crouch low thy neck to eleemosynary gifts',\n",
       " \"shakspere bacon's cipher\",\n",
       " \"i doubt it not then more far more in each old song bequeath'd in every noble page or text different something unreck'd before some unsuspected author in every object mountain tree and star in every birth and life as part of each evolv'd from each meaning behind the ostent a mystic cipher waits infolded\",\n",
       " 'long long hence',\n",
       " \"after a long long course hundreds of years denials accumulations rous'd love and joy and thought hopes wishes aspirations ponderings victories myriads of readers coating compassing covering after ages'and ages'encrustations then only may these songs reach fruition\",\n",
       " 'bravo paris exposition',\n",
       " \"add to your show before you close it france with all the rest visible concrete temples towers goods machines and ores our sentiment wafted from many million heart throbs ethereal but solid we grand sons and great grandsons do not forget your grandsires from fifty nations and nebulous nations compacted sent oversea to day america's applause love memories and good will\",\n",
       " 'interpolation sounds',\n",
       " \"over and through the burial chant organ and solemn service sermon bending priests to me come interpolation sounds not in the show plainly to me crowding up the aisle and from the window of sudden battle's hurry and harsh noises war's grim game to sight and ear in earnest the scout call'd up and forward the general mounted and his aides around him the new brought word the instantaneous order issued the rifle crack the cannon thud the rushing forth of men from their tents the clank of cavalry the strange celerity of forming ranks the slender bugle note the sound of horses'hoofs departing saddles arms accoutrements\",\n",
       " 'to the sun set breeze',\n",
       " 'ah whispering something again unseen where late this heated day thou enterest at my window door thou laving tempering all cool freshing gently vitalizing me old alone sick weak down melted worn with sweat thou nestling folding close and firm yet soft companion better than talk book art thou hast o nature',\n",
       " 'elements',\n",
       " \"utterance to my heart beyond the rest and this is of them so sweet thy primitive taste to breathe within thy soothing fingers my face and hands thou messenger magical strange bringer to body and spirit of me distances balk'd occult medicines penetrating me from head to foot i feel the sky the prairies vast i feel the mighty northern lakes i feel the ocean and the forest somehow i feel the globe itself swift swimming in space thou blown from lips so loved now gone haply from endless store god sent for thou art spiritual godly most of all known to my sense minister to speak to me here and now what word has never told and cannot tell art thou not universal concrete's distillation\",\n",
       " \"law's all astronomy's last refinement\",\n",
       " 'hast thou no soul',\n",
       " 'can i not know identify thee',\n",
       " 'old chants',\n",
       " 'an ancient song reciting ending once gazing toward thee mother of all musing seeking themes fitted for thee accept me thou saidst the elder ballads and name for me before thou goest each ancient poet',\n",
       " \"of many debts incalculable haply our new world's chieftest debt is to old poems\",\n",
       " 'ever so far back preluding thee america old chants egyptian priests and those of ethiopia the hindu epics the grecian chinese persian the biblic books and prophets and deep idyls of the nazarene the iliad odyssey plots doings wanderings of eneas hesiod eschylus sophocles merlin arthur the cid roland at roncesvalles the nibelungen the troubadours minstrels minnesingers skalds chaucer dante flocks of singing birds the border minstrelsy the bye gone ballads feudal tales essays plays shakespere schiller walter scott tennyson as some vast wondrous weird dream presences the great shadowy groups gathering around darting their mighty masterful eyes forward at thee thou',\n",
       " 'with as now thy bending neck and head with courteous hand and word ascending thou',\n",
       " 'pausing a moment drooping thine eyes upon them blent with their music well pleased accepting all curiously prepared for by them thou enterest at thy entrance porch',\n",
       " 'a christmas greeting',\n",
       " 'welcome brazilian brother thy ample place is ready a loving hand a smile from the north a sunny instant hall',\n",
       " 'let the future care for itself where it reveals its troubles impedimentas ours ours the present throe the democratic aim the acceptance and the faith to thee to day our reaching arm our turning neck to thee from us the expectant eye thou cluster free',\n",
       " 'thou brilliant lustrous one',\n",
       " \"thou learning well the true lesson of a nation's light in the sky more shining than the cross more than the crown the height to be superb humanity\",\n",
       " 'sounds of the winter',\n",
       " \"sounds of the winter too sunshine upon the mountains many a distant strain from cheery railroad train from nearer field barn house the whispering air even the mute crops garner'd apples corn children's and women's tones rhythm of many a farmer and of flail an old man's garrulous lips among the rest think not we give out yet forth from these snowy hairs we keep up yet the lilt\",\n",
       " 'a twilight song',\n",
       " \"as i sit in twilight late alone by the flickering oak flame musing on long pass'd war scenes of the countless buried unknown soldiers of the vacant names as unindented air's and sea's the unreturn'd the brief truce after battle with grim burial squads and the deep fill'd trenches of gather'd from dead all america north south east west whence they came up from wooded maine new england's farms from fertile pennsylvania illinois ohio from the measureless west virginia the south the carolinas texas even here in my room shadows and half lights in the noiseless flickering flames again i see the stalwart ranks on filing rising i hear the rhythmic tramp of the armies you million unwrit names all all you dark bequest from all the war a special verse for you a flash of duty long neglected your mystic roll strangely gather'd here each name recall'd by me from out the darkness and death's ashes henceforth to be deep deep within my heart recording for many future year your mystic roll entire of unknown names or north or south embalm'd with love in this twilight song\",\n",
       " 'when the full grown poet came',\n",
       " 'when the full grown poet came out spake pleased nature the round impassive globe with all its shows of day and night saying he is mine but out spake too the soul of man proud jealous and unreconciled nay he is mine alone then the full grown poet stood between the two and took each by the hand and to day and ever so stands as blender uniter tightly holding hands which he will never release until he reconciles the two and wholly and joyously blends them',\n",
       " 'osceola',\n",
       " \"when his hour for death had come he slowly rais'd himself from the bed on the floor drew on his war dress shirt leggings and girdled the belt around his waist call'd for vermilion paint his looking glass was held before him painted half his face and neck his wrists and back hands\",\n",
       " \"put the scalp knife carefully in his belt then lying down resting moment rose again half sitting smiled gave in silence his extended hand to each and all sank faintly low to the floor tightly grasping the tomahawk handle fix'd his look on wife and little children the last\",\n",
       " 'and here a line in memory of his name and death',\n",
       " 'a voice from death',\n",
       " \"a voice from death solemn and strange in all his sweep and power with sudden indescribable blow towns drown'd humanity by thousands slain the vaunted work of thrift goods dwellings forge street iron bridge dash'd pell mell by the blow yet usher'd life continuing on amid the rest amid the rushing whirling wild debris a suffering woman saved a baby safely born\",\n",
       " \"although i come and unannounc'd in horror and in pang in pouring flood and fire and wholesale elemental crash this voice so solemn strange i too a minister of deity\",\n",
       " \"yea death we bow our faces veil our eyes to thee we mourn the old the young untimely drawn to thee the fair the strong the good the capable the household wreck'd the husband and the wife the engulfed forger in his forge the corpses in the whelming waters and the mud the gather'd thousands to their funeral mounds and thousands never found or gather'd\",\n",
       " \"then after burying mourning the dead faithful to them found or unfound forgetting not bearing the past here new musing a day a passing moment or an hour america itself bends low silent resign'd submissive\",\n",
       " 'war death cataclysm like this america take deep to thy proud prosperous heart',\n",
       " \"e'en as i chant lo\",\n",
       " \"out of death and out of ooze and slime the blossoms rapidly blooming sympathy help love from west and east from south and north and over sea its hot spurr'd hearts and hands humanity to human aid moves on and from within a thought and lesson yet\",\n",
       " 'thou ever darting globe',\n",
       " 'through space and air',\n",
       " 'thou waters that encompass us',\n",
       " 'thou that in all the life and death of us in action or in sleep',\n",
       " 'thou laws invisible that permeate them and all thou that in all and over all and through and under all incessant',\n",
       " 'thou',\n",
       " 'thou',\n",
       " \"the vital universal giant force resistless sleepless calm holding humanity as in thy open hand as some ephemeral toy how ill to e'er forget thee\",\n",
       " \"for i too have forgotten wrapt in these little potencies of progress politics culture wealth inventions civilization have lost my recognition of your silent ever swaying power ye mighty elemental throes in which and upon which we float and every one of us is buoy'd\",\n",
       " 'a persian lesson',\n",
       " \"for his o'erarching and last lesson the greybeard sufi in the fresh scent of the morning in the open air on the slope of a teeming persian rose garden under an ancient chestnut tree wide spreading its branches spoke to the young priests and students\",\n",
       " 'finally my children to envelop each word each part of the rest allah is all all all immanent in every life and object may be at many and many a more removes yet allah allah allah is there',\n",
       " \"has the estray wander'd far\",\n",
       " 'is the reason why strangely hidden',\n",
       " 'would you sound below the restless ocean of the entire world',\n",
       " 'would you know the dissatisfaction',\n",
       " \"the urge and spur of every life the something never still'd never entirely gone\",\n",
       " 'the invisible need of every seed',\n",
       " 'it is the central urge in every atom often unconscious often evil downfallen to return to its divine source and origin however distant latent the same in subject and in object without one exception',\n",
       " 'the commonplace',\n",
       " 'the commonplace i sing how cheap is health',\n",
       " 'how cheap nobility',\n",
       " 'abstinence no falsehood no gluttony lust the open air i sing freedom toleration take here the mainest lesson less from books less from the schools the common day and night the common earth and waters your farm your work trade occupation the democratic wisdom underneath like solid ground for all',\n",
       " 'the rounded catalogue divine complete',\n",
       " \"the devilish and the dark the dying and diseas'd the countless nineteen twentieths low and evil crude and savage the crazed prisoners in jail the horrible rank malignant venom and filth serpents the ravenous sharks liars the dissolute what is the part the wicked and the loathesome bear within earth's orbic scheme\",\n",
       " 'newts crawling things in slime and mud poisons the barren soil the evil men the slag and hideous rot',\n",
       " 'mirages',\n",
       " \"more experiences and sights stranger than you'd think for times again now mostly just after sunrise or before sunset sometimes in spring oftener in autumn perfectly clear weather in plain sight camps far or near the crowded streets of cities and the shopfronts account for it or not credit or not it is all true and my mate there could tell you the like we have often confab'd about it people and scenes animals trees colors and lines plain as could be farms and dooryards of home paths border'd with box lilacs in corners weddings in churches thanksgiving dinners returns of long absent sons glum funerals the crape veil'd mother and the daughters trials in courts jury and judge the accused in the box contestants battles crowds bridges wharves now and then mark'd faces of sorrow or joy i could pick them out this moment if i saw them again show'd to me just to the right in the sky edge or plainly there to the left on the hill tops\",\n",
       " \"l of g's purport\",\n",
       " 'not to exclude or demarcate or pick out evils from their formidable masses even to expose them but add fuse complete extend and celebrate the immortal and the good',\n",
       " 'haughty this song its words and scope to span vast realms of space and time evolution the cumulative growths and generations',\n",
       " \"begun in ripen'd youth and steadily pursued wandering peering dallying with all war peace day and night absorbing never even for one brief hour abandoning my task i end it here in sickness poverty and old age\",\n",
       " 'i sing of life yet mind me well of death to day shadowy death dogs my steps my seated shape and has for years draws sometimes close to me as face to face',\n",
       " \"the unexpress'd\",\n",
       " 'how dare one say it',\n",
       " \"after the cycles poems singers plays vaunted ionia's india's homer shakspere the long long times'thick dotted roads areas the shining clusters and the milky ways of stars nature's pulses reap'd all retrospective passions heroes war love adoration all ages'plummets dropt to their utmost depths all human lives throats wishes brains all experiences'utterance after the countless songs or long or short all tongues all lands still something not yet told in poesy's voice or print something lacking who knows\",\n",
       " \"the best yet unexpress'd and lacking\",\n",
       " 'grand is the seen',\n",
       " 'grand is the seen the light to me grand are the sky and stars grand is the earth and grand are lasting time and space and grand their laws so multiform puzzling evolutionary but grander far the unseen soul of me comprehending endowing all those lighting the light the sky and stars delving the earth sailing the sea what were all those indeed without thee unseen soul',\n",
       " 'of what amount without thee',\n",
       " 'more evolutionary vast puzzling o my soul',\n",
       " 'more multiform far more lasting thou than they',\n",
       " 'unseen buds',\n",
       " 'unseen buds infinite hidden well under the snow and ice under the darkness in every square or cubic inch germinal exquisite in delicate lace microscopic unborn like babes in wombs latent folded compact sleeping billions of billions and trillions of trillions of them waiting on earth and in the sea the universe the stars there in the heavens urging slowly surely forward forming endless and waiting ever more forever more behind',\n",
       " 'good bye my fancy',\n",
       " 'good bye my fancy',\n",
       " 'farewell dear mate dear love',\n",
       " \"i'm going away i know not where or to what fortune or whether i may ever see you again so good bye my fancy\",\n",
       " 'now for my last let me look back a moment the slower fainter ticking of the clock is in me exit nightfall and soon the heart thud stopping',\n",
       " \"long have we lived joy'd caress'd together delightful now separation good bye my fancy\",\n",
       " \"yet let me not be too hasty long indeed have we lived slept filter'd become really blended into one then if we die we die together yes we'll remain one if we go anywhere we'll go together to meet what happens may be we'll be better off and blither and learn something may be it is yourself now really ushering me to the true songs who knows\",\n",
       " 'may be it is you the mortal knob really undoing turning so now finally good bye and hail',\n",
       " 'my fancy']"
      ]
     },
     "execution_count": 26,
     "metadata": {},
     "output_type": "execute_result"
    }
   ],
   "source": [
    "clean[-1000:]"
   ]
  },
  {
   "cell_type": "markdown",
   "metadata": {},
   "source": [
    "Looks pretty clean to me! This should be good to start working with. But first we'll create a pickled save and load checkpoint.\n",
    "\n",
    "__Start from here going forward to skip data import and cleaning...__"
   ]
  },
  {
   "cell_type": "code",
   "execution_count": 27,
   "metadata": {
    "collapsed": true
   },
   "outputs": [],
   "source": [
    "# Adding it all to a dataframe\n",
    "literature_lemmas = pd.DataFrame({'author':author_column,'text':clean})\n",
    "literature_lemmas.to_pickle(\"literature_lemmas.pkl\")\n",
    "\n",
    "# Adding the lemma version to a dataframe\n",
    "literature_lemmas = pd.DataFrame({'author':author_column,'text':fiction_clean_lemmas})\n",
    "literature_lemmas.to_pickle(\"literature_lemmas_lemmas.pkl\")"
   ]
  },
  {
   "cell_type": "code",
   "execution_count": 2,
   "metadata": {},
   "outputs": [],
   "source": [
    "literature = pd.read_pickle(\"literature.pkl\")"
   ]
  },
  {
   "cell_type": "code",
   "execution_count": 3,
   "metadata": {
    "scrolled": true
   },
   "outputs": [
    {
     "data": {
      "text/plain": [
       "bible          5606\n",
       "melville       5533\n",
       "edgeworth      5384\n",
       "chesterton     4779\n",
       "whitman        4250\n",
       "bryant         2863\n",
       "shakespeare    1907\n",
       "milton         1851\n",
       "burgess        1054\n",
       "blake           438\n",
       "Name: author, dtype: int64"
      ]
     },
     "execution_count": 3,
     "metadata": {},
     "output_type": "execute_result"
    }
   ],
   "source": [
    "literature['author'].value_counts()"
   ]
  },
  {
   "cell_type": "markdown",
   "metadata": {},
   "source": [
    "There is still some class imbalance after the earlier subsetting we performed, but we'll consider that acceptable. The next step is to reserve a portion of the data to use as a test set and begin vectorizing our paragraphs.\n",
    "\n",
    "# Vectorization"
   ]
  },
  {
   "cell_type": "code",
   "execution_count": 3,
   "metadata": {},
   "outputs": [],
   "source": [
    "# Reserving 25% as a training set\n",
    "from sklearn.model_selection import train_test_split\n",
    "\n",
    "X = literature['text']\n",
    "Y = literature['author']\n",
    "\n",
    "X_train, X_test, Y_train, Y_test = train_test_split(X, Y, test_size=0.25, random_state=11)"
   ]
  },
  {
   "cell_type": "code",
   "execution_count": 6,
   "metadata": {},
   "outputs": [
    {
     "name": "stdout",
     "output_type": "stream",
     "text": [
      "(25248, 7342)\n"
     ]
    }
   ],
   "source": [
    "# tfidf vectorization\n",
    "from sklearn.feature_extraction.text import TfidfVectorizer\n",
    "\n",
    "vectorizer = TfidfVectorizer(max_df=0.8, \n",
    "                             min_df=5, \n",
    "                             stop_words='english', \n",
    "                             use_idf=True,\n",
    "                             norm=u'l2', \n",
    "                             smooth_idf=True \n",
    "                            )\n",
    "\n",
    "X_train_tfidf = vectorizer.fit_transform(X_train)\n",
    "print(X_train_tfidf.shape)"
   ]
  },
  {
   "cell_type": "code",
   "execution_count": 29,
   "metadata": {
    "scrolled": true
   },
   "outputs": [
    {
     "name": "stderr",
     "output_type": "stream",
     "text": [
      "/root/anaconda3/lib/python3.6/site-packages/matplotlib/font_manager.py:1297: UserWarning: findfont: Font family ['sans-serif'] not found. Falling back to DejaVu Sans\n",
      "  (prop.get_family(), self.defaultFamily[fontext]))\n"
     ]
    },
    {
     "data": {
      "image/png": "[encoded data removed]",
      "text/plain": [
       "<matplotlib.figure.Figure at 0x7fda6eb12d68>"
      ]
     },
     "metadata": {},
     "output_type": "display_data"
    }
   ],
   "source": [
    "# LSA to reduce dimensionality to something more reasonable\n",
    "svd= TruncatedSVD(2000)\n",
    "lsa = make_pipeline(svd, Normalizer(copy=False))\n",
    "X_train_lsa = lsa.fit_transform(X_train_tfidf)\n",
    "\n",
    "variance_explained=svd.explained_variance_ratio_\n",
    "total_variance = variance_explained.sum()\n",
    "cum_variance = np.cumsum(variance_explained)\n",
    "\n",
    "plt.plot(np.arange(1,2001),cum_variance)\n",
    "plt.title(\"Cumulative Variance Explained by n Components Used in SVD\")\n",
    "plt.show()"
   ]
  },
  {
   "cell_type": "code",
   "execution_count": 7,
   "metadata": {
    "collapsed": true
   },
   "outputs": [],
   "source": [
    "svd= TruncatedSVD(100)\n",
    "lsa = make_pipeline(svd, Normalizer(copy=False))\n",
    "X_train_lsa = lsa.fit_transform(X_train_tfidf)"
   ]
  },
  {
   "cell_type": "markdown",
   "metadata": {
    "collapsed": true
   },
   "source": [
    "Let's arbitrarily use 100 features for performance reasons, but it's worth noting that we're missing a lot of variance by limiting components this strictly.\n",
    "\n",
    "# Clustering\n",
    "\n",
    "The next step is to get into some clustering! Even though clustering is an unsupervised method, we are lucky in that we have some output labels (author) to which to compare the clusters we're producing. We'll use the adjusted rand score (ARI) to compare the author categorization to the clusters we create. In other words, we're trying to create clusters that reproduce the authors.\n",
    "\n",
    "### K-means"
   ]
  },
  {
   "cell_type": "code",
   "execution_count": 8,
   "metadata": {
    "collapsed": true
   },
   "outputs": [],
   "source": [
    "from sklearn.cluster import KMeans\n",
    "\n",
    "Y_pred = KMeans(n_clusters=10, random_state=11).fit_predict(X_train_lsa)"
   ]
  },
  {
   "cell_type": "code",
   "execution_count": 9,
   "metadata": {
    "scrolled": true
   },
   "outputs": [
    {
     "name": "stdout",
     "output_type": "stream",
     "text": [
      "Comparing k-means clusters against authors:\n",
      "col_0          0    1    2     3    4     5    6     7    8    9\n",
      "row_0                                                           \n",
      "bible         12  765  155   589   46  1057    8   127  735  639\n",
      "blake         17    8    3   134    0     3   24    95    0   32\n",
      "bryant        61   19  228  1060   72    31  398   282    4    7\n",
      "burgess       10    0   19   557   19     0  134    52    0    0\n",
      "chesterton   227   30  392  1650  550    19   89   660    9    6\n",
      "edgeworth     71   68  411  2711  207    43  153   318   89    5\n",
      "melville     238   29  127  2235  174    18  112  1110   17   71\n",
      "milton        50   81   11   320   54    31    0   568    7  281\n",
      "shakespeare   30   38    4  1041   46    15    5   128   26   82\n",
      "whitman       64   89   11  1427  114    42   42  1226    5  169\n"
     ]
    }
   ],
   "source": [
    "# Looking at a crosstab to visually inspect how authors line up with clusters\n",
    "print('Comparing k-means clusters against authors:')\n",
    "print(pd.crosstab(Y_train.values, Y_pred))"
   ]
  },
  {
   "cell_type": "code",
   "execution_count": 10,
   "metadata": {},
   "outputs": [
    {
     "data": {
      "text/plain": [
       "0.054580016576421683"
      ]
     },
     "execution_count": 10,
     "metadata": {},
     "output_type": "execute_result"
    }
   ],
   "source": [
    "from sklearn import metrics\n",
    "\n",
    "metrics.adjusted_rand_score(Y_train.values, Y_pred)"
   ]
  },
  {
   "cell_type": "markdown",
   "metadata": {},
   "source": [
    "Our ARI score, along with a quick look at the crosstab, indicates that our clusters are not that different from a random selection, and are certainly far from accurately grouping the different authors' works. Let's see if we can get a sense of what these clusters do represent instead."
   ]
  },
  {
   "cell_type": "code",
   "execution_count": 13,
   "metadata": {
    "collapsed": true
   },
   "outputs": [],
   "source": [
    "text_and_clusters = pd.DataFrame({'text':X_train, 'cluster':Y_pred})"
   ]
  },
  {
   "cell_type": "code",
   "execution_count": 14,
   "metadata": {
    "scrolled": true
   },
   "outputs": [
    {
     "name": "stdout",
     "output_type": "stream",
     "text": [
      "       cluster                                               text\n",
      "5014         1  and they took up the ark of the covenant and w...\n",
      "13412        1  as they went sailing down ludgate hill evan sa...\n",
      "11311        1  certainly said turnbull and went outside with ...\n",
      "26588        1  before him power divine his way prepared at hi...\n",
      "8835         1  by the stable wherein lay the christ child sto...\n",
      "1974         1  and moses went down from the mount unto the pe...\n",
      "14255        1  quite so quite so and with courteous gestures ...\n",
      "717          1  and jacob went out from beersheba and went tow...\n",
      "5488         1  and the house of joseph they also went up agai...\n",
      "3512         1  and the cloud of the lord was upon them by day...\n",
      "       cluster                                               text\n",
      "21123        2                          jonah that's another stab\n",
      "22270        2  but even granting the charge in question to be...\n",
      "33531        2                             heave the anchor short\n",
      "33515        2       or to the leaven'd soil they trod or captain\n",
      "23908        2  and of all these things the albino whale was t...\n",
      "20340        2          thomas beale's history of the sperm whale\n",
      "21056        2  yes the world's a ship on its passage out and ...\n",
      "17920        2                                    and very proper\n",
      "24091        2  again it is very often observed that if the sp...\n",
      "22063        2  nor was bildad himself nor captain peleg at al...\n",
      "       cluster                                               text\n",
      "4033         3  and their drink offerings shall be half an hin...\n",
      "4984         3  according as we hearkened unto moses in all th...\n",
      "3723         3  and moses laid up the rods before the lord in ...\n",
      "3465         3  and moses said unto them stand still and i wil...\n",
      "4507         3          ye shall not do so unto the lord your god\n",
      "21825        3                  the lord be merciful to his ghost\n",
      "5312         3  and there remained among the children of israe...\n",
      "4461         3  likewise when the lord sent you from kadeshbar...\n",
      "3558         3                              and the lord heard it\n",
      "1295         3  and it came to pass when we came up unto thy s...\n",
      "       cluster                                               text\n",
      "27174        4  then heaven and earth renewed shall be made pu...\n",
      "27497        4  greatly instructed i shall hence depart greatl...\n",
      "4548         4  but these are they of which ye shall not eat t...\n",
      "2888         4  and when he that hath an issue is cleansed of ...\n",
      "29773        4  this is the meal equally set this the meat for...\n",
      "2651         4  and he shall bring them unto the priest who sh...\n",
      "3174         4  and if there remain but few years unto the yea...\n",
      "4205         4  and the cities shall they have to dwell in and...\n",
      "26356        4  no for that shall be withstood but by deceit a...\n",
      "3183         4  and ye shall chase your enemies and they shall...\n",
      "       cluster                                               text\n",
      "21069        5  in black distress i called my god when i could...\n",
      "21916        5                         did you ever strike a fish\n",
      "13442        5  cried macian rising to the top of his tremendo...\n",
      "13139        5  turnbull's eyes did not move but he realized t...\n",
      "11289        5  it was a curious sound and on consideration di...\n",
      "12159        5  then a white witch fire began to burn between ...\n",
      "7209         5  not a word did she say about whose child it wa...\n",
      "18772        5             no upon my word and honour i did laugh\n",
      "25827        5  yet he pleased the ear and with persuasive acc...\n",
      "21865        5                and just so i now did with queequeg\n",
      "       cluster                                               text\n",
      "27101        6  was she thy god that her thou didst obey befor...\n",
      "2287         6  and two golden rings shalt thou make to it und...\n",
      "21620        6  and thou mayest as well sign the papers right ...\n",
      "32945        6                   thou mother with thy equal brood\n",
      "862          6  this twenty years have i been with thee thy ew...\n",
      "1995         6                     thou shalt not commit adultery\n",
      "3652         6  or for a ram thou shalt prepare for a meat off...\n",
      "26301        6  then when i am thy captive talk of chains prou...\n",
      "4755         6  and thou shalt write upon the stones all the w...\n",
      "26879        6  thou never from that hour in paradise foundst ...\n",
      "       cluster                                               text\n",
      "173          7  and he stayed yet other seven days and again h...\n",
      "26410        7  thus adam made request and raphael after short...\n",
      "5927         7  once a youthful pair filled with softest care ...\n",
      "167          7  and the waters prevailed upon the earth an hun...\n",
      "33227        7                                wonderful to depart\n",
      "14604        7  in many sceptical papers and magazines afterwa...\n",
      "32836        7  the threads that were spun are gather'd the we...\n",
      "33635        7              the rounded catalogue divine complete\n",
      "17193        7                                      a fatal error\n",
      "5719         7                                    sound the flute\n",
      "       cluster                                               text\n",
      "16477        8  the case indeed lies in a nutshell said the at...\n",
      "19845        8  no i am afraid not if this be it said his uncl...\n",
      "19871        8  said mr gresham who came instantly on hearing ...\n",
      "10996        8        no said evan thoughtfully i do not say that\n",
      "12192        8  i'm not really ungrateful she said it was very...\n",
      "13150        8  at least said turnbull savagely it was your je...\n",
      "8194         8                                  said the courtier\n",
      "8107         8  each one said to himself i must have been righ...\n",
      "10270        8  this poor fellow is dotty he said good humoure...\n",
      "19919        8  may be so said mr gresham still with the same ...\n",
      "       cluster                                               text\n",
      "28470        9                                               macb\n",
      "6204         9  when the mowers saw how fine he looked they ra...\n",
      "19112        9                                               rory\n",
      "11798        9                                          who cares\n",
      "10759        9                            thank you answered evan\n",
      "30824        9      something far away from a puny and pious life\n",
      "14073        9                       i don't quite understand you\n",
      "28705        9  shew his eyes and greeue his hart come like sh...\n",
      "12729        9  there were mr wilkinson's cigar boxes and mr w...\n",
      "17212        9  your daughter shows that she has been well tau...\n",
      "Empty DataFrame\n",
      "Columns: [cluster, text]\n",
      "Index: []\n"
     ]
    }
   ],
   "source": [
    "for clust in np.arange(1,11,1):\n",
    "    print(text_and_clusters[text_and_clusters['cluster'] == clust].head(10))"
   ]
  },
  {
   "cell_type": "markdown",
   "metadata": {},
   "source": [
    "The topical categorization of the different texts surfaces some commonalities. For example one cluster makes frequent mentions of \"Moses\" and \"lord,\" which are common biblical terms. This makes sense since the bible contributes most heavily to this cluster in terms of membership.\n",
    "\n",
    "Let's formalize this process a little bit more though, and look at the top keywords per cluster in mean tfidf score."
   ]
  },
  {
   "cell_type": "code",
   "execution_count": 126,
   "metadata": {
    "collapsed": true
   },
   "outputs": [],
   "source": [
    "# Create a DF with the cluster and each of the doc vectors, but named\n",
    "tfidf_names = pd.DataFrame(X_train_tfidf.todense(),columns=vectorizer.get_feature_names())\n",
    "tfidf_names['cluster'] = Y_pred\n",
    "tfidf_names = tfidf_names.groupby('cluster').mean().T\n",
    "\n",
    "# Function to return top 10 by specified cluster, to reduce print space\n",
    "def top_tfidf_terms(clust,df):\n",
    "    return df.sort_values(by=clust,ascending=False)[clust][0:19]"
   ]
  },
  {
   "cell_type": "code",
   "execution_count": 117,
   "metadata": {},
   "outputs": [
    {
     "data": {
      "text/html": [
       "<div>\n",
       "<style scoped>\n",
       "    .dataframe tbody tr th:only-of-type {\n",
       "        vertical-align: middle;\n",
       "    }\n",
       "\n",
       "    .dataframe tbody tr th {\n",
       "        vertical-align: top;\n",
       "    }\n",
       "\n",
       "    .dataframe thead th {\n",
       "        text-align: right;\n",
       "    }\n",
       "</style>\n",
       "<table border=\"1\" class=\"dataframe\">\n",
       "  <thead>\n",
       "    <tr style=\"text-align: right;\">\n",
       "      <th>cluster</th>\n",
       "      <th>0</th>\n",
       "      <th>1</th>\n",
       "      <th>2</th>\n",
       "      <th>3</th>\n",
       "      <th>4</th>\n",
       "      <th>5</th>\n",
       "      <th>6</th>\n",
       "      <th>7</th>\n",
       "      <th>8</th>\n",
       "      <th>9</th>\n",
       "    </tr>\n",
       "  </thead>\n",
       "  <tbody>\n",
       "    <tr>\n",
       "      <th>aaron</th>\n",
       "      <td>0.000133</td>\n",
       "      <td>0.005579</td>\n",
       "      <td>0.0</td>\n",
       "      <td>0.000250</td>\n",
       "      <td>0.000000</td>\n",
       "      <td>0.016098</td>\n",
       "      <td>0.000000</td>\n",
       "      <td>0.000044</td>\n",
       "      <td>0.018854</td>\n",
       "      <td>0.003732</td>\n",
       "    </tr>\n",
       "    <tr>\n",
       "      <th>abandoned</th>\n",
       "      <td>0.000392</td>\n",
       "      <td>0.000000</td>\n",
       "      <td>0.0</td>\n",
       "      <td>0.000024</td>\n",
       "      <td>0.000000</td>\n",
       "      <td>0.000000</td>\n",
       "      <td>0.000000</td>\n",
       "      <td>0.000171</td>\n",
       "      <td>0.000000</td>\n",
       "      <td>0.000116</td>\n",
       "    </tr>\n",
       "    <tr>\n",
       "      <th>abashed</th>\n",
       "      <td>0.000000</td>\n",
       "      <td>0.000000</td>\n",
       "      <td>0.0</td>\n",
       "      <td>0.000000</td>\n",
       "      <td>0.000000</td>\n",
       "      <td>0.000000</td>\n",
       "      <td>0.000496</td>\n",
       "      <td>0.000356</td>\n",
       "      <td>0.000000</td>\n",
       "      <td>0.000000</td>\n",
       "    </tr>\n",
       "    <tr>\n",
       "      <th>abated</th>\n",
       "      <td>0.000000</td>\n",
       "      <td>0.000263</td>\n",
       "      <td>0.0</td>\n",
       "      <td>0.000066</td>\n",
       "      <td>0.000000</td>\n",
       "      <td>0.000193</td>\n",
       "      <td>0.000000</td>\n",
       "      <td>0.000104</td>\n",
       "      <td>0.000000</td>\n",
       "      <td>0.000000</td>\n",
       "    </tr>\n",
       "    <tr>\n",
       "      <th>abbey</th>\n",
       "      <td>0.000000</td>\n",
       "      <td>0.000421</td>\n",
       "      <td>0.0</td>\n",
       "      <td>0.000725</td>\n",
       "      <td>0.000287</td>\n",
       "      <td>0.000000</td>\n",
       "      <td>0.000321</td>\n",
       "      <td>0.000271</td>\n",
       "      <td>0.000472</td>\n",
       "      <td>0.000000</td>\n",
       "    </tr>\n",
       "  </tbody>\n",
       "</table>\n",
       "</div>"
      ],
      "text/plain": [
       "cluster           0         1    2         3         4         5         6  \\\n",
       "aaron      0.000133  0.005579  0.0  0.000250  0.000000  0.016098  0.000000   \n",
       "abandoned  0.000392  0.000000  0.0  0.000024  0.000000  0.000000  0.000000   \n",
       "abashed    0.000000  0.000000  0.0  0.000000  0.000000  0.000000  0.000496   \n",
       "abated     0.000000  0.000263  0.0  0.000066  0.000000  0.000193  0.000000   \n",
       "abbey      0.000000  0.000421  0.0  0.000725  0.000287  0.000000  0.000321   \n",
       "\n",
       "cluster           7         8         9  \n",
       "aaron      0.000044  0.018854  0.003732  \n",
       "abandoned  0.000171  0.000000  0.000116  \n",
       "abashed    0.000356  0.000000  0.000000  \n",
       "abated     0.000104  0.000000  0.000000  \n",
       "abbey      0.000271  0.000472  0.000000  "
      ]
     },
     "execution_count": 117,
     "metadata": {},
     "output_type": "execute_result"
    }
   ],
   "source": [
    "tfidf_names.head()"
   ]
  },
  {
   "cell_type": "code",
   "execution_count": 119,
   "metadata": {
    "scrolled": true
   },
   "outputs": [
    {
     "data": {
      "text/plain": [
       "children    0.087017\n",
       "unto        0.086061\n",
       "son         0.062056\n",
       "israel      0.061723\n",
       "moses       0.038774\n",
       "sons        0.029486\n",
       "land        0.028940\n",
       "tribe       0.021799\n",
       "went        0.020182\n",
       "came        0.020122\n",
       "families    0.020114\n",
       "jacob       0.018606\n",
       "lord        0.017875\n",
       "joseph      0.017237\n",
       "egypt       0.016336\n",
       "took        0.016253\n",
       "cities      0.016131\n",
       "aaron       0.016098\n",
       "saying      0.015697\n",
       "Name: 5, dtype: float64"
      ]
     },
     "execution_count": 119,
     "metadata": {},
     "output_type": "execute_result"
    }
   ],
   "source": [
    "# Input different clusters to output top tfidf terms\n",
    "top_tfidf_terms(5,tfidf_names)"
   ]
  },
  {
   "cell_type": "markdown",
   "metadata": {},
   "source": [
    "This just helps to further clarify what we noticed above, which is that clusters are picking up on certain topical themes. The extent to which cluster 5 for example picks up on biblical themes is particularly striking (note: results vary from what you see above due to being run in different sessions)."
   ]
  },
  {
   "cell_type": "code",
   "execution_count": 55,
   "metadata": {
    "collapsed": true
   },
   "outputs": [],
   "source": [
    "from sklearn.cluster import KMeans\n",
    "n_clusters = 20\n",
    "\n",
    "Y_pred = KMeans(n_clusters=n_clusters, random_state=11).fit_predict(X_train_lsa)"
   ]
  },
  {
   "cell_type": "code",
   "execution_count": 56,
   "metadata": {
    "scrolled": true
   },
   "outputs": [
    {
     "name": "stdout",
     "output_type": "stream",
     "text": [
      "       cluster                                               text\n",
      "173          1  and he stayed yet other seven days and again h...\n",
      "26410        1  thus adam made request and raphael after short...\n",
      "5927         1  once a youthful pair filled with softest care ...\n",
      "167          1  and the waters prevailed upon the earth an hun...\n",
      "33227        1                                wonderful to depart\n",
      "33531        1                             heave the anchor short\n",
      "14604        1  in many sceptical papers and magazines afterwa...\n",
      "32836        1  the threads that were spun are gather'd the we...\n",
      "33635        1              the rounded catalogue divine complete\n",
      "17193        1                                      a fatal error\n",
      "       cluster                                               text\n",
      "21069        2  in black distress i called my god when i could...\n",
      "21123        2                          jonah that's another stab\n",
      "22270        2  but even granting the charge in question to be...\n",
      "23908        2  and of all these things the albino whale was t...\n",
      "20340        2          thomas beale's history of the sperm whale\n",
      "30206        2         within there runs blood the same old blood\n",
      "6592         2  ' a few days more and i drop the white petals ...\n",
      "24091        2  again it is very often observed that if the sp...\n",
      "12902        2  the nightmare of the stone horse was increased...\n",
      "22544        2                               ain't that queer now\n",
      "       cluster                                               text\n",
      "11798        3                                          who cares\n",
      "14073        3                       i don't quite understand you\n",
      "12729        3  there were mr wilkinson's cigar boxes and mr w...\n",
      "17212        3  your daughter shows that she has been well tau...\n",
      "21507        3                    because it's dangerous says she\n",
      "24605        3  some two years prior to my first learning the ...\n",
      "21916        3                         did you ever strike a fish\n",
      "16817        3  susan's father as soon as supper was finished ...\n",
      "15187        3              but are you willing earnestly to work\n",
      "18247        3  and it must be allowed that nothing in nature ...\n",
      "       cluster                                               text\n",
      "28470        4                                               macb\n",
      "6204         4  when the mowers saw how fine he looked they ra...\n",
      "19112        4                                               rory\n",
      "10759        4                            thank you answered evan\n",
      "30824        4      something far away from a puny and pious life\n",
      "23552        4  quietly smoking that's a white man he calls th...\n",
      "11437        4                                                 he\n",
      "27746        4                                               king\n",
      "17333        4  i forgive him all the mischief he has done me ...\n",
      "18768        4     oh you need not beg my pardon about the matter\n",
      "       cluster                                               text\n",
      "27101        5  was she thy god that her thou didst obey befor...\n",
      "2287         5  and two golden rings shalt thou make to it und...\n",
      "21620        5  and thou mayest as well sign the papers right ...\n",
      "32945        5                   thou mother with thy equal brood\n",
      "862          5  this twenty years have i been with thee thy ew...\n",
      "1995         5                     thou shalt not commit adultery\n",
      "3652         5  or for a ram thou shalt prepare for a meat off...\n",
      "26301        5  then when i am thy captive talk of chains prou...\n",
      "4755         5  and thou shalt write upon the stones all the w...\n",
      "26879        5  thou never from that hour in paradise foundst ...\n",
      "       cluster                                               text\n",
      "12058        6  the fact that the lady had a little fur at her...\n",
      "20857        6  i had been cutting up some caper or other i th...\n",
      "9161         6  very few of the little people of the green for...\n",
      "6691         6  but when the dizziness began to go off she whi...\n",
      "19462        6  if lady piercefield will trust you to my care ...\n",
      "23031        6  he was naturally a very nervous shuddering sor...\n",
      "6500         6  the hen mother did not know what in the world ...\n",
      "6949         6                bother the suspicious little jackal\n",
      "7050         6  and so she wrote a story and put all that in i...\n",
      "20417        6  some years ago never mind how long precisely h...\n",
      "       cluster                                               text\n",
      "27174        7  then heaven and earth renewed shall be made pu...\n",
      "27497        7  greatly instructed i shall hence depart greatl...\n",
      "4548         7  but these are they of which ye shall not eat t...\n",
      "2888         7  and when he that hath an issue is cleansed of ...\n",
      "29773        7  this is the meal equally set this the meat for...\n",
      "2651         7  and he shall bring them unto the priest who sh...\n",
      "3174         7  and if there remain but few years unto the yea...\n",
      "4205         7  and the cities shall they have to dwell in and...\n",
      "26356        7  no for that shall be withstood but by deceit a...\n",
      "3183         7  and ye shall chase your enemies and they shall...\n",
      "       cluster                                               text\n",
      "4033         8  and their drink offerings shall be half an hin...\n",
      "4984         8  according as we hearkened unto moses in all th...\n",
      "3723         8  and moses laid up the rods before the lord in ...\n",
      "3465         8  and moses said unto them stand still and i wil...\n",
      "4507         8          ye shall not do so unto the lord your god\n",
      "21825        8                  the lord be merciful to his ghost\n",
      "5312         8  and there remained among the children of israe...\n",
      "4461         8  likewise when the lord sent you from kadeshbar...\n",
      "3558         8                              and the lord heard it\n",
      "1295         8  and it came to pass when we came up unto thy s...\n",
      "       cluster                                               text\n",
      "16477        9  the case indeed lies in a nutshell said the at...\n",
      "19845        9  no i am afraid not if this be it said his uncl...\n",
      "19871        9  said mr gresham who came instantly on hearing ...\n",
      "10996        9        no said evan thoughtfully i do not say that\n",
      "12192        9  i'm not really ungrateful she said it was very...\n",
      "13150        9  at least said turnbull savagely it was your je...\n",
      "8194         9                                  said the courtier\n",
      "8107         9  each one said to himself i must have been righ...\n",
      "10270        9  this poor fellow is dotty he said good humoure...\n",
      "19919        9  may be so said mr gresham still with the same ...\n",
      "Empty DataFrame\n",
      "Columns: [cluster, text]\n",
      "Index: []\n",
      "Empty DataFrame\n",
      "Columns: [cluster, text]\n",
      "Index: []\n",
      "Empty DataFrame\n",
      "Columns: [cluster, text]\n",
      "Index: []\n",
      "Empty DataFrame\n",
      "Columns: [cluster, text]\n",
      "Index: []\n",
      "Empty DataFrame\n",
      "Columns: [cluster, text]\n",
      "Index: []\n",
      "Empty DataFrame\n",
      "Columns: [cluster, text]\n",
      "Index: []\n",
      "Empty DataFrame\n",
      "Columns: [cluster, text]\n",
      "Index: []\n",
      "Empty DataFrame\n",
      "Columns: [cluster, text]\n",
      "Index: []\n",
      "Empty DataFrame\n",
      "Columns: [cluster, text]\n",
      "Index: []\n",
      "Empty DataFrame\n",
      "Columns: [cluster, text]\n",
      "Index: []\n",
      "Empty DataFrame\n",
      "Columns: [cluster, text]\n",
      "Index: []\n"
     ]
    }
   ],
   "source": [
    "for clust in np.arange(1,n_clusters+1,1):\n",
    "    print(text_and_clusters[text_and_clusters['cluster'] == clust].head(10))"
   ]
  },
  {
   "cell_type": "markdown",
   "metadata": {},
   "source": [
    "Neither decreasing or increasing the number of clusters seems to produce more intelligible results.\n",
    "\n",
    "Given the many nuances of these different texts and how they could be differentiated, it could be worthwhile to try to use a clustering method that works with non-globular data and can work with an undetermined number of clusters, like affinity propagation or mean-shift."
   ]
  },
  {
   "cell_type": "markdown",
   "metadata": {},
   "source": [
    "### Mean Shift"
   ]
  },
  {
   "cell_type": "code",
   "execution_count": 49,
   "metadata": {},
   "outputs": [
    {
     "name": "stdout",
     "output_type": "stream",
     "text": [
      "Number of estimated clusters: 6\n"
     ]
    }
   ],
   "source": [
    "from sklearn.cluster import MeanShift, estimate_bandwidth\n",
    "\n",
    "# Using sklearn's bandwidth function to derive a useful value for this parameter\n",
    "bandwidth = estimate_bandwidth(X_train_lsa, quantile=0.5, n_samples=1000)\n",
    "\n",
    "# Declare and fit the model.. I experimented with various bandwidth values because the bandwidth function suggested a value\n",
    "# That only produced 1 cluster\n",
    "ms = MeanShift(bandwidth=0.2, bin_seeding=True)\n",
    "ms.fit(X_train_lsa)\n",
    "\n",
    "# Extract cluster assignments for each data point.\n",
    "labels = ms.labels_\n",
    "\n",
    "# Coordinates of the cluster centers.\n",
    "cluster_centers = ms.cluster_centers_\n",
    "\n",
    "# Count our clusters.\n",
    "n_clusters_ = len(np.unique(labels))\n",
    "\n",
    "print(\"Number of estimated clusters: {}\".format(n_clusters_))"
   ]
  },
  {
   "cell_type": "code",
   "execution_count": 50,
   "metadata": {
    "scrolled": true
   },
   "outputs": [
    {
     "name": "stdout",
     "output_type": "stream",
     "text": [
      "Comparing k-means clusters against authors:\n",
      "col_0           0    1   2   3   4   5\n",
      "row_0                                 \n",
      "bible        4133    0   0   0   0   0\n",
      "blake         316    0   0   0   0   0\n",
      "bryant       2161    0   0   0   0   1\n",
      "burgess       791    0   0   0   0   0\n",
      "chesterton   3632    0   0   0   0   0\n",
      "edgeworth    3965    0   1  70   0  40\n",
      "melville     4058    0  70   1   0   2\n",
      "milton       1399    0   0   0   0   4\n",
      "shakespeare  1277  100   0   0  38   0\n",
      "whitman      3181    0   0   1   0   7\n"
     ]
    }
   ],
   "source": [
    "# Looking at a crosstab to visually inspect how authors line up with clusters\n",
    "print('Comparing k-means clusters against authors:')\n",
    "print(pd.crosstab(Y_train.values, labels))"
   ]
  },
  {
   "cell_type": "markdown",
   "metadata": {},
   "source": [
    "This doesn't serve our purposes either, since it is not able to derive very many clusters and does not seem to notice any differentiation between authors. It groups nearly every work into the first cluster, which is also not particularly useful."
   ]
  },
  {
   "cell_type": "markdown",
   "metadata": {},
   "source": [
    "### Affinity Propagation\n",
    "Below is code to run affinity propagation - unfortunately, I was unable to get this algorithm to run in a reasonable amount of time."
   ]
  },
  {
   "cell_type": "code",
   "execution_count": 51,
   "metadata": {
    "collapsed": true
   },
   "outputs": [],
   "source": [
    "svd= TruncatedSVD(25)\n",
    "lsa_reduced = make_pipeline(svd, Normalizer(copy=False))\n",
    "X_train_lsa_reduced = lsa.fit_transform(X_train_tfidf)"
   ]
  },
  {
   "cell_type": "code",
   "execution_count": null,
   "metadata": {},
   "outputs": [],
   "source": [
    "from sklearn.cluster import AffinityPropagation\n",
    "\n",
    "af = AffinityPropagation().fit(X_train_lsa_reduced)\n",
    "\n",
    "# Pull the number of clusters and cluster assignments for each data point.\n",
    "cluster_centers_indices = af.cluster_centers_indices_\n",
    "n_clusters_ = len(cluster_centers_indices)\n",
    "labels = af.labels_\n",
    "\n",
    "print('Estimated number of clusters: {}'.format(n_clusters_))"
   ]
  },
  {
   "cell_type": "markdown",
   "metadata": {},
   "source": [
    "### Spectral Clustering\n",
    "Since affinity and mean-shift didn't work any better, let's try another fixed output clustering method -- spectral."
   ]
  },
  {
   "cell_type": "code",
   "execution_count": 120,
   "metadata": {
    "collapsed": true
   },
   "outputs": [],
   "source": [
    "from sklearn.cluster import SpectralClustering\n",
    "n_clusters = 10 \n",
    "\n",
    "sc = SpectralClustering(n_clusters=n_clusters, random_state=11)\n",
    "Y_pred = sc.fit_predict(X_train_lsa)"
   ]
  },
  {
   "cell_type": "code",
   "execution_count": 60,
   "metadata": {},
   "outputs": [
    {
     "name": "stdout",
     "output_type": "stream",
     "text": [
      "Comparing k-means clusters against authors:\n",
      "col_0           0    1     2    3     4    5    6    7    8    9\n",
      "row_0                                                           \n",
      "bible         811  605   117    5  1775    0  672   42   95   11\n",
      "blake         128   24   115   23     3    0    7    2    2   12\n",
      "bryant       1226    6   316  325    56    9   15   99   60   50\n",
      "burgess       617    0    42  114     3    0    0   10    0    5\n",
      "chesterton   2381    4   646   56    34    7   28   83  190  203\n",
      "edgeworth    3293    3   298  103    97    3   51  114   69   45\n",
      "melville     2232   59   919   75    42  449   22   44  118  171\n",
      "milton        429  256   558    0    18    1   58    5   37   41\n",
      "shakespeare  1123   68   110    5    27    1   32    4   19   26\n",
      "whitman      1530  148  1230   29    48    3   73    4   73   51\n"
     ]
    }
   ],
   "source": [
    "# Looking at a crosstab to visually inspect how authors line up with clusters\n",
    "print('Comparing k-means clusters against authors:')\n",
    "print(pd.crosstab(Y_train.values, Y_pred))"
   ]
  },
  {
   "cell_type": "code",
   "execution_count": 61,
   "metadata": {
    "scrolled": true
   },
   "outputs": [
    {
     "data": {
      "text/plain": [
       "0.060285820811467758"
      ]
     },
     "execution_count": 61,
     "metadata": {},
     "output_type": "execute_result"
    }
   ],
   "source": [
    "metrics.adjusted_rand_score(Y_train.values, Y_pred)"
   ]
  },
  {
   "cell_type": "code",
   "execution_count": 62,
   "metadata": {
    "collapsed": true
   },
   "outputs": [],
   "source": [
    "text_and_clusters = pd.DataFrame({'text':X_train, 'cluster':Y_pred})"
   ]
  },
  {
   "cell_type": "code",
   "execution_count": 63,
   "metadata": {
    "scrolled": true
   },
   "outputs": [
    {
     "name": "stdout",
     "output_type": "stream",
     "text": [
      "       cluster                                               text\n",
      "27101        1  was she thy god that her thou didst obey befor...\n",
      "2287         1  and two golden rings shalt thou make to it und...\n",
      "32945        1                   thou mother with thy equal brood\n",
      "862          1  this twenty years have i been with thee thy ew...\n",
      "1995         1                     thou shalt not commit adultery\n",
      "3652         1  or for a ram thou shalt prepare for a meat off...\n",
      "26301        1  then when i am thy captive talk of chains prou...\n",
      "4755         1  and thou shalt write upon the stones all the w...\n",
      "26879        1  thou never from that hour in paradise foundst ...\n",
      "2273         1  and thus shalt thou do unto aaron and to his s...\n",
      "       cluster                                               text\n",
      "173          2  and he stayed yet other seven days and again h...\n",
      "26410        2  thus adam made request and raphael after short...\n",
      "5927         2  once a youthful pair filled with softest care ...\n",
      "167          2  and the waters prevailed upon the earth an hun...\n",
      "33227        2                                wonderful to depart\n",
      "21123        2                          jonah that's another stab\n",
      "33531        2                             heave the anchor short\n",
      "14604        2  in many sceptical papers and magazines afterwa...\n",
      "32836        2  the threads that were spun are gather'd the we...\n",
      "33635        2              the rounded catalogue divine complete\n",
      "       cluster                                               text\n",
      "12058        3  the fact that the lady had a little fur at her...\n",
      "9161         3  very few of the little people of the green for...\n",
      "6691         3  but when the dizziness began to go off she whi...\n",
      "23031        3  he was naturally a very nervous shuddering sor...\n",
      "6949         3                bother the suspicious little jackal\n",
      "20417        3  some years ago never mind how long precisely h...\n",
      "13073        3                a girl had the toothache in croydon\n",
      "5704         3  the hum of multitudes was there but multitudes...\n",
      "21299        3  yes we became very wakeful so much so that our...\n",
      "7461         3                             said the little jackal\n",
      "       cluster                                               text\n",
      "4033         4  and their drink offerings shall be half an hin...\n",
      "4984         4  according as we hearkened unto moses in all th...\n",
      "3723         4  and moses laid up the rods before the lord in ...\n",
      "5036         4  and the people came up out of jordan on the te...\n",
      "3465         4  and moses said unto them stand still and i wil...\n",
      "3573         4  and miriam was shut out from the camp seven da...\n",
      "4507         4          ye shall not do so unto the lord your god\n",
      "1104         4  and it came to pass when she travailed that th...\n",
      "21825        4                  the lord be merciful to his ghost\n",
      "5312         4  and there remained among the children of israe...\n",
      "       cluster                                               text\n",
      "21069        5  in black distress i called my god when i could...\n",
      "22270        5  but even granting the charge in question to be...\n",
      "23908        5  and of all these things the albino whale was t...\n",
      "20340        5          thomas beale's history of the sperm whale\n",
      "24091        5  again it is very often observed that if the sp...\n",
      "23072        5  the worthy obed tells us that in the early tim...\n",
      "24003        5  in the three year instance it so fell out that...\n",
      "20369        5  the whale ship globe on board of which vessel ...\n",
      "22321        5  by old english statutory law the whale is decl...\n",
      "25318        5  furthermore you must know that when the second...\n",
      "       cluster                                               text\n",
      "27174        6  then heaven and earth renewed shall be made pu...\n",
      "27497        6  greatly instructed i shall hence depart greatl...\n",
      "4548         6  but these are they of which ye shall not eat t...\n",
      "2888         6  and when he that hath an issue is cleansed of ...\n",
      "2651         6  and he shall bring them unto the priest who sh...\n",
      "3174         6  and if there remain but few years unto the yea...\n",
      "4205         6  and the cities shall they have to dwell in and...\n",
      "8107         6  each one said to himself i must have been righ...\n",
      "3183         6  and ye shall chase your enemies and they shall...\n",
      "29408        6  we shall not spend a large expence of time bef...\n",
      "       cluster                                               text\n",
      "19845        7  no i am afraid not if this be it said his uncl...\n",
      "8194         7                                  said the courtier\n",
      "642          7  and isaac said unto him because i said lest i ...\n",
      "16913        7                  why ma'am said he may i speak out\n",
      "24409        7                                         said flask\n",
      "21866        7  queequeg said i get into bed now and lie and l...\n",
      "15918        7  i will madam do anything you order me said fra...\n",
      "14534        7      quayle hutton he said you will escape with me\n",
      "29029        7                                        i haue said\n",
      "3537         7  and moses said the people among whom i am are ...\n",
      "       cluster                                               text\n",
      "23552        8  quietly smoking that's a white man he calls th...\n",
      "18266        8                             the great man milliner\n",
      "13139        8  turnbull's eyes did not move but he realized t...\n",
      "12548        8       there is no man in my dominions so vile as i\n",
      "11052        8  it was also incongruous with the full and heal...\n",
      "25659        8  of man's first disobedience and the fruit of t...\n",
      "28496        8                                      are you a man\n",
      "22533        8  it's queer very queer and he's queer too aye t...\n",
      "30216        8  if any thing is sacred the human body is sacre...\n",
      "7435         8  i lie here in the mud all day as harmless as a...\n",
      "       cluster                                               text\n",
      "28705        9  shew his eyes and greeue his hart come like sh...\n",
      "15800        9  to which the landlord coolly replied that as l...\n",
      "10623        9  macian made a military salute with his weapon ...\n",
      "14380        9  the astronomers are always telling us that it ...\n",
      "10193        9  by the time he had reached that place of safet...\n",
      "12745        9  we could drink all the wine and smoke all the ...\n",
      "26009        9  he ceased and satan stayed not to reply but gl...\n",
      "21365        9  in short like many inland reapers and mowers w...\n",
      "29005        9    would i could answer this comfort with the like\n",
      "21735        9    oh thou'lt like him well enough no fear no fear\n",
      "Empty DataFrame\n",
      "Columns: [cluster, text]\n",
      "Index: []\n"
     ]
    }
   ],
   "source": [
    "for clust in np.arange(1,11,1):\n",
    "    print(text_and_clusters[text_and_clusters['cluster'] == clust].head(10))"
   ]
  },
  {
   "cell_type": "markdown",
   "metadata": {},
   "source": [
    "And again let's look at the top tfidf terms."
   ]
  },
  {
   "cell_type": "code",
   "execution_count": 121,
   "metadata": {
    "collapsed": true
   },
   "outputs": [],
   "source": [
    "# Create a DF with the cluster and each of the doc vectors, but named\n",
    "tfidf_names = pd.DataFrame(X_train_tfidf.todense(),columns=vectorizer.get_feature_names())\n",
    "tfidf_names['cluster'] = Y_pred\n",
    "tfidf_names = tfidf_names.groupby('cluster').mean().T"
   ]
  },
  {
   "cell_type": "code",
   "execution_count": 123,
   "metadata": {
    "scrolled": true
   },
   "outputs": [
    {
     "data": {
      "text/plain": [
       "earth     0.015881\n",
       "sea       0.015810\n",
       "heaven    0.010180\n",
       "ship      0.009991\n",
       "night     0.009796\n",
       "far       0.008961\n",
       "air       0.007714\n",
       "light     0.007674\n",
       "soul      0.006926\n",
       "stood     0.006808\n",
       "eyes      0.006353\n",
       "sun       0.006109\n",
       "head      0.006043\n",
       "long      0.006034\n",
       "high      0.005826\n",
       "new       0.005548\n",
       "great     0.005514\n",
       "till      0.005354\n",
       "round     0.005289\n",
       "Name: 2, dtype: float64"
      ]
     },
     "execution_count": 123,
     "metadata": {},
     "output_type": "execute_result"
    }
   ],
   "source": [
    "# Input different clusters to output top tfidf terms\n",
    "top_tfidf_terms(2)"
   ]
  },
  {
   "cell_type": "markdown",
   "metadata": {},
   "source": [
    "I think the spectral clustering is most useful of the bunch, with k-means not far behind. It at least seems to be identifying unique words & themes among the data. For example, cluster 2 in this instance seems to be picking up on natural themes like earth/sea/air/night/etc. Interesting stuff!\n",
    "\n",
    "Let's see if there's some visual information that can be conveyed by reducing the information to two dimensions. "
   ]
  },
  {
   "cell_type": "code",
   "execution_count": 67,
   "metadata": {
    "scrolled": true
   },
   "outputs": [
    {
     "name": "stderr",
     "output_type": "stream",
     "text": [
      "/root/anaconda3/lib/python3.6/site-packages/matplotlib/font_manager.py:1297: UserWarning: findfont: Font family ['sans-serif'] not found. Falling back to DejaVu Sans\n",
      "  (prop.get_family(), self.defaultFamily[fontext]))\n"
     ]
    },
    {
     "data": {
      "image/png": "[encoded data removed]",
      "text/plain": [
       "<matplotlib.figure.Figure at 0x7f15acbd6cf8>"
      ]
     },
     "metadata": {},
     "output_type": "display_data"
    }
   ],
   "source": [
    "# Plotting the information\n",
    "plt.scatter(X_train_lsa[:, 0], X_train_lsa[:, 1], c=Y_pred,cmap='Accent')\n",
    "plt.title(\"Scatter Plot: Spectral Clusters by First Two SVD Dimensions\")\n",
    "plt.show()"
   ]
  },
  {
   "cell_type": "markdown",
   "metadata": {},
   "source": [
    "As we can see, there's not much rhyme or reason to the clusters we've created that are visually apparent, at least along the first two SVD dimensions. This is not particularly surprising given that we know that there is major overlap between the clusters and that the first two LSA components only account for a very small fraction of the overall variance in the text data.\n",
    "\n",
    "Let's see if it produces consistent results on the test set."
   ]
  },
  {
   "cell_type": "code",
   "execution_count": 124,
   "metadata": {
    "collapsed": true
   },
   "outputs": [],
   "source": [
    "# Vectorizing test data per our training set\n",
    "X_test_tfidf = vectorizer.transform(X_test)\n",
    "X_test_lsa = lsa.fit_transform(X_test_tfidf)"
   ]
  },
  {
   "cell_type": "code",
   "execution_count": 125,
   "metadata": {
    "collapsed": true
   },
   "outputs": [],
   "source": [
    "Y_pred_test = sc.fit_predict(X_test_lsa)"
   ]
  },
  {
   "cell_type": "code",
   "execution_count": 104,
   "metadata": {
    "collapsed": true
   },
   "outputs": [],
   "source": [
    "text_and_clusters = pd.DataFrame({'text':X_test, 'cluster':Y_pred_test})"
   ]
  },
  {
   "cell_type": "code",
   "execution_count": 105,
   "metadata": {
    "scrolled": true
   },
   "outputs": [
    {
     "name": "stdout",
     "output_type": "stream",
     "text": [
      "       cluster                                               text\n",
      "2399         1  thrice in the year shall all your menchildren ...\n",
      "5505         1  and it came to pass when the angel of the lord...\n",
      "1390         1  and joseph made it a law over the land of egyp...\n",
      "26871        1  so spake the patriarch of mankind but eve pers...\n",
      "3110         1  and moses declared unto the children of israel...\n",
      "1980         1  and the lord came down upon mount sinai on the...\n",
      "3048         1  and moses told it unto aaron and to his sons a...\n",
      "3414         1  and the lord spake unto moses saying speak unt...\n",
      "4111         1  and the lord's anger was kindled the same time...\n",
      "1133         1  and joseph came in unto them in the morning an...\n",
      "       cluster                                               text\n",
      "26286        2    to which the fiend thus answered frowning stern\n",
      "32134        2  lo high toward heaven this day libertad from t...\n",
      "12           2                and god called the firmament heaven\n",
      "29660        2                                       o music wild\n",
      "27673        2                    what can the deuill speake true\n",
      "26570        2  the terms we sent were terms of weight of hard...\n",
      "21306        2  for the height of this sort of deliciousness i...\n",
      "33383        2  what fluid vast identity holding the universe ...\n",
      "26629        2  though i uncircumscribed myself retire and put...\n",
      "23303        2                                            in vain\n",
      "       cluster                                               text\n",
      "420          3  and they said again this one fellow came in to...\n",
      "9202         3         me said little joe in a rather faint voice\n",
      "16808        3  many roofs that are twice as high are not half...\n",
      "19903        3                                    said mr gresham\n",
      "1115         3  and it came to pass after these things that hi...\n",
      "14883        3  the part of the castle in which they lived see...\n",
      "21486        3  queequeg said i do you think that we can make ...\n",
      "1516         3     and he said unto his daughters and where is he\n",
      "752          3  and laban said it is better that i give her to...\n",
      "13418        3  the soldier had no business to do that said ma...\n",
      "       cluster                                               text\n",
      "7147         4  there were strings of white fluffy stuff droop...\n",
      "9507         4  farmer brown's boy had just stepped out from b...\n",
      "16815        4  he was some little time before he could perfec...\n",
      "9206         4                     i i hope so replied little joe\n",
      "9416         4  you have made a hero of buster bear because yo...\n",
      "9230         4  there on the bank beside the little pool were ...\n",
      "8987         4  so the two little brown coated scamps turned d...\n",
      "5636         4                         little lamb god bless thee\n",
      "9291         4  little joe otter swam straight to the big rock...\n",
      "15061        4  in his youth he had always carried the dame to...\n",
      "       cluster                                               text\n",
      "21448        5  merchant ships are but extension bridges armed...\n",
      "12264        5  the sea that lay before them was like a paveme...\n",
      "2524         5  and he made the breastplate of cunning work li...\n",
      "7650         5  that evening the palace was all trimmed with t...\n",
      "12014        5  that is he was motionless even lifeless and ye...\n",
      "13070        5                    turnbull went on like a torrent\n",
      "18939        5  cries my jackanapes and off he gallops him thr...\n",
      "28537        5  can such things be and ouercome vs like a summ...\n",
      "24618        5  for in their interflowing aggregate those gran...\n",
      "6789         5                                        a puppy dog\n",
      "       cluster                                               text\n",
      "3539         6  or shall all the fish of the sea be gathered t...\n",
      "4214         6  ye shall give three cities on this side jordan...\n",
      "3668         6  and the priest shall make an atonement for the...\n",
      "4221         6  but if he thrust him suddenly without enmity o...\n",
      "5102         6  in the morning therefore ye shall be brought a...\n",
      "3919         6  he shall pour the water out of his buckets and...\n",
      "2621         6  it shall be a perpetual statute for your gener...\n",
      "25764        6  for who can yet believe though after loss that...\n",
      "4579         6  and there shall be no leavened bread seen with...\n",
      "4635         6  if a false witness rise up against any man to ...\n",
      "       cluster                                               text\n",
      "23737        7  so that overawed by the rumors and portents co...\n",
      "22755        7  it yields the article commonly known as whaleb...\n",
      "6479         7     at the jerk up came the whale out of the water\n",
      "23758        7  judge then to what pitches of inflamed distrac...\n",
      "23757        7  but though similar disasters however little br...\n",
      "24553        7  but this is a harmless little foible in the en...\n",
      "24164        7  the sperm whale blows as a clock ticks with th...\n",
      "22575        7  here have i been unconsciously toiling not ple...\n",
      "22684        7  there are only two books in being which at all...\n",
      "20511        7  chief among these motives was the overwhelming...\n",
      "       cluster                                               text\n",
      "26756        8  a nice and subtle happiness i see thou to thys...\n",
      "26739        8  ' in sign whereof each bird and beast behold'a...\n",
      "4790         8  the lord shall establish thee an holy people u...\n",
      "27103        8  adorned she was indeed and lovely to attract t...\n",
      "26872        8  with thy permission then and thus forewarned c...\n",
      "33421        8     what whirls of evil bliss and sorrow stem thee\n",
      "27220        8  fond wish couldst thou support that burden hea...\n",
      "21751        8                                i wish to warn thee\n",
      "26450        8  words which no ear ever to hear in heaven expe...\n",
      "27049        8  imputest thou that to my default or will of wa...\n",
      "       cluster                                               text\n",
      "14053        9  at that moment the man knocked down his own ey...\n",
      "32423        9  for only at last after many years after chasti...\n",
      "553          9  and the damsel was very fair to look upon a vi...\n",
      "10781        9  but when the same man was brought before a mag...\n",
      "25184        9  perhaps a very little thought will now enable ...\n",
      "22389        9  that immaculate manliness we feel within ourse...\n",
      "16204        9  he passed the door of his own cottage with res...\n",
      "5104         9  so joshua rose up early in the morning and bro...\n",
      "27216        9  ah why should all mankind for one man's fault ...\n",
      "33447        9  ever the undiscouraged resolute struggling sou...\n",
      "Empty DataFrame\n",
      "Columns: [cluster, text]\n",
      "Index: []\n"
     ]
    }
   ],
   "source": [
    "for clust in np.arange(1,11,1):\n",
    "    print(text_and_clusters[text_and_clusters['cluster'] == clust].head(10))"
   ]
  },
  {
   "cell_type": "code",
   "execution_count": 128,
   "metadata": {
    "collapsed": true
   },
   "outputs": [],
   "source": [
    "# Create a DF with the cluster and each of the doc vectors, but named\n",
    "tfidf_names_test = pd.DataFrame(X_test_tfidf.todense(),columns=vectorizer.get_feature_names())\n",
    "tfidf_names_test['cluster'] = Y_pred_test\n",
    "tfidf_names_test = tfidf_names_test.groupby('cluster').mean().T"
   ]
  },
  {
   "cell_type": "code",
   "execution_count": 132,
   "metadata": {
    "scrolled": true
   },
   "outputs": [
    {
     "data": {
      "text/plain": [
       "thou      0.220856\n",
       "thee      0.124512\n",
       "thy       0.121076\n",
       "shalt     0.107090\n",
       "unto      0.036606\n",
       "shall     0.033515\n",
       "hast      0.029166\n",
       "god       0.028071\n",
       "art       0.026647\n",
       "lord      0.024163\n",
       "thine     0.019917\n",
       "said      0.019659\n",
       "make      0.017009\n",
       "land      0.012492\n",
       "st        0.012246\n",
       "people    0.011756\n",
       "come      0.010470\n",
       "eat       0.010214\n",
       "let       0.010083\n",
       "Name: 5, dtype: float64"
      ]
     },
     "execution_count": 132,
     "metadata": {},
     "output_type": "execute_result"
    }
   ],
   "source": [
    "# Input different clusters to output top tfidf terms\n",
    "top_tfidf_terms(5,tfidf_names_test)"
   ]
  },
  {
   "cell_type": "markdown",
   "metadata": {},
   "source": [
    "The clustering seems to be working similarly on the test set by, for example, having a cluster that groups common biblical terms."
   ]
  },
  {
   "cell_type": "markdown",
   "metadata": {},
   "source": [
    "### Spectral Clustering Using Lemmas\n",
    "Perhaps we can produce even more interesting clusters when we use lemmas the token to be vectorized. Let's see how the clusters change when relying on lemmas."
   ]
  },
  {
   "cell_type": "code",
   "execution_count": 133,
   "metadata": {
    "collapsed": true
   },
   "outputs": [],
   "source": [
    "literature_lemmas = pd.read_pickle(\"literature_lemmas.pkl\")\n",
    "X_lemmas = literature_lemmas['text']\n",
    "Y_lemmas = literature_lemmas['author']"
   ]
  },
  {
   "cell_type": "code",
   "execution_count": 134,
   "metadata": {
    "collapsed": true
   },
   "outputs": [],
   "source": [
    "# Reserving 25% as a training set\n",
    "from sklearn.model_selection import train_test_split\n",
    "\n",
    "X_lemmas = literature_lemmas['text']\n",
    "Y_lemmas = literature_lemmas['author']\n",
    "\n",
    "X_train_lemmas, X_test_lemmas, Y_train_lemmas, Y_test_lemmas = train_test_split(X_lemmas, Y_lemmas, test_size=0.25, random_state=11)"
   ]
  },
  {
   "cell_type": "code",
   "execution_count": 135,
   "metadata": {},
   "outputs": [
    {
     "name": "stdout",
     "output_type": "stream",
     "text": [
      "(25248, 5947)\n"
     ]
    }
   ],
   "source": [
    "# tfidf vectorization\n",
    "from sklearn.feature_extraction.text import TfidfVectorizer\n",
    "\n",
    "vectorizer = TfidfVectorizer(max_df=0.8, \n",
    "                             min_df=5, \n",
    "                             stop_words='english', \n",
    "                             use_idf=True,\n",
    "                             norm=u'l2', \n",
    "                             smooth_idf=True \n",
    "                            )\n",
    "\n",
    "X_train_tfidf_lemma = vectorizer.fit_transform(X_train_lemmas)\n",
    "print(X_train_tfidf_lemma.shape)"
   ]
  },
  {
   "cell_type": "code",
   "execution_count": 136,
   "metadata": {
    "collapsed": true
   },
   "outputs": [],
   "source": [
    "# Again truncating to 100 features via LSA\n",
    "from sklearn.decomposition import TruncatedSVD\n",
    "from sklearn.pipeline import make_pipeline\n",
    "from sklearn.preprocessing import Normalizer\n",
    "\n",
    "svd= TruncatedSVD(100)\n",
    "lsa = make_pipeline(svd, Normalizer(copy=False))\n",
    "X_train_lsa_lemma = lsa.fit_transform(X_train_tfidf_lemma)"
   ]
  },
  {
   "cell_type": "code",
   "execution_count": 137,
   "metadata": {
    "collapsed": true
   },
   "outputs": [],
   "source": [
    "from sklearn.cluster import SpectralClustering\n",
    "\n",
    "sc = SpectralClustering(n_clusters=10)\n",
    "Y_pred_lemma = sc.fit_predict(X_train_lsa_lemma)"
   ]
  },
  {
   "cell_type": "code",
   "execution_count": 91,
   "metadata": {},
   "outputs": [
    {
     "name": "stdout",
     "output_type": "stream",
     "text": [
      "Comparing k-means clusters against authors:\n",
      "col_0           0    1     2    3     4    5    6    7    8    9\n",
      "row_0                                                           \n",
      "bible         811  605   117    5  1775    0  672   42   95   11\n",
      "blake         128   24   115   23     3    0    7    2    2   12\n",
      "bryant       1226    6   316  325    56    9   15   99   60   50\n",
      "burgess       617    0    42  114     3    0    0   10    0    5\n",
      "chesterton   2381    4   646   56    34    7   28   83  190  203\n",
      "edgeworth    3293    3   298  103    97    3   51  114   69   45\n",
      "melville     2232   59   919   75    42  449   22   44  118  171\n",
      "milton        429  256   558    0    18    1   58    5   37   41\n",
      "shakespeare  1123   68   110    5    27    1   32    4   19   26\n",
      "whitman      1530  148  1230   29    48    3   73    4   73   51\n"
     ]
    }
   ],
   "source": [
    "# Looking at a crosstab to visually inspect how authors line up with clusters\n",
    "print('Comparing k-means clusters against authors:')\n",
    "print(pd.crosstab(Y_train.values, Y_pred))"
   ]
  },
  {
   "cell_type": "code",
   "execution_count": 92,
   "metadata": {},
   "outputs": [
    {
     "data": {
      "text/plain": [
       "0.060285820811467758"
      ]
     },
     "execution_count": 92,
     "metadata": {},
     "output_type": "execute_result"
    }
   ],
   "source": [
    "from sklearn import metrics\n",
    "\n",
    "metrics.adjusted_rand_score(Y_train.values, Y_pred)"
   ]
  },
  {
   "cell_type": "code",
   "execution_count": 93,
   "metadata": {
    "collapsed": true
   },
   "outputs": [],
   "source": [
    "text_and_clusters = pd.DataFrame({'text':X_train_lemmas, 'cluster':Y_pred})"
   ]
  },
  {
   "cell_type": "code",
   "execution_count": 94,
   "metadata": {
    "scrolled": true
   },
   "outputs": [
    {
     "name": "stdout",
     "output_type": "stream",
     "text": [
      "       cluster                                               text\n",
      "27101        1                     thy god thou didst obey voice \n",
      "2287         1  golden ring shalt thou crown corner thereof si...\n",
      "32945        1                       thou mother thy equal brood \n",
      "862          1  year thee thy ewe thy goat cast young ram thy ...\n",
      "1995         1                        thou shalt commit adultery \n",
      "3652         1  ram thou shalt prepare meat offer tenth deal f...\n",
      "26301        1      thy captive talk chain proud limitary cherub \n",
      "4755         1           thou shalt write stone word law plainly \n",
      "26879        1  thou hour paradise foundst sweet repast sound ...\n",
      "2273         1  shalt thou unto aaron son accord thing command...\n",
      "       cluster                                               text\n",
      "173          2  stay seven day send forth dove ark dove come e...\n",
      "26410        2     adam request raphael short pause assent begin \n",
      "5927         2  youthful pair fill soft care meet garden brigh...\n",
      "167          2                           water prevail earth day \n",
      "33227        2                                  wonderful depart \n",
      "21123        2                                     jonah be stab \n",
      "33531        2                                heave anchor short \n",
      "14604        2  sceptical paper magazine sadly sternly rebuke ...\n",
      "32836        2  thread spin gather'd wet cross warp pattern sy...\n",
      "33635        2                 rounded catalogue divine complete \n",
      "       cluster                                               text\n",
      "12058        3  fact lady little fur throat fact curve cheek l...\n",
      "9161         3  little people green forest green meadow willin...\n",
      "6691         3  dizziness begin whisk little scissor apron poc...\n",
      "23031        3  naturally nervous shudder sort little fellow b...\n",
      "6949         3                   bother suspicious little jackal \n",
      "20417        3  year ago mind long precisely have little money...\n",
      "13073        3                            girl toothache croydon \n",
      "5704         3  hum multitude multitude lamb thousand little b...\n",
      "21299        3  yes wakeful recumbent position begin grow wear...\n",
      "7461         3                                 say little jackal \n",
      "       cluster                                               text\n",
      "4033         4  drink offering shall half hin wine unto bulloc...\n",
      "4984         4  accord hearken unto mos thing hearken unto the...\n",
      "3723         4               mos lay rod lord tabernacle witness \n",
      "5036         4  people come jordan tenth day month encamp gilg...\n",
      "3465         4      mos say unto stand hear lord command concern \n",
      "3573         4  miriam shut camp seven day people journey till...\n",
      "4507         4                            ye shall unto lord god \n",
      "1104         4  come pass travail hand midwife take bind hand ...\n",
      "21825        4                               lord merciful ghost \n",
      "5312         4  remain child israel seven tribe receive inheri...\n",
      "       cluster                                               text\n",
      "21069        5  black distress call god scarce believe bow ear...\n",
      "22270        5  grant charge question true disorder slippery d...\n",
      "23908        5                         thing albino whale symbol \n",
      "20340        5                thoma beale 's history sperm whale \n",
      "24091        5  observe sperm whale strike allow time rally ac...\n",
      "23072        5  worthy obed tell early time whale fishery ere ...\n",
      "24003        5  year instance fall boat time time distinctly r...\n",
      "20369        5  whale ship globe board vessel occur horrid tra...\n",
      "22321        5  old english statutory law whale declare royal ...\n",
      "25318        5  furthermore know second iron throw overboard t...\n",
      "       cluster                                               text\n",
      "27174        6  heaven earth renew shall pure sanctity shall r...\n",
      "27497        6  greatly instruct shall depart greatly peace th...\n",
      "4548         6  ye shall eat eagle ossifrage ospray glede kite...\n",
      "2888         6  hath issue cleanse issue shall number seven da...\n",
      "2651         6  shall bring unto priest shall offer sin offer ...\n",
      "3174         6  remain year unto year jubile shall count accor...\n",
      "4205         6   city shall dwell suburb shall cattle good beast \n",
      "8107         6  say right artist see wrong shall credit save p...\n",
      "3183         6             ye shall chase enemy shall fall sword \n",
      "29408        6  shall spend large expence time reckon seuerall...\n",
      "       cluster                                               text\n",
      "19845        7  afraid say uncle take jagged knot remain hal '...\n",
      "8194         7                                      say courtier \n",
      "642          7                       isaac say unto say lest die \n",
      "16913        7                                   madam say speak \n",
      "24409        7                                         say flask \n",
      "21866        7                       queequeg say bed lie listen \n",
      "15918        7         madam order say franklin receive key hand \n",
      "14534        7                          quayle hutton say escape \n",
      "29029        7                                          haue say \n",
      "3537         7  mos say people thousand footman thou hast say ...\n",
      "       cluster                                               text\n",
      "23552        8         quietly smoke be white man call fun humph \n",
      "18266        8                                great man milliner \n",
      "13139        8  turnbull 's eye realize man panama hat lose ea...\n",
      "12548        8                                 man dominion vile \n",
      "11052        8      incongruous healthy loose physique man speak \n",
      "25659        8  man 's disobedience fruit forbid tree mortal t...\n",
      "28496        8                                               man \n",
      "22533        8  be queer queer be queer aye fore aft be queer ...\n",
      "30216        8  thing sacred human body sacred glory sweet man...\n",
      "7435         8  lie mud day harmless pigeon hunt man time man ...\n",
      "       cluster                                               text\n",
      "28705        9     shew eye greeue hart come like shadowe depart \n",
      "15800        9  landlord coolly reply long pay like gentleman ...\n",
      "10623        9  macian military salute weapon turnbull copy pa...\n",
      "14380        9  astronomer tell shape like orange like egg lik...\n",
      "10193        9  time reach place safety feel impossible fit dr...\n",
      "12745        9  drink wine smoke cigar easily week say turnbul...\n",
      "26009        9  cease satan stay reply glad sea find shore fre...\n",
      "21365        9  short like inland reaper mower farmers'meadow ...\n",
      "29005        9                               answer comfort like \n",
      "21735        9                         oh thou'lt like fear fear \n",
      "Empty DataFrame\n",
      "Columns: [cluster, text]\n",
      "Index: []\n"
     ]
    }
   ],
   "source": [
    "for clust in np.arange(1,11,1):\n",
    "    print(text_and_clusters[text_and_clusters['cluster'] == clust].head(10))"
   ]
  },
  {
   "cell_type": "code",
   "execution_count": 138,
   "metadata": {
    "collapsed": true
   },
   "outputs": [],
   "source": [
    "# Create a DF with the cluster and each of the doc vectors, but named\n",
    "tfidf_names_lemma = pd.DataFrame(X_train_tfidf_lemma.todense(),columns=vectorizer.get_feature_names())\n",
    "tfidf_names_lemma['cluster'] = Y_pred\n",
    "tfidf_names_lemma = tfidf_names_lemma.groupby('cluster').mean().T"
   ]
  },
  {
   "cell_type": "code",
   "execution_count": 141,
   "metadata": {
    "scrolled": true
   },
   "outputs": [
    {
     "data": {
      "text/plain": [
       "sea       0.016763\n",
       "earth     0.016449\n",
       "ship      0.011778\n",
       "heaven    0.011212\n",
       "night     0.010617\n",
       "light     0.009564\n",
       "far       0.009151\n",
       "stand     0.009080\n",
       "eye       0.008316\n",
       "water     0.008149\n",
       "fall      0.008064\n",
       "air       0.008003\n",
       "soul      0.007497\n",
       "high      0.007414\n",
       "head      0.007393\n",
       "open      0.007365\n",
       "great     0.006809\n",
       "sun       0.006451\n",
       "long      0.006319\n",
       "Name: 2, dtype: float64"
      ]
     },
     "execution_count": 141,
     "metadata": {},
     "output_type": "execute_result"
    }
   ],
   "source": [
    "# Input different clusters to output top tfidf terms\n",
    "top_tfidf_terms(2,tfidf_names_lemma)"
   ]
  },
  {
   "cell_type": "markdown",
   "metadata": {},
   "source": [
    "It is hard to say whether the lemmas vectorization is producing better clusters, as qualitatively the ones it produces are somewhat similar (one related to nature (sea/earth/night), another for biblical terms, etc.). Which one is preferable will be situational and depend on the specific aims of your research question.\n",
    "\n",
    "Let's move on to supervised learning."
   ]
  },
  {
   "cell_type": "markdown",
   "metadata": {},
   "source": [
    "# Supervised Learning\n",
    "We'll rely on the LSA exercise we relied on previously. Let's first take a quick look at what constitutes each component.\n",
    "\n",
    "Our key metric will be overall classification accuracy, versus a baseline of guessing the mode (The Bible).\n",
    "\n",
    "Let's start with vanilla versions of various classifiers to see where that gets us. \n",
    "\n",
    "### LSA Models"
   ]
  },
  {
   "cell_type": "code",
   "execution_count": 5,
   "metadata": {},
   "outputs": [],
   "source": [
    "# Repeating vectorization and LSA in case not running previous cells\n",
    "from sklearn.model_selection import train_test_split\n",
    "\n",
    "X = literature['text']\n",
    "Y = literature['author']\n",
    "\n",
    "X_train, X_test, Y_train, Y_test = train_test_split(X, Y, test_size=0.25, random_state=11)\n",
    "\n",
    "from sklearn.feature_extraction.text import TfidfVectorizer\n",
    "\n",
    "vectorizer = TfidfVectorizer(max_df=0.8, \n",
    "                             min_df=5, \n",
    "                             stop_words='english', \n",
    "                             use_idf=True,\n",
    "                             norm=u'l2', \n",
    "                             smooth_idf=True \n",
    "                            )\n",
    "\n",
    "X_train_tfidf = vectorizer.fit_transform(X_train)\n",
    "\n",
    "svd= TruncatedSVD(100)\n",
    "lsa = make_pipeline(svd, Normalizer(copy=False))\n",
    "X_train_lsa = lsa.fit_transform(X_train_tfidf)\n",
    "\n",
    "X_test_tfidf = vectorizer.transform(X_test)\n",
    "X_test_lsa = lsa.transform(X_test_tfidf)"
   ]
  },
  {
   "cell_type": "code",
   "execution_count": 8,
   "metadata": {
    "scrolled": true
   },
   "outputs": [
    {
     "data": {
      "text/plain": [
       "0.1665230952027328"
      ]
     },
     "execution_count": 8,
     "metadata": {},
     "output_type": "execute_result"
    }
   ],
   "source": [
    "# Establishing baseline of just guessing mode (bible)\n",
    "Y.value_counts().max()/len(Y)"
   ]
  },
  {
   "cell_type": "code",
   "execution_count": 236,
   "metadata": {},
   "outputs": [],
   "source": [
    "# Instantiating vanilla versions of each model\n",
    "from sklearn.linear_model import LogisticRegression\n",
    "from sklearn.ensemble import RandomForestClassifier\n",
    "from sklearn.ensemble import GradientBoostingClassifier\n",
    "from sklearn.svm import SVC\n",
    "from sklearn import metrics\n",
    "\n",
    "lrc = LogisticRegression()\n",
    "rfc = RandomForestClassifier()\n",
    "gbc = GradientBoostingClassifier()\n",
    "svc = SVC()"
   ]
  },
  {
   "cell_type": "code",
   "execution_count": 22,
   "metadata": {
    "scrolled": true
   },
   "outputs": [
    {
     "name": "stdout",
     "output_type": "stream",
     "text": [
      "Logistic Regression Accuracy Score on Test Set: 0.5852441487465843\n",
      "Random Forest Accuracy Score on Test Set: 0.5372460496613995\n",
      "Gradient Boosted Classifier Accuracy Score on Test Set: 0.5876202922656528\n",
      "Support Vector Machine Accuracy Score on Test Set: 0.5341570630866105\n"
     ]
    }
   ],
   "source": [
    "models = {'Logistic Regression':lrc,'Random Forest':rfc,'Gradient Boosted Classifier':gbc,'Support Vector Machine':svc}\n",
    "accuracies = []\n",
    "\n",
    "for key in models:\n",
    "    # fit & predict\n",
    "    models[key].fit(X_train_lsa,Y_train)\n",
    "    Y_test_pred = models[key].predict(X_test_lsa)\n",
    "    # test accuracy\n",
    "    accuracy = metrics.accuracy_score(Y_test, Y_test_pred)\n",
    "    print(\"{} Accuracy Score on Test Set: {}\".format(key,accuracy))\n",
    "    accuracies.append(accuracy)"
   ]
  },
  {
   "cell_type": "markdown",
   "metadata": {},
   "source": [
    "Of course, these models could each be optimized in their own ways, but it's interesting to note that they all perform relatively similarly out of the box. Each is struggling to generate accuracy far above 50% on our test set observations. Granted, this is a very tough problem, so guessing half of passages based purely on their text is pretty good! But there's some things we can experiment with beyond just the usual fine tuning of models, which we'll save for last. For one, we can exclude paragraphs from training and test that do not meet a certain length. Let's try that.\n",
    "\n",
    "### Modeling on a subsetted dataset to exclude short paragraphs"
   ]
  },
  {
   "cell_type": "code",
   "execution_count": 6,
   "metadata": {
    "scrolled": true
   },
   "outputs": [],
   "source": [
    "# Applying func to add column word counts to df\n",
    "def count_words(string):\n",
    "    return len(string.split())\n",
    "literature['word_count'] = literature['text'].apply(count_words)\n",
    "\n",
    "# New DF with only paragraphs longer than five words\n",
    "literature_longersents = literature[literature['word_count'] > 5]\n",
    "\n",
    "X_long = literature_longersents['text']\n",
    "Y_long = literature_longersents['author']\n",
    "\n",
    "# Redoing train test split\n",
    "X_train2, X_test2, Y_train2, Y_test2 = train_test_split(X_long, Y_long, test_size=0.25, random_state=11)\n",
    "\n",
    "# Vectorizing and performing LSA\n",
    "X_train_long_tfidf = vectorizer.fit_transform(X_train2)\n",
    "X_train_long_lsa = lsa.fit_transform(X_train_long_tfidf)\n",
    "\n",
    "X_test_long_tfidf = vectorizer.transform(X_test2)\n",
    "X_test_long_lsa = lsa.transform(X_test_long_tfidf)"
   ]
  },
  {
   "cell_type": "code",
   "execution_count": 24,
   "metadata": {
    "scrolled": true
   },
   "outputs": [
    {
     "name": "stdout",
     "output_type": "stream",
     "text": [
      "Logistic Regression Accuracy Score on Test Set: 0.6398104265402843\n",
      "Random Forest Accuracy Score on Test Set: 0.5311018957345972\n",
      "Gradient Boosted Classifier Accuracy Score on Test Set: 0.6132997630331753\n",
      "Support Vector Machine Accuracy Score on Test Set: 0.5848637440758294\n"
     ]
    }
   ],
   "source": [
    "# Rerunning our models with the new data\n",
    "for key in models:\n",
    "    # fit & predict\n",
    "    models[key].fit(X_train_long_lsa,Y_train2)\n",
    "    Y_test_pred = models[key].predict(X_test_long_lsa)\n",
    "    # test accuracy\n",
    "    accuracy = metrics.accuracy_score(Y_test2, Y_test_pred)\n",
    "    print(\"{} Accuracy Score on Test Set: {}\".format(key,accuracy))\n",
    "    accuracies.append(accuracy)"
   ]
  },
  {
   "cell_type": "markdown",
   "metadata": {},
   "source": [
    "Interesting. This improved the quality of most of our models and substantially for some. To experiment further with the predictive value of different input variables, let's even try using just the TFIDF vectorization itself as model.\n",
    "\n",
    "### TFIDF Models"
   ]
  },
  {
   "cell_type": "code",
   "execution_count": 26,
   "metadata": {},
   "outputs": [
    {
     "name": "stdout",
     "output_type": "stream",
     "text": [
      "Logistic Regression Accuracy Score on Test Set: 0.7852488151658767\n",
      "Random Forest Accuracy Score on Test Set: 0.654324644549763\n",
      "Gradient Boosted Classifier Accuracy Score on Test Set: 0.6627665876777251\n",
      "Support Vector Machine Accuracy Score on Test Set: 0.20927132701421802\n"
     ]
    }
   ],
   "source": [
    "# Rerunning our models with the new data\n",
    "for key in models:\n",
    "    # fit & predict\n",
    "    models[key].fit(X_train_long_tfidf,Y_train2)\n",
    "    Y_test_pred = models[key].predict(X_test_long_tfidf.toarray())\n",
    "    # test accuracy\n",
    "    accuracy = metrics.accuracy_score(Y_test2, Y_test_pred)\n",
    "    print(\"{} Accuracy Score on Test Set: {}\".format(key,accuracy))\n",
    "    accuracies.append(accuracy)"
   ]
  },
  {
   "cell_type": "markdown",
   "metadata": {},
   "source": [
    "All of our models seem to again improve with the exception of SVM, which seems to be unable to handle the large dimensional feature space. The logistic regression has leapt to the front of the pack. I suspect that this is because the L2 regularization it applies allows it to effectively handle the many many features we're now throwing at it. At 78.5% accuracy, we're really starting to approach a quite effective model. Let's gridsearch to optimize this regression and squeeze out the remaining performance.\n",
    "\n",
    "### Optimization of TFIDF Models"
   ]
  },
  {
   "cell_type": "code",
   "execution_count": 12,
   "metadata": {},
   "outputs": [
    {
     "name": "stdout",
     "output_type": "stream",
     "text": [
      "{'C': 10, 'penalty': 'l2'}\n"
     ]
    }
   ],
   "source": [
    "from sklearn.model_selection import GridSearchCV\n",
    "\n",
    "# Defining range of c values to try\n",
    "c_range = np.append(np.append(np.arange(0.1,1,0.1),np.arange(1,11,1)),np.arange(20,1020,20))\n",
    "\n",
    "# Parameter grid\n",
    "parameters = {'penalty':('l1', 'l2'), 'C':[0.11, 10]}\n",
    "\n",
    "# Run the gridsearch, save & print the best parameters\n",
    "grid_lr = GridSearchCV(lrc, parameters)\n",
    "grid_lr.fit(X_train_long_tfidf,Y_train2)\n",
    "best_params = grid_lr.best_params_\n",
    "print(best_params)"
   ]
  },
  {
   "cell_type": "code",
   "execution_count": 13,
   "metadata": {},
   "outputs": [
    {
     "name": "stdout",
     "output_type": "stream",
     "text": [
      "Optimized LR Accuracy Score on Test Set: 0.803021327014218\n"
     ]
    }
   ],
   "source": [
    "# Test performance on the test set\n",
    "lrc = LogisticRegression(**best_params)\n",
    "lrc.fit(X_train_long_tfidf,Y_train2)\n",
    "Y_test_pred = lrc.predict(X_test_long_tfidf)\n",
    "accuracy = metrics.accuracy_score(Y_test2, Y_test_pred)\n",
    "print(\"Optimized LR Accuracy Score on Test Set: {}\".format(accuracy))"
   ]
  },
  {
   "cell_type": "markdown",
   "metadata": {},
   "source": [
    "We're able to get to 80% accuracy. That's not bad at all! Let's see how much we can optimize the random forest."
   ]
  },
  {
   "cell_type": "code",
   "execution_count": 97,
   "metadata": {},
   "outputs": [
    {
     "name": "stdout",
     "output_type": "stream",
     "text": [
      "{'max_depth': None, 'min_samples_split': 5, 'n_estimators': 100}\n"
     ]
    }
   ],
   "source": [
    "from sklearn.model_selection import GridSearchCV\n",
    "\n",
    "# Defining range of values to try (done successively)\n",
    "est_range = np.arange(80,110,10)\n",
    "\n",
    "# Parameter grid\n",
    "parameters = {'n_estimators':est_range\n",
    "              , 'min_samples_split':[2,5,10]\n",
    "             ,'max_depth':[None,5,10,20,100]}\n",
    "\n",
    "# Run the gridsearch, save & print the best parameters\n",
    "grid_rfc = GridSearchCV(rfc, parameters)\n",
    "grid_rfc.fit(X_train_long_tfidf,Y_train2)\n",
    "best_params = grid_rfc.best_params_\n",
    "print(best_params)"
   ]
  },
  {
   "cell_type": "code",
   "execution_count": 98,
   "metadata": {},
   "outputs": [
    {
     "name": "stdout",
     "output_type": "stream",
     "text": [
      "Optimized LR Accuracy Score on Test Set: 0.7023104265402843\n"
     ]
    }
   ],
   "source": [
    "# Test performance on the test set\n",
    "rfc = RandomForestClassifier(**best_params)\n",
    "rfc.fit(X_train_long_tfidf,Y_train2)\n",
    "Y_test_pred = rfc.predict(X_test_long_tfidf)\n",
    "accuracy = metrics.accuracy_score(Y_test2, Y_test_pred)\n",
    "print(\"Optimized LR Accuracy Score on Test Set: {}\".format(accuracy))"
   ]
  },
  {
   "cell_type": "markdown",
   "metadata": {},
   "source": [
    "This could probably be optimized further with other parameters, but I've limited the number used due to computing constraints. In any event, logistic regression still seems to perform better than the random forest model. Gradient boosted classification and support vector machines could likely be optimized as well given more time, but gridsearching those was too computationally intensive for this exercise.\n",
    "\n",
    "Next, let's see if word2vec can provide the basis for a better model.\n",
    "\n",
    "### Word2Vec"
   ]
  },
  {
   "cell_type": "code",
   "execution_count": 8,
   "metadata": {
    "scrolled": true
   },
   "outputs": [],
   "source": [
    "# getting the words to train the model on in the correct format\n",
    "train_word_list = []\n",
    "for para in X_train2:\n",
    "    words = para.split()\n",
    "    train_word_list.append(words)"
   ]
  },
  {
   "cell_type": "code",
   "execution_count": 9,
   "metadata": {
    "scrolled": true
   },
   "outputs": [
    {
     "name": "stdout",
     "output_type": "stream",
     "text": [
      "done!\n"
     ]
    }
   ],
   "source": [
    "# importing gensim and instantiating\n",
    "import gensim\n",
    "from gensim.models import word2vec\n",
    "\n",
    "model = word2vec.Word2Vec(\n",
    "    train_word_list,\n",
    "    workers=4,     \n",
    "    min_count=10,  \n",
    "    window=6,      \n",
    "    sg=0,          \n",
    "    sample=1e-3 ,  \n",
    "    size=300,      \n",
    "    hs=1           \n",
    ")\n",
    "\n",
    "print('done!')"
   ]
  },
  {
   "cell_type": "code",
   "execution_count": null,
   "metadata": {},
   "outputs": [],
   "source": [
    "# Creating the word2vec feature space for the training set \n",
    "vstack = np.arange(0,300)\n",
    "for para in X_train2:\n",
    "    vector = []\n",
    "    wordlist = para.split()\n",
    "    for word in wordlist:\n",
    "        if word in model.wv:\n",
    "            vector.append(model.wv[word])\n",
    "    if len(vector) != 0:\n",
    "        vector_sums = np.sum(np.array(vector),axis=0)\n",
    "    else:    \n",
    "        vector_sums = np.repeat(0,300)\n",
    "    vstack = np.vstack([vstack,vector_sums])"
   ]
  },
  {
   "cell_type": "code",
   "execution_count": 227,
   "metadata": {},
   "outputs": [],
   "source": [
    "# And the same for the test set (separated out since it takes a while to run)\n",
    "vstack_test = np.arange(0,300)\n",
    "for para in X_test2:\n",
    "    vector = []\n",
    "    wordlist = para.split()\n",
    "    for word in wordlist:\n",
    "        if word in model.wv:\n",
    "            vector.append(model.wv[word])\n",
    "    if len(vector) != 0:\n",
    "        vector_sums = np.sum(np.array(vector),axis=0)\n",
    "    else:    \n",
    "        vector_sums = np.repeat(0,300)\n",
    "    vstack_test = np.vstack([vstack_test,vector_sums])"
   ]
  },
  {
   "cell_type": "code",
   "execution_count": 242,
   "metadata": {},
   "outputs": [],
   "source": [
    "from sklearn.preprocessing import normalize\n",
    "\n",
    "train_word2vec = pd.DataFrame(data=vstack[1:],columns=vstack[0])\n",
    "test_word2vec = pd.DataFrame(data=vstack_test[1:],columns=vstack_test[0])\n",
    "\n",
    "train_word2vec, test_word2vec = normalize(train_word2vec),normalize(test_word2vec)\n",
    "\n",
    "pd.DataFrame(train_word2vec).to_pickle(\"train_word2vec.pkl\")\n",
    "pd.DataFrame(test_word2vec).to_pickle(\"test_word2vec.pkl\")"
   ]
  },
  {
   "cell_type": "markdown",
   "metadata": {},
   "source": [
    "OK, now we've created the word2vec feature space. Let's run our models from before and see how they do."
   ]
  },
  {
   "cell_type": "code",
   "execution_count": 240,
   "metadata": {},
   "outputs": [
    {
     "data": {
      "text/plain": [
       "(20256, 300)"
      ]
     },
     "execution_count": 240,
     "metadata": {},
     "output_type": "execute_result"
    }
   ],
   "source": [
    "normalize(train_word2vec).shape"
   ]
  },
  {
   "cell_type": "code",
   "execution_count": 246,
   "metadata": {
    "scrolled": true
   },
   "outputs": [
    {
     "name": "stdout",
     "output_type": "stream",
     "text": [
      "Logistic Regression Accuracy Score on Test Set: 0.6272215639810427\n",
      "Random Forest Accuracy Score on Test Set: 0.5546504739336493\n",
      "Gradient Boosted Classifier Accuracy Score on Test Set: 0.6229265402843602\n",
      "Support Vector Machine Accuracy Score on Test Set: 0.529324644549763\n"
     ]
    }
   ],
   "source": [
    "models = {'Logistic Regression':lrc,'Random Forest':rfc,'Gradient Boosted Classifier':gbc,'Support Vector Machine':svc}\n",
    "\n",
    "for key in models:\n",
    "    # fit & predict\n",
    "    models[key].fit(train_word2vec,Y_train2)\n",
    "    Y_test_pred = models[key].predict(test_word2vec)\n",
    "    # test accuracy\n",
    "    accuracy = metrics.accuracy_score(Y_test2, Y_test_pred)\n",
    "    print(\"{} Accuracy Score on Test Set: {}\".format(key,accuracy))"
   ]
  },
  {
   "cell_type": "markdown",
   "metadata": {},
   "source": [
    "Interesting! Word2Vec did pretty well with the data, about the same range of accuracy as we saw from our original LSA models with default parameters. This could probably be improved through some optimization, but the real added value from word2vec could come from bringing in a pretrained model, since we know this technique typically is most effective when trained on an extremely large corpus (which ours is not).\n",
    "\n",
    "Out of curiosity, below I tried some of our original models with lemmas instead of word tokens. This didn't yield particularly useful results.\n",
    "\n",
    "### Modeling on Lemmas"
   ]
  },
  {
   "cell_type": "code",
   "execution_count": 83,
   "metadata": {
    "collapsed": true
   },
   "outputs": [],
   "source": [
    "literature_lemmas = pd.read_pickle(\"literature_lemmas.pkl\")"
   ]
  },
  {
   "cell_type": "code",
   "execution_count": 84,
   "metadata": {},
   "outputs": [],
   "source": [
    "# Reserving 25% as a training set\n",
    "from sklearn.model_selection import train_test_split\n",
    "\n",
    "X_lemmas = literature_lemmas['text']\n",
    "Y_lemmas = literature_lemmas['author']\n",
    "\n",
    "X_train_lemmas, X_test_lemmas, Y_train_lemmas, Y_test_lemmas = train_test_split(X_lemmas, Y_lemmas, test_size=0.25, random_state=11)"
   ]
  },
  {
   "cell_type": "code",
   "execution_count": 85,
   "metadata": {
    "collapsed": true
   },
   "outputs": [],
   "source": [
    "# tfidf vectorization\n",
    "from sklearn.feature_extraction.text import TfidfVectorizer\n",
    "\n",
    "vectorizer = TfidfVectorizer(max_df=0.8, \n",
    "                             min_df=5, \n",
    "                             stop_words='english', \n",
    "                             use_idf=True,\n",
    "                             norm=u'l2', \n",
    "                             smooth_idf=True \n",
    "                            )\n",
    "\n",
    "from sklearn.feature_extraction.text import TfidfVectorizer\n",
    "\n",
    "vectorizer = TfidfVectorizer(max_df=0.8, \n",
    "                             min_df=5, \n",
    "                             stop_words='english', \n",
    "                             use_idf=True,\n",
    "                             norm=u'l2', \n",
    "                             smooth_idf=True \n",
    "                            )\n",
    "\n",
    "X_train_tfidf_lemmas = vectorizer.fit_transform(X_train_lemmas)\n",
    "\n",
    "svd= TruncatedSVD(100)\n",
    "lsa = make_pipeline(svd, Normalizer(copy=False))\n",
    "X_train_lsa_lemmas = lsa.fit_transform(X_train_tfidf_lemmas)\n",
    "\n",
    "X_test_tfidf_lemmas = vectorizer.transform(X_test_lemmas)\n",
    "X_test_lsa_lemmas = lsa.transform(X_test_tfidf_lemmas)"
   ]
  },
  {
   "cell_type": "code",
   "execution_count": 90,
   "metadata": {},
   "outputs": [
    {
     "name": "stdout",
     "output_type": "stream",
     "text": [
      "Logistic Regression Accuracy Score on Test Set: 0.5845313056908638\n",
      "Random Forest Accuracy Score on Test Set: 0.5288107401687062\n",
      "Gradient Boosted Classifier Accuracy Score on Test Set: 0.5833432339313295\n",
      "Support Vector Machine Accuracy Score on Test Set: 0.5278602827610788\n"
     ]
    }
   ],
   "source": [
    "# Rerunning our models with the new data\n",
    "for key in models:\n",
    "    # fit & predict\n",
    "    models[key].fit(X_train_lsa_lemmas,Y_train_lemmas)\n",
    "    Y_test_pred = models[key].predict(X_test_lsa_lemmas)\n",
    "    # test accuracy\n",
    "    accuracy = metrics.accuracy_score(Y_test_lemmas, Y_test_pred)\n",
    "    print(\"{} Accuracy Score on Test Set: {}\".format(key,accuracy))\n",
    "    accuracies.append(accuracy)"
   ]
  },
  {
   "cell_type": "markdown",
   "metadata": {},
   "source": [
    "Using lemmas has very similar results to our first run of supervised models and may not represent much of an improvement."
   ]
  },
  {
   "cell_type": "markdown",
   "metadata": {},
   "source": [
    "# Concluding Thoughts\n",
    "This has been a very educational exercise. Here's a rundown of what we observed when working with the Gutenberg corpus.\n",
    "- Clustering produced mixed results. We weren't able to differentiate by author in the way we had hoped, but we were able to unearth some interesting topical clusterings.\n",
    "    - K means and spectral clustering produced the most interpretable results.\n",
    "    - Using lemmas instead of word tokens arguably made the clusters a bit easier to understand to the naked eye.\n",
    "- Supervised models had a much more useful application to the question of grouping passages by authors, and we were able to produce several fairly accurate models.\n",
    "- Our most accurate model on the test set was an L2 logistic regression based on the tfidf vectorization (without LSA) on paragraphs longer than 5 words, which was further grid-search optimized.\n",
    "    - In general, expanding to tfidf instead of using LSA improved performance, particularly for this logistic regression model.\n",
    "    - Excluding short paragraphs also helped improve the accuracy and applicability of our models, as the most common real world application would likely involve predicting the author based on a passage of at least a few words.\n",
    "    - Word2vec showed promise as a technique, but for better results we'd want to bring in a pretrained model informed by a much larger corpus.\n",
    "    - Stemming tokens showed limited impact on predictive value in our application."
   ]
  }
 ],
 "metadata": {
  "kernelspec": {
   "display_name": "Python 3",
   "language": "python",
   "name": "python3"
  },
  "language_info": {
   "codemirror_mode": {
    "name": "ipython",
    "version": 3
   },
   "file_extension": ".py",
   "mimetype": "text/x-python",
   "name": "python",
   "nbconvert_exporter": "python",
   "pygments_lexer": "ipython3",
   "version": "3.6.3"
  }
 },
 "nbformat": 4,
 "nbformat_minor": 2
}
