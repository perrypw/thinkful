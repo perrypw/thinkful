{
 "cells": [
  {
   "cell_type": "code",
   "execution_count": 1,
   "metadata": {},
   "outputs": [],
   "source": [
    "import numpy as np\n",
    "import pandas as pd\n",
    "import matplotlib.pyplot as plt\n",
    "import scipy\n",
    "%matplotlib inline"
   ]
  },
  {
   "cell_type": "markdown",
   "metadata": {},
   "source": [
    "Naive Bayes learn via probability, and regression learns via errors. The next group of models learn from similarity (hence the name similarity models). First is nearest neighbor\n",
    "\n",
    "### Nearest Neighbor\n",
    "In the example below, we're classifying a song as rock or jazz based on duration in seconds and loudness."
   ]
  },
  {
   "cell_type": "code",
   "execution_count": 2,
   "metadata": {},
   "outputs": [
    {
     "data": {
      "image/png": "[encoded data removed]",
      "text/plain": [
       "<matplotlib.figure.Figure at 0x10f30bb00>"
      ]
     },
     "metadata": {},
     "output_type": "display_data"
    }
   ],
   "source": [
    "music = pd.DataFrame()\n",
    "\n",
    "# Some data to play with.\n",
    "music['duration'] = [184, 134, 243, 186, 122, 197, 294, 382, 102, 264, \n",
    "                     205, 110, 307, 110, 397, 153, 190, 192, 210, 403,\n",
    "                     164, 198, 204, 253, 234, 190, 182, 401, 376, 102]\n",
    "music['loudness'] = [18, 34, 43, 36, 22, 9, 29, 22, 10, 24, \n",
    "                     20, 10, 17, 51, 7, 13, 19, 12, 21, 22,\n",
    "                     16, 18, 4, 23, 34, 19, 14, 11, 37, 42]\n",
    "\n",
    "# We know whether the songs in our training data are jazz or not.\n",
    "music['jazz'] = [ 1, 0, 0, 0, 1, 1, 0, 1, 1, 0,\n",
    "                  0, 1, 1, 0, 1, 1, 0, 1, 1, 1,\n",
    "                  1, 1, 1, 1, 0, 0, 1, 1, 0, 0]\n",
    "\n",
    "\n",
    "# Look at our data.\n",
    "plt.scatter(\n",
    "    music[music['jazz'] == 1].duration,\n",
    "    music[music['jazz'] == 1].loudness,\n",
    "    color='red'\n",
    ")\n",
    "plt.scatter(\n",
    "    music[music['jazz'] == 0].duration,\n",
    "    music[music['jazz'] == 0].loudness,\n",
    "    color='blue'\n",
    ")\n",
    "plt.legend(['Jazz', 'Rock'])\n",
    "plt.title('Jazz and Rock Characteristics')\n",
    "plt.xlabel('Duration')\n",
    "plt.ylabel('Loudness')\n",
    "plt.show()"
   ]
  },
  {
   "cell_type": "markdown",
   "metadata": {},
   "source": [
    "The simplest form of this model just classifies an observation as having the same outcome variable (a category in this case) as the observation in our training data that is most similar in terms of the model variables. The method for calculating the \"distance\" between two points (in order to pick the one with the least), is usually Euclidean distance, used in geometry. This is basically a generalization of the Pythagorean Theorem into n-dimensions and is done by squaring the residuals by variable, summing them, and then sqrting the results.\n",
    "$$ \\sqrt{(x_1-w_1)^2 + (x_2-w_2)^2+...+(x_n-w_n)^2} $$\n",
    "Sklearn has a model, KNeighborsClassifier, that can do this for us. Note that we're using an example with two possible categories, but there could be much more used."
   ]
  },
  {
   "cell_type": "code",
   "execution_count": 3,
   "metadata": {},
   "outputs": [
    {
     "data": {
      "text/plain": [
       "array([0])"
      ]
     },
     "execution_count": 3,
     "metadata": {},
     "output_type": "execute_result"
    }
   ],
   "source": [
    "from sklearn.neighbors import KNeighborsClassifier\n",
    "neighbors = KNeighborsClassifier(n_neighbors=1)\n",
    "X = music[['loudness', 'duration']]\n",
    "Y = music.jazz\n",
    "neighbors.fit(X,Y)\n",
    "\n",
    "## Predict for a song with 24 loudness that's 190 seconds long.\n",
    "neighbors.predict([[24, 190]])"
   ]
  },
  {
   "cell_type": "markdown",
   "metadata": {},
   "source": [
    "Note in the above that the 0 represents that the model predicts this song is not jazz (since we chose that as the outcome variable).\n",
    "\n",
    "# K Nearest Neighbors\n",
    "K nearest neighbors is an extension of nearest neighbor modeling, wherein we look at the k closest neighbors. Each of the k neighbors get to \"vote\" for what the classifier should be. This has a few advantages:\n",
    "- It is is less overfit to the training data than nearest neighbor, which explicitly ties predictions as close as possible to the training data. One outlier can create pockets of one category prediction surrounded by a sea of the other category.\n",
    "- Instead of just predicting classes, there is also an implicit probability offered by the model (votes cast for category/k).\n",
    "Using sklearn:"
   ]
  },
  {
   "cell_type": "code",
   "execution_count": 4,
   "metadata": {},
   "outputs": [
    {
     "name": "stdout",
     "output_type": "stream",
     "text": [
      "[1]\n",
      "[[0.4 0.6]]\n"
     ]
    }
   ],
   "source": [
    "neighbors = KNeighborsClassifier(n_neighbors=5)\n",
    "X = music[['loudness', 'duration']]\n",
    "Y = music.jazz\n",
    "neighbors.fit(X,Y)\n",
    "\n",
    "## Predict for a 24 loudness, 190 seconds long song.\n",
    "print(neighbors.predict([[24, 190]]))\n",
    "print(neighbors.predict_proba([[24, 190]]))"
   ]
  },
  {
   "cell_type": "markdown",
   "metadata": {},
   "source": [
    "Notice in the above that when we switch to KNN, there were 3 votes for jazz and 2 for rock, so it is categorized as the former even though it's nearest neighbor is rock as we saw in the prior example.\n",
    "\n",
    "We can visualize the bounds of the decision with something called a mesh, which allows us to generate a prediction over the whole space. You can see from this where things will be categorized based on their values."
   ]
  },
  {
   "cell_type": "code",
   "execution_count": 5,
   "metadata": {},
   "outputs": [
    {
     "data": {
      "image/png": "[encoded data removed]",
      "text/plain": [
       "<matplotlib.figure.Figure at 0x111450278>"
      ]
     },
     "metadata": {},
     "output_type": "display_data"
    }
   ],
   "source": [
    "# Our data. Converting from data frames to arrays for the mesh.\n",
    "X = np.array(X)\n",
    "Y = np.array(Y)\n",
    "\n",
    "# Mesh size, in other words the step or the pixelation used in the chart\n",
    "h = 4.0\n",
    "\n",
    "# Plot the decision boundary. We assign a color to each point in the mesh.\n",
    "# Meshgrid creates a grid based on coordinates of the two vectors\n",
    "x_min = X[:, 0].min() - .5\n",
    "x_max = X[:, 0].max() + .5\n",
    "y_min = X[:, 1].min() - .5\n",
    "y_max = X[:, 1].max() + .5\n",
    "xx, yy = np.meshgrid(\n",
    "    np.arange(x_min, x_max, h),\n",
    "    np.arange(y_min, y_max, h)\n",
    ")\n",
    "Z = neighbors.predict(np.c_[xx.ravel(), yy.ravel()])\n",
    "\n",
    "# Put the result into a color plot.\n",
    "Z = Z.reshape(xx.shape)\n",
    "plt.figure(1, figsize=(6, 4))\n",
    "plt.set_cmap(plt.cm.Paired)\n",
    "plt.pcolormesh(xx, yy, Z)\n",
    "\n",
    "# Add the training points to the plot.\n",
    "plt.scatter(X[:, 0], X[:, 1], c=Y)\n",
    "plt.xlabel('Loudness')\n",
    "plt.ylabel('Duration')\n",
    "plt.title('Mesh visualization')\n",
    "\n",
    "plt.xlim(xx.min(), xx.max())\n",
    "plt.ylim(yy.min(), yy.max())\n",
    "\n",
    "plt.show()"
   ]
  },
  {
   "cell_type": "code",
   "execution_count": 6,
   "metadata": {},
   "outputs": [
    {
     "data": {
      "text/plain": [
       "array([[ 3.5,  7.5, 11.5, 15.5, 19.5, 23.5, 27.5, 31.5, 35.5, 39.5, 43.5,\n",
       "        47.5],\n",
       "       [ 3.5,  7.5, 11.5, 15.5, 19.5, 23.5, 27.5, 31.5, 35.5, 39.5, 43.5,\n",
       "        47.5],\n",
       "       [ 3.5,  7.5, 11.5, 15.5, 19.5, 23.5, 27.5, 31.5, 35.5, 39.5, 43.5,\n",
       "        47.5],\n",
       "       [ 3.5,  7.5, 11.5, 15.5, 19.5, 23.5, 27.5, 31.5, 35.5, 39.5, 43.5,\n",
       "        47.5],\n",
       "       [ 3.5,  7.5, 11.5, 15.5, 19.5, 23.5, 27.5, 31.5, 35.5, 39.5, 43.5,\n",
       "        47.5],\n",
       "       [ 3.5,  7.5, 11.5, 15.5, 19.5, 23.5, 27.5, 31.5, 35.5, 39.5, 43.5,\n",
       "        47.5],\n",
       "       [ 3.5,  7.5, 11.5, 15.5, 19.5, 23.5, 27.5, 31.5, 35.5, 39.5, 43.5,\n",
       "        47.5],\n",
       "       [ 3.5,  7.5, 11.5, 15.5, 19.5, 23.5, 27.5, 31.5, 35.5, 39.5, 43.5,\n",
       "        47.5],\n",
       "       [ 3.5,  7.5, 11.5, 15.5, 19.5, 23.5, 27.5, 31.5, 35.5, 39.5, 43.5,\n",
       "        47.5],\n",
       "       [ 3.5,  7.5, 11.5, 15.5, 19.5, 23.5, 27.5, 31.5, 35.5, 39.5, 43.5,\n",
       "        47.5],\n",
       "       [ 3.5,  7.5, 11.5, 15.5, 19.5, 23.5, 27.5, 31.5, 35.5, 39.5, 43.5,\n",
       "        47.5],\n",
       "       [ 3.5,  7.5, 11.5, 15.5, 19.5, 23.5, 27.5, 31.5, 35.5, 39.5, 43.5,\n",
       "        47.5],\n",
       "       [ 3.5,  7.5, 11.5, 15.5, 19.5, 23.5, 27.5, 31.5, 35.5, 39.5, 43.5,\n",
       "        47.5],\n",
       "       [ 3.5,  7.5, 11.5, 15.5, 19.5, 23.5, 27.5, 31.5, 35.5, 39.5, 43.5,\n",
       "        47.5],\n",
       "       [ 3.5,  7.5, 11.5, 15.5, 19.5, 23.5, 27.5, 31.5, 35.5, 39.5, 43.5,\n",
       "        47.5],\n",
       "       [ 3.5,  7.5, 11.5, 15.5, 19.5, 23.5, 27.5, 31.5, 35.5, 39.5, 43.5,\n",
       "        47.5],\n",
       "       [ 3.5,  7.5, 11.5, 15.5, 19.5, 23.5, 27.5, 31.5, 35.5, 39.5, 43.5,\n",
       "        47.5],\n",
       "       [ 3.5,  7.5, 11.5, 15.5, 19.5, 23.5, 27.5, 31.5, 35.5, 39.5, 43.5,\n",
       "        47.5],\n",
       "       [ 3.5,  7.5, 11.5, 15.5, 19.5, 23.5, 27.5, 31.5, 35.5, 39.5, 43.5,\n",
       "        47.5],\n",
       "       [ 3.5,  7.5, 11.5, 15.5, 19.5, 23.5, 27.5, 31.5, 35.5, 39.5, 43.5,\n",
       "        47.5],\n",
       "       [ 3.5,  7.5, 11.5, 15.5, 19.5, 23.5, 27.5, 31.5, 35.5, 39.5, 43.5,\n",
       "        47.5],\n",
       "       [ 3.5,  7.5, 11.5, 15.5, 19.5, 23.5, 27.5, 31.5, 35.5, 39.5, 43.5,\n",
       "        47.5],\n",
       "       [ 3.5,  7.5, 11.5, 15.5, 19.5, 23.5, 27.5, 31.5, 35.5, 39.5, 43.5,\n",
       "        47.5],\n",
       "       [ 3.5,  7.5, 11.5, 15.5, 19.5, 23.5, 27.5, 31.5, 35.5, 39.5, 43.5,\n",
       "        47.5],\n",
       "       [ 3.5,  7.5, 11.5, 15.5, 19.5, 23.5, 27.5, 31.5, 35.5, 39.5, 43.5,\n",
       "        47.5],\n",
       "       [ 3.5,  7.5, 11.5, 15.5, 19.5, 23.5, 27.5, 31.5, 35.5, 39.5, 43.5,\n",
       "        47.5],\n",
       "       [ 3.5,  7.5, 11.5, 15.5, 19.5, 23.5, 27.5, 31.5, 35.5, 39.5, 43.5,\n",
       "        47.5],\n",
       "       [ 3.5,  7.5, 11.5, 15.5, 19.5, 23.5, 27.5, 31.5, 35.5, 39.5, 43.5,\n",
       "        47.5],\n",
       "       [ 3.5,  7.5, 11.5, 15.5, 19.5, 23.5, 27.5, 31.5, 35.5, 39.5, 43.5,\n",
       "        47.5],\n",
       "       [ 3.5,  7.5, 11.5, 15.5, 19.5, 23.5, 27.5, 31.5, 35.5, 39.5, 43.5,\n",
       "        47.5],\n",
       "       [ 3.5,  7.5, 11.5, 15.5, 19.5, 23.5, 27.5, 31.5, 35.5, 39.5, 43.5,\n",
       "        47.5],\n",
       "       [ 3.5,  7.5, 11.5, 15.5, 19.5, 23.5, 27.5, 31.5, 35.5, 39.5, 43.5,\n",
       "        47.5],\n",
       "       [ 3.5,  7.5, 11.5, 15.5, 19.5, 23.5, 27.5, 31.5, 35.5, 39.5, 43.5,\n",
       "        47.5],\n",
       "       [ 3.5,  7.5, 11.5, 15.5, 19.5, 23.5, 27.5, 31.5, 35.5, 39.5, 43.5,\n",
       "        47.5],\n",
       "       [ 3.5,  7.5, 11.5, 15.5, 19.5, 23.5, 27.5, 31.5, 35.5, 39.5, 43.5,\n",
       "        47.5],\n",
       "       [ 3.5,  7.5, 11.5, 15.5, 19.5, 23.5, 27.5, 31.5, 35.5, 39.5, 43.5,\n",
       "        47.5],\n",
       "       [ 3.5,  7.5, 11.5, 15.5, 19.5, 23.5, 27.5, 31.5, 35.5, 39.5, 43.5,\n",
       "        47.5],\n",
       "       [ 3.5,  7.5, 11.5, 15.5, 19.5, 23.5, 27.5, 31.5, 35.5, 39.5, 43.5,\n",
       "        47.5],\n",
       "       [ 3.5,  7.5, 11.5, 15.5, 19.5, 23.5, 27.5, 31.5, 35.5, 39.5, 43.5,\n",
       "        47.5],\n",
       "       [ 3.5,  7.5, 11.5, 15.5, 19.5, 23.5, 27.5, 31.5, 35.5, 39.5, 43.5,\n",
       "        47.5],\n",
       "       [ 3.5,  7.5, 11.5, 15.5, 19.5, 23.5, 27.5, 31.5, 35.5, 39.5, 43.5,\n",
       "        47.5],\n",
       "       [ 3.5,  7.5, 11.5, 15.5, 19.5, 23.5, 27.5, 31.5, 35.5, 39.5, 43.5,\n",
       "        47.5],\n",
       "       [ 3.5,  7.5, 11.5, 15.5, 19.5, 23.5, 27.5, 31.5, 35.5, 39.5, 43.5,\n",
       "        47.5],\n",
       "       [ 3.5,  7.5, 11.5, 15.5, 19.5, 23.5, 27.5, 31.5, 35.5, 39.5, 43.5,\n",
       "        47.5],\n",
       "       [ 3.5,  7.5, 11.5, 15.5, 19.5, 23.5, 27.5, 31.5, 35.5, 39.5, 43.5,\n",
       "        47.5],\n",
       "       [ 3.5,  7.5, 11.5, 15.5, 19.5, 23.5, 27.5, 31.5, 35.5, 39.5, 43.5,\n",
       "        47.5],\n",
       "       [ 3.5,  7.5, 11.5, 15.5, 19.5, 23.5, 27.5, 31.5, 35.5, 39.5, 43.5,\n",
       "        47.5],\n",
       "       [ 3.5,  7.5, 11.5, 15.5, 19.5, 23.5, 27.5, 31.5, 35.5, 39.5, 43.5,\n",
       "        47.5],\n",
       "       [ 3.5,  7.5, 11.5, 15.5, 19.5, 23.5, 27.5, 31.5, 35.5, 39.5, 43.5,\n",
       "        47.5],\n",
       "       [ 3.5,  7.5, 11.5, 15.5, 19.5, 23.5, 27.5, 31.5, 35.5, 39.5, 43.5,\n",
       "        47.5],\n",
       "       [ 3.5,  7.5, 11.5, 15.5, 19.5, 23.5, 27.5, 31.5, 35.5, 39.5, 43.5,\n",
       "        47.5],\n",
       "       [ 3.5,  7.5, 11.5, 15.5, 19.5, 23.5, 27.5, 31.5, 35.5, 39.5, 43.5,\n",
       "        47.5],\n",
       "       [ 3.5,  7.5, 11.5, 15.5, 19.5, 23.5, 27.5, 31.5, 35.5, 39.5, 43.5,\n",
       "        47.5],\n",
       "       [ 3.5,  7.5, 11.5, 15.5, 19.5, 23.5, 27.5, 31.5, 35.5, 39.5, 43.5,\n",
       "        47.5],\n",
       "       [ 3.5,  7.5, 11.5, 15.5, 19.5, 23.5, 27.5, 31.5, 35.5, 39.5, 43.5,\n",
       "        47.5],\n",
       "       [ 3.5,  7.5, 11.5, 15.5, 19.5, 23.5, 27.5, 31.5, 35.5, 39.5, 43.5,\n",
       "        47.5],\n",
       "       [ 3.5,  7.5, 11.5, 15.5, 19.5, 23.5, 27.5, 31.5, 35.5, 39.5, 43.5,\n",
       "        47.5],\n",
       "       [ 3.5,  7.5, 11.5, 15.5, 19.5, 23.5, 27.5, 31.5, 35.5, 39.5, 43.5,\n",
       "        47.5],\n",
       "       [ 3.5,  7.5, 11.5, 15.5, 19.5, 23.5, 27.5, 31.5, 35.5, 39.5, 43.5,\n",
       "        47.5],\n",
       "       [ 3.5,  7.5, 11.5, 15.5, 19.5, 23.5, 27.5, 31.5, 35.5, 39.5, 43.5,\n",
       "        47.5],\n",
       "       [ 3.5,  7.5, 11.5, 15.5, 19.5, 23.5, 27.5, 31.5, 35.5, 39.5, 43.5,\n",
       "        47.5],\n",
       "       [ 3.5,  7.5, 11.5, 15.5, 19.5, 23.5, 27.5, 31.5, 35.5, 39.5, 43.5,\n",
       "        47.5],\n",
       "       [ 3.5,  7.5, 11.5, 15.5, 19.5, 23.5, 27.5, 31.5, 35.5, 39.5, 43.5,\n",
       "        47.5],\n",
       "       [ 3.5,  7.5, 11.5, 15.5, 19.5, 23.5, 27.5, 31.5, 35.5, 39.5, 43.5,\n",
       "        47.5],\n",
       "       [ 3.5,  7.5, 11.5, 15.5, 19.5, 23.5, 27.5, 31.5, 35.5, 39.5, 43.5,\n",
       "        47.5],\n",
       "       [ 3.5,  7.5, 11.5, 15.5, 19.5, 23.5, 27.5, 31.5, 35.5, 39.5, 43.5,\n",
       "        47.5],\n",
       "       [ 3.5,  7.5, 11.5, 15.5, 19.5, 23.5, 27.5, 31.5, 35.5, 39.5, 43.5,\n",
       "        47.5],\n",
       "       [ 3.5,  7.5, 11.5, 15.5, 19.5, 23.5, 27.5, 31.5, 35.5, 39.5, 43.5,\n",
       "        47.5],\n",
       "       [ 3.5,  7.5, 11.5, 15.5, 19.5, 23.5, 27.5, 31.5, 35.5, 39.5, 43.5,\n",
       "        47.5],\n",
       "       [ 3.5,  7.5, 11.5, 15.5, 19.5, 23.5, 27.5, 31.5, 35.5, 39.5, 43.5,\n",
       "        47.5],\n",
       "       [ 3.5,  7.5, 11.5, 15.5, 19.5, 23.5, 27.5, 31.5, 35.5, 39.5, 43.5,\n",
       "        47.5],\n",
       "       [ 3.5,  7.5, 11.5, 15.5, 19.5, 23.5, 27.5, 31.5, 35.5, 39.5, 43.5,\n",
       "        47.5],\n",
       "       [ 3.5,  7.5, 11.5, 15.5, 19.5, 23.5, 27.5, 31.5, 35.5, 39.5, 43.5,\n",
       "        47.5],\n",
       "       [ 3.5,  7.5, 11.5, 15.5, 19.5, 23.5, 27.5, 31.5, 35.5, 39.5, 43.5,\n",
       "        47.5],\n",
       "       [ 3.5,  7.5, 11.5, 15.5, 19.5, 23.5, 27.5, 31.5, 35.5, 39.5, 43.5,\n",
       "        47.5],\n",
       "       [ 3.5,  7.5, 11.5, 15.5, 19.5, 23.5, 27.5, 31.5, 35.5, 39.5, 43.5,\n",
       "        47.5]])"
      ]
     },
     "execution_count": 6,
     "metadata": {},
     "output_type": "execute_result"
    }
   ],
   "source": [
    "# Our data. Converting from data frames to arrays for the mesh.\n",
    "X = np.array(X)\n",
    "Y = np.array(Y)\n",
    "\n",
    "# Mesh size, in other words the step or the pixelation used in the chart\n",
    "h = 4.0\n",
    "\n",
    "# Plot the decision boundary. We assign a color to each point in the mesh.\n",
    "x_min = X[:, 0].min() - .5\n",
    "x_max = X[:, 0].max() + .5\n",
    "y_min = X[:, 1].min() - .5\n",
    "y_max = X[:, 1].max() + .5\n",
    "xx, yy = np.meshgrid(\n",
    "    np.arange(x_min, x_max, h),\n",
    "    np.arange(y_min, y_max, h)\n",
    ")\n",
    "Z = neighbors.predict(np.c_[xx.ravel(), yy.ravel()])\n",
    "\n",
    "xx"
   ]
  },
  {
   "cell_type": "code",
   "execution_count": 15,
   "metadata": {},
   "outputs": [
    {
     "data": {
      "text/plain": [
       "[array([[0, 1, 2],\n",
       "        [0, 1, 2],\n",
       "        [0, 1, 2]]), array([[3, 3, 3],\n",
       "        [4, 4, 4],\n",
       "        [5, 5, 5]])]"
      ]
     },
     "execution_count": 15,
     "metadata": {},
     "output_type": "execute_result"
    }
   ],
   "source": [
    "np.meshgrid([0,1,2],[3,4,5])"
   ]
  },
  {
   "cell_type": "code",
   "execution_count": 8,
   "metadata": {},
   "outputs": [
    {
     "data": {
      "text/plain": [
       "array([[101.5, 101.5, 101.5, 101.5, 101.5, 101.5, 101.5, 101.5, 101.5,\n",
       "        101.5, 101.5, 101.5],\n",
       "       [105.5, 105.5, 105.5, 105.5, 105.5, 105.5, 105.5, 105.5, 105.5,\n",
       "        105.5, 105.5, 105.5],\n",
       "       [109.5, 109.5, 109.5, 109.5, 109.5, 109.5, 109.5, 109.5, 109.5,\n",
       "        109.5, 109.5, 109.5],\n",
       "       [113.5, 113.5, 113.5, 113.5, 113.5, 113.5, 113.5, 113.5, 113.5,\n",
       "        113.5, 113.5, 113.5],\n",
       "       [117.5, 117.5, 117.5, 117.5, 117.5, 117.5, 117.5, 117.5, 117.5,\n",
       "        117.5, 117.5, 117.5],\n",
       "       [121.5, 121.5, 121.5, 121.5, 121.5, 121.5, 121.5, 121.5, 121.5,\n",
       "        121.5, 121.5, 121.5],\n",
       "       [125.5, 125.5, 125.5, 125.5, 125.5, 125.5, 125.5, 125.5, 125.5,\n",
       "        125.5, 125.5, 125.5],\n",
       "       [129.5, 129.5, 129.5, 129.5, 129.5, 129.5, 129.5, 129.5, 129.5,\n",
       "        129.5, 129.5, 129.5],\n",
       "       [133.5, 133.5, 133.5, 133.5, 133.5, 133.5, 133.5, 133.5, 133.5,\n",
       "        133.5, 133.5, 133.5],\n",
       "       [137.5, 137.5, 137.5, 137.5, 137.5, 137.5, 137.5, 137.5, 137.5,\n",
       "        137.5, 137.5, 137.5],\n",
       "       [141.5, 141.5, 141.5, 141.5, 141.5, 141.5, 141.5, 141.5, 141.5,\n",
       "        141.5, 141.5, 141.5],\n",
       "       [145.5, 145.5, 145.5, 145.5, 145.5, 145.5, 145.5, 145.5, 145.5,\n",
       "        145.5, 145.5, 145.5],\n",
       "       [149.5, 149.5, 149.5, 149.5, 149.5, 149.5, 149.5, 149.5, 149.5,\n",
       "        149.5, 149.5, 149.5],\n",
       "       [153.5, 153.5, 153.5, 153.5, 153.5, 153.5, 153.5, 153.5, 153.5,\n",
       "        153.5, 153.5, 153.5],\n",
       "       [157.5, 157.5, 157.5, 157.5, 157.5, 157.5, 157.5, 157.5, 157.5,\n",
       "        157.5, 157.5, 157.5],\n",
       "       [161.5, 161.5, 161.5, 161.5, 161.5, 161.5, 161.5, 161.5, 161.5,\n",
       "        161.5, 161.5, 161.5],\n",
       "       [165.5, 165.5, 165.5, 165.5, 165.5, 165.5, 165.5, 165.5, 165.5,\n",
       "        165.5, 165.5, 165.5],\n",
       "       [169.5, 169.5, 169.5, 169.5, 169.5, 169.5, 169.5, 169.5, 169.5,\n",
       "        169.5, 169.5, 169.5],\n",
       "       [173.5, 173.5, 173.5, 173.5, 173.5, 173.5, 173.5, 173.5, 173.5,\n",
       "        173.5, 173.5, 173.5],\n",
       "       [177.5, 177.5, 177.5, 177.5, 177.5, 177.5, 177.5, 177.5, 177.5,\n",
       "        177.5, 177.5, 177.5],\n",
       "       [181.5, 181.5, 181.5, 181.5, 181.5, 181.5, 181.5, 181.5, 181.5,\n",
       "        181.5, 181.5, 181.5],\n",
       "       [185.5, 185.5, 185.5, 185.5, 185.5, 185.5, 185.5, 185.5, 185.5,\n",
       "        185.5, 185.5, 185.5],\n",
       "       [189.5, 189.5, 189.5, 189.5, 189.5, 189.5, 189.5, 189.5, 189.5,\n",
       "        189.5, 189.5, 189.5],\n",
       "       [193.5, 193.5, 193.5, 193.5, 193.5, 193.5, 193.5, 193.5, 193.5,\n",
       "        193.5, 193.5, 193.5],\n",
       "       [197.5, 197.5, 197.5, 197.5, 197.5, 197.5, 197.5, 197.5, 197.5,\n",
       "        197.5, 197.5, 197.5],\n",
       "       [201.5, 201.5, 201.5, 201.5, 201.5, 201.5, 201.5, 201.5, 201.5,\n",
       "        201.5, 201.5, 201.5],\n",
       "       [205.5, 205.5, 205.5, 205.5, 205.5, 205.5, 205.5, 205.5, 205.5,\n",
       "        205.5, 205.5, 205.5],\n",
       "       [209.5, 209.5, 209.5, 209.5, 209.5, 209.5, 209.5, 209.5, 209.5,\n",
       "        209.5, 209.5, 209.5],\n",
       "       [213.5, 213.5, 213.5, 213.5, 213.5, 213.5, 213.5, 213.5, 213.5,\n",
       "        213.5, 213.5, 213.5],\n",
       "       [217.5, 217.5, 217.5, 217.5, 217.5, 217.5, 217.5, 217.5, 217.5,\n",
       "        217.5, 217.5, 217.5],\n",
       "       [221.5, 221.5, 221.5, 221.5, 221.5, 221.5, 221.5, 221.5, 221.5,\n",
       "        221.5, 221.5, 221.5],\n",
       "       [225.5, 225.5, 225.5, 225.5, 225.5, 225.5, 225.5, 225.5, 225.5,\n",
       "        225.5, 225.5, 225.5],\n",
       "       [229.5, 229.5, 229.5, 229.5, 229.5, 229.5, 229.5, 229.5, 229.5,\n",
       "        229.5, 229.5, 229.5],\n",
       "       [233.5, 233.5, 233.5, 233.5, 233.5, 233.5, 233.5, 233.5, 233.5,\n",
       "        233.5, 233.5, 233.5],\n",
       "       [237.5, 237.5, 237.5, 237.5, 237.5, 237.5, 237.5, 237.5, 237.5,\n",
       "        237.5, 237.5, 237.5],\n",
       "       [241.5, 241.5, 241.5, 241.5, 241.5, 241.5, 241.5, 241.5, 241.5,\n",
       "        241.5, 241.5, 241.5],\n",
       "       [245.5, 245.5, 245.5, 245.5, 245.5, 245.5, 245.5, 245.5, 245.5,\n",
       "        245.5, 245.5, 245.5],\n",
       "       [249.5, 249.5, 249.5, 249.5, 249.5, 249.5, 249.5, 249.5, 249.5,\n",
       "        249.5, 249.5, 249.5],\n",
       "       [253.5, 253.5, 253.5, 253.5, 253.5, 253.5, 253.5, 253.5, 253.5,\n",
       "        253.5, 253.5, 253.5],\n",
       "       [257.5, 257.5, 257.5, 257.5, 257.5, 257.5, 257.5, 257.5, 257.5,\n",
       "        257.5, 257.5, 257.5],\n",
       "       [261.5, 261.5, 261.5, 261.5, 261.5, 261.5, 261.5, 261.5, 261.5,\n",
       "        261.5, 261.5, 261.5],\n",
       "       [265.5, 265.5, 265.5, 265.5, 265.5, 265.5, 265.5, 265.5, 265.5,\n",
       "        265.5, 265.5, 265.5],\n",
       "       [269.5, 269.5, 269.5, 269.5, 269.5, 269.5, 269.5, 269.5, 269.5,\n",
       "        269.5, 269.5, 269.5],\n",
       "       [273.5, 273.5, 273.5, 273.5, 273.5, 273.5, 273.5, 273.5, 273.5,\n",
       "        273.5, 273.5, 273.5],\n",
       "       [277.5, 277.5, 277.5, 277.5, 277.5, 277.5, 277.5, 277.5, 277.5,\n",
       "        277.5, 277.5, 277.5],\n",
       "       [281.5, 281.5, 281.5, 281.5, 281.5, 281.5, 281.5, 281.5, 281.5,\n",
       "        281.5, 281.5, 281.5],\n",
       "       [285.5, 285.5, 285.5, 285.5, 285.5, 285.5, 285.5, 285.5, 285.5,\n",
       "        285.5, 285.5, 285.5],\n",
       "       [289.5, 289.5, 289.5, 289.5, 289.5, 289.5, 289.5, 289.5, 289.5,\n",
       "        289.5, 289.5, 289.5],\n",
       "       [293.5, 293.5, 293.5, 293.5, 293.5, 293.5, 293.5, 293.5, 293.5,\n",
       "        293.5, 293.5, 293.5],\n",
       "       [297.5, 297.5, 297.5, 297.5, 297.5, 297.5, 297.5, 297.5, 297.5,\n",
       "        297.5, 297.5, 297.5],\n",
       "       [301.5, 301.5, 301.5, 301.5, 301.5, 301.5, 301.5, 301.5, 301.5,\n",
       "        301.5, 301.5, 301.5],\n",
       "       [305.5, 305.5, 305.5, 305.5, 305.5, 305.5, 305.5, 305.5, 305.5,\n",
       "        305.5, 305.5, 305.5],\n",
       "       [309.5, 309.5, 309.5, 309.5, 309.5, 309.5, 309.5, 309.5, 309.5,\n",
       "        309.5, 309.5, 309.5],\n",
       "       [313.5, 313.5, 313.5, 313.5, 313.5, 313.5, 313.5, 313.5, 313.5,\n",
       "        313.5, 313.5, 313.5],\n",
       "       [317.5, 317.5, 317.5, 317.5, 317.5, 317.5, 317.5, 317.5, 317.5,\n",
       "        317.5, 317.5, 317.5],\n",
       "       [321.5, 321.5, 321.5, 321.5, 321.5, 321.5, 321.5, 321.5, 321.5,\n",
       "        321.5, 321.5, 321.5],\n",
       "       [325.5, 325.5, 325.5, 325.5, 325.5, 325.5, 325.5, 325.5, 325.5,\n",
       "        325.5, 325.5, 325.5],\n",
       "       [329.5, 329.5, 329.5, 329.5, 329.5, 329.5, 329.5, 329.5, 329.5,\n",
       "        329.5, 329.5, 329.5],\n",
       "       [333.5, 333.5, 333.5, 333.5, 333.5, 333.5, 333.5, 333.5, 333.5,\n",
       "        333.5, 333.5, 333.5],\n",
       "       [337.5, 337.5, 337.5, 337.5, 337.5, 337.5, 337.5, 337.5, 337.5,\n",
       "        337.5, 337.5, 337.5],\n",
       "       [341.5, 341.5, 341.5, 341.5, 341.5, 341.5, 341.5, 341.5, 341.5,\n",
       "        341.5, 341.5, 341.5],\n",
       "       [345.5, 345.5, 345.5, 345.5, 345.5, 345.5, 345.5, 345.5, 345.5,\n",
       "        345.5, 345.5, 345.5],\n",
       "       [349.5, 349.5, 349.5, 349.5, 349.5, 349.5, 349.5, 349.5, 349.5,\n",
       "        349.5, 349.5, 349.5],\n",
       "       [353.5, 353.5, 353.5, 353.5, 353.5, 353.5, 353.5, 353.5, 353.5,\n",
       "        353.5, 353.5, 353.5],\n",
       "       [357.5, 357.5, 357.5, 357.5, 357.5, 357.5, 357.5, 357.5, 357.5,\n",
       "        357.5, 357.5, 357.5],\n",
       "       [361.5, 361.5, 361.5, 361.5, 361.5, 361.5, 361.5, 361.5, 361.5,\n",
       "        361.5, 361.5, 361.5],\n",
       "       [365.5, 365.5, 365.5, 365.5, 365.5, 365.5, 365.5, 365.5, 365.5,\n",
       "        365.5, 365.5, 365.5],\n",
       "       [369.5, 369.5, 369.5, 369.5, 369.5, 369.5, 369.5, 369.5, 369.5,\n",
       "        369.5, 369.5, 369.5],\n",
       "       [373.5, 373.5, 373.5, 373.5, 373.5, 373.5, 373.5, 373.5, 373.5,\n",
       "        373.5, 373.5, 373.5],\n",
       "       [377.5, 377.5, 377.5, 377.5, 377.5, 377.5, 377.5, 377.5, 377.5,\n",
       "        377.5, 377.5, 377.5],\n",
       "       [381.5, 381.5, 381.5, 381.5, 381.5, 381.5, 381.5, 381.5, 381.5,\n",
       "        381.5, 381.5, 381.5],\n",
       "       [385.5, 385.5, 385.5, 385.5, 385.5, 385.5, 385.5, 385.5, 385.5,\n",
       "        385.5, 385.5, 385.5],\n",
       "       [389.5, 389.5, 389.5, 389.5, 389.5, 389.5, 389.5, 389.5, 389.5,\n",
       "        389.5, 389.5, 389.5],\n",
       "       [393.5, 393.5, 393.5, 393.5, 393.5, 393.5, 393.5, 393.5, 393.5,\n",
       "        393.5, 393.5, 393.5],\n",
       "       [397.5, 397.5, 397.5, 397.5, 397.5, 397.5, 397.5, 397.5, 397.5,\n",
       "        397.5, 397.5, 397.5],\n",
       "       [401.5, 401.5, 401.5, 401.5, 401.5, 401.5, 401.5, 401.5, 401.5,\n",
       "        401.5, 401.5, 401.5]])"
      ]
     },
     "execution_count": 8,
     "metadata": {},
     "output_type": "execute_result"
    }
   ],
   "source": [
    "yy"
   ]
  },
  {
   "cell_type": "code",
   "execution_count": 9,
   "metadata": {
    "scrolled": true
   },
   "outputs": [
    {
     "data": {
      "text/plain": [
       "array([[  3.5, 101.5],\n",
       "       [  7.5, 101.5],\n",
       "       [ 11.5, 101.5],\n",
       "       ...,\n",
       "       [ 39.5, 401.5],\n",
       "       [ 43.5, 401.5],\n",
       "       [ 47.5, 401.5]])"
      ]
     },
     "execution_count": 9,
     "metadata": {},
     "output_type": "execute_result"
    }
   ],
   "source": [
    "np.c_[xx.ravel(), yy.ravel()]"
   ]
  },
  {
   "cell_type": "markdown",
   "metadata": {},
   "source": [
    "Note that in the mesh grid, you see the expected areas where the model predicts an observation to be jazz or rock based on their variable coordinates. However, you see points where the predictions were incorrect. The jaggedness is affected by the h=4, or step we're using. If we make that a higher number, there will be less jaggedness but more computationally intensive."
   ]
  },
  {
   "cell_type": "markdown",
   "metadata": {},
   "source": [
    "# Creating nearest neighbor algorithm from scratch"
   ]
  },
  {
   "cell_type": "code",
   "execution_count": 16,
   "metadata": {},
   "outputs": [],
   "source": [
    "music = pd.DataFrame()\n",
    "\n",
    "# Some data to play with.\n",
    "music['duration'] = [184, 134, 243, 186, 122, 197, 294, 382, 102, 264, \n",
    "                     205, 110, 307, 110, 397, 153, 190, 192, 210, 403,\n",
    "                     164, 198, 204, 253, 234, 190, 182, 401, 376, 102]\n",
    "music['loudness'] = [18, 34, 43, 36, 22, 9, 29, 22, 10, 24, \n",
    "                     20, 10, 17, 51, 7, 13, 19, 12, 21, 22,\n",
    "                     16, 18, 4, 23, 34, 19, 14, 11, 37, 42]\n",
    "\n",
    "# We know whether the songs in our training data are jazz or not.\n",
    "music['jazz'] = [ 1, 0, 0, 0, 1, 1, 0, 1, 1, 0,\n",
    "                  0, 1, 1, 0, 1, 1, 0, 1, 1, 1,\n",
    "                  1, 1, 1, 1, 0, 0, 1, 1, 0, 0]"
   ]
  },
  {
   "cell_type": "code",
   "execution_count": 138,
   "metadata": {},
   "outputs": [],
   "source": [
    "def Nearest_Neighbors(var_col1,var_col2,outcome_var,k,input1,input2):\n",
    "    \n",
    "    distances = np.array([])\n",
    "    \n",
    "    # Calculate distance to the available data points\n",
    "    for x,y in zip(var_col1,var_col2):\n",
    "        distance = np.sqrt(((input1 - x)**2) + ((input2 - y)**2))\n",
    "        distances = np.append(distances,distance)\n",
    "        \n",
    "    # Find indices of minimum k distances\n",
    "    nearest_indices = distances.argsort()[:k]\n",
    "    \n",
    "    # Locating those indices' outcome values and adding them to a numpy array\n",
    "    nearest_neighbors = np.array(outcome_var[nearest_indices])\n",
    "    \n",
    "    # Calculating probabilities\n",
    "    outcometrue = (sum(nearest_neighbors)/len(nearest_neighbors))\n",
    "    outcomefalse = 1 - outcometrue\n",
    "    roundedoutcome = int(np.rint(outcometrue))\n",
    "        \n",
    "    output = np.array([roundedoutcome,outcometrue,outcomefalse])\n",
    "    \n",
    "    return roundedoutcome,outcometrue,outcomefalse,nearest_neighbors,nearest_indices"
   ]
  },
  {
   "cell_type": "code",
   "execution_count": 140,
   "metadata": {
    "scrolled": true
   },
   "outputs": [
    {
     "data": {
      "text/plain": [
       "(1, 0.6, 0.4, array([0, 0, 1, 1, 1]), array([16, 25,  0, 21, 17]))"
      ]
     },
     "execution_count": 140,
     "metadata": {},
     "output_type": "execute_result"
    }
   ],
   "source": [
    "Nearest_Neighbors(music['loudness'],music['duration'],music['jazz'],5,24,190)"
   ]
  },
  {
   "cell_type": "code",
   "execution_count": 127,
   "metadata": {
    "scrolled": true
   },
   "outputs": [
    {
     "name": "stdout",
     "output_type": "stream",
     "text": [
      "[1]\n",
      "[[0.4 0.6]]\n",
      "[[16 25  0 21 17]]\n"
     ]
    }
   ],
   "source": [
    "neighbors = KNeighborsClassifier(n_neighbors=5)\n",
    "X = music[['loudness', 'duration']]\n",
    "Y = music.jazz\n",
    "neighbors.fit(X,Y)\n",
    "\n",
    "## Predict for a 24 loudness, 190 seconds long song.\n",
    "print(neighbors.predict([[24, 190]]))\n",
    "print(neighbors.predict_proba([[24, 190]]))\n",
    "print(neighbors.kneighbors([[24,190]],5,return_distance=False))"
   ]
  },
  {
   "cell_type": "markdown",
   "metadata": {},
   "source": [
    "Matches sklearn."
   ]
  }
 ],
 "metadata": {
  "kernelspec": {
   "display_name": "Python 3",
   "language": "python",
   "name": "python3"
  },
  "language_info": {
   "codemirror_mode": {
    "name": "ipython",
    "version": 3
   },
   "file_extension": ".py",
   "mimetype": "text/x-python",
   "name": "python",
   "nbconvert_exporter": "python",
   "pygments_lexer": "ipython3",
   "version": "3.6.3"
  }
 },
 "nbformat": 4,
 "nbformat_minor": 2
}
