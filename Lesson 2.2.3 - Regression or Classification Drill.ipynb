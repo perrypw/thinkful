{
 "cells": [
  {
   "cell_type": "markdown",
   "metadata": {},
   "source": [
    "# Regression vs Classification Drill\n",
    "1) The amount a person will spend on a given site in the next 24 months\n",
    "    - Continuous\n",
    "2) What color car someone is going to buy\n",
    "    - Classification (the outcome is categorical)\n",
    "3) How many children a family will have\n",
    "    - This could be done either way and depends on the context of the question. I would lean towards classification since the possible values are discrete and limited to a range from, say, zero to five for most people.\n",
    "4) If someone will sign up for a service\n",
    "    - Classification\n",
    "5) The number of times someone will get sick in a year\n",
    "    - Like the children example, this could be either for the same reasons. With this one though, I would go with continuous since there is a wider range of possible values\n",
    "6) The probability someone will get sick in the next month\n",
    "    - Classification\n",
    "7) Which medicine will work best for a given patient\n",
    "    - Classification"
   ]
  }
 ],
 "metadata": {
  "kernelspec": {
   "display_name": "Python 3",
   "language": "python",
   "name": "python3"
  },
  "language_info": {
   "codemirror_mode": {
    "name": "ipython",
    "version": 3
   },
   "file_extension": ".py",
   "mimetype": "text/x-python",
   "name": "python",
   "nbconvert_exporter": "python",
   "pygments_lexer": "ipython3",
   "version": "3.6.3"
  }
 },
 "nbformat": 4,
 "nbformat_minor": 2
}
