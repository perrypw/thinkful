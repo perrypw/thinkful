{
 "cells": [
  {
   "cell_type": "markdown",
   "metadata": {},
   "source": [
    "## Challenge - Solve the first 10 problems of project euler\n",
    "### #1: Find the sum of all the multiples of 3 or 5 below 1000"
   ]
  },
  {
   "cell_type": "code",
   "execution_count": 3,
   "metadata": {},
   "outputs": [
    {
     "name": "stdout",
     "output_type": "stream",
     "text": [
      "234168\n"
     ]
    }
   ],
   "source": [
    "# empty list to hold all applicable numbers\n",
    "multiples = []\n",
    "\n",
    "for num in range(0,1001):\n",
    "    if num % 5 == 0 or num % 3 == 0:\n",
    "        multiples.append(num)\n",
    "\n",
    "answer = sum(multiples)\n",
    "print(answer)"
   ]
  },
  {
   "cell_type": "code",
   "execution_count": 4,
   "metadata": {},
   "outputs": [
    {
     "name": "stdout",
     "output_type": "stream",
     "text": [
      "234168\n"
     ]
    }
   ],
   "source": [
    "# faster and prettier way\n",
    "cnt = 0\n",
    "for num in range(0,1001):\n",
    "    if num % 5 == 0 or num % 3 == 0:\n",
    "        cnt += num\n",
    "print(cnt)"
   ]
  },
  {
   "cell_type": "markdown",
   "metadata": {},
   "source": [
    "### #2: Produce sum of the Fibonnaci sequence for values < 4M"
   ]
  },
  {
   "cell_type": "code",
   "execution_count": 29,
   "metadata": {},
   "outputs": [
    {
     "data": {
      "text/plain": [
       "4613732"
      ]
     },
     "execution_count": 29,
     "metadata": {},
     "output_type": "execute_result"
    }
   ],
   "source": [
    "# empty list to house results\n",
    "fib = []\n",
    "\n",
    "# starting num\n",
    "num = 1\n",
    "index = 0\n",
    "\n",
    "# use a while loop so that it can cut off once value is > 4M \n",
    "while num < 4e6:\n",
    "    fib.append(num)\n",
    "    index += 1\n",
    "    if len(fib) == 1:\n",
    "        num = 2\n",
    "    else:\n",
    "        num = fib[index-1] + fib[index-2]\n",
    "        \n",
    "# identify the even numbers\n",
    "even = [x for x in fib if x % 2 == 0]\n",
    "\n",
    "# sum\n",
    "sum(even)"
   ]
  },
  {
   "cell_type": "code",
   "execution_count": 31,
   "metadata": {},
   "outputs": [
    {
     "name": "stdout",
     "output_type": "stream",
     "text": [
      "4613732\n"
     ]
    }
   ],
   "source": [
    "# much simpler way...\n",
    "x0, x1 = 1, 1\n",
    "cnt = 0\n",
    "while x1 < 4e6:\n",
    "    if x1 % 2 == 0: \n",
    "        cnt += x1\n",
    "    x0, x1 = x1, x0 + x1\n",
    "print(cnt)"
   ]
  },
  {
   "cell_type": "markdown",
   "metadata": {},
   "source": [
    "### #3 Find the largest prime factors of 600851475143"
   ]
  },
  {
   "cell_type": "code",
   "execution_count": 35,
   "metadata": {},
   "outputs": [
    {
     "name": "stdout",
     "output_type": "stream",
     "text": [
      "6857\n"
     ]
    }
   ],
   "source": [
    "# Faster solution I found online\n",
    "nums = 600851475143\n",
    "factors = []\n",
    "while nums > 1:\n",
    "    for i in range(2, nums + 1):\n",
    "        if nums % i == 0:\n",
    "            factors.append(i)\n",
    "            nums //= i\n",
    "            break\n",
    "print(max(factors))"
   ]
  },
  {
   "cell_type": "markdown",
   "metadata": {},
   "source": [
    "### #4 Largest palindrome product"
   ]
  },
  {
   "cell_type": "code",
   "execution_count": 22,
   "metadata": {},
   "outputs": [],
   "source": [
    "palindromes = []\n",
    "\n",
    "for num in range(100,999):\n",
    "    string = str(num)\n",
    "    assert len(string) == 3\n",
    "    if string[0] == string[2]:\n",
    "        palindromes.append(string)\n",
    "        \n",
    "# Couldn't quite figure the rest of this one out..."
   ]
  },
  {
   "cell_type": "markdown",
   "metadata": {},
   "source": [
    "### #5 Smallest number that is evenly divisible by all numbers between 1 and 10"
   ]
  },
  {
   "cell_type": "code",
   "execution_count": 2,
   "metadata": {},
   "outputs": [
    {
     "name": "stdout",
     "output_type": "stream",
     "text": [
      "232792560\n"
     ]
    }
   ],
   "source": [
    "# not particularly pretty, but it works\n",
    "number = 2520\n",
    "\n",
    "while (\n",
    "    number % 2 != 0\n",
    "    or number % 3 != 0\n",
    "    or number % 4 != 0\n",
    "    or number % 5 != 0\n",
    "    or number % 6 != 0\n",
    "    or number % 7 != 0\n",
    "    or number % 8 != 0\n",
    "    or number % 9 != 0\n",
    "    or number % 10 != 0\n",
    "    or number % 11 != 0\n",
    "    or number % 12 != 0\n",
    "    or number % 13 != 0\n",
    "    or number % 14 != 0\n",
    "    or number % 15 != 0\n",
    "    or number % 16 != 0\n",
    "    or number % 17 != 0\n",
    "    or number % 18 != 0\n",
    "    or number % 19 != 0\n",
    "    or number % 20 != 0):\n",
    "    number +=1\n",
    "\n",
    "print(number)"
   ]
  },
  {
   "cell_type": "markdown",
   "metadata": {},
   "source": [
    "### #6 Find the difference between the sum of squares of first 100 natural numbers and square of the sum of these numbers"
   ]
  },
  {
   "cell_type": "code",
   "execution_count": 5,
   "metadata": {},
   "outputs": [
    {
     "name": "stdout",
     "output_type": "stream",
     "text": [
      "Answer: 25164150\n"
     ]
    }
   ],
   "source": [
    "import numpy as np\n",
    "\n",
    "# Sum of squared nums\n",
    "sum_squares = sum([x**2 for x in range(1,101)])\n",
    "\n",
    "# Square of sum\n",
    "square_sum = sum(range(1,101))**2\n",
    "\n",
    "print('Answer: {}'.format(np.abs(sum_squares-square_sum)))"
   ]
  },
  {
   "cell_type": "markdown",
   "metadata": {},
   "source": [
    "### #7 10001st prime number"
   ]
  },
  {
   "cell_type": "code",
   "execution_count": 35,
   "metadata": {},
   "outputs": [
    {
     "name": "stdout",
     "output_type": "stream",
     "text": [
      "104743\n"
     ]
    }
   ],
   "source": [
    "# test for prime numbers\n",
    "primes = [1,2]\n",
    "\n",
    "num = 3\n",
    "\n",
    "def is_prime(num):\n",
    "    for i in np.arange(2,np.round(np.sqrt(num))+1):\n",
    "        if num % i == 0:\n",
    "            return False\n",
    "    else:\n",
    "        return True\n",
    "    \n",
    "while len(primes) <= 10001:\n",
    "    if is_prime(num):\n",
    "        primes.append(num)\n",
    "    num += 1\n",
    "    \n",
    "print(primes[-1])"
   ]
  },
  {
   "cell_type": "markdown",
   "metadata": {},
   "source": [
    "### #8 Maximum product of 13 adjacent strings in number"
   ]
  },
  {
   "cell_type": "code",
   "execution_count": 83,
   "metadata": {},
   "outputs": [
    {
     "name": "stdout",
     "output_type": "stream",
     "text": [
      "winner: 5576689664895\n",
      "maximum product: 23514624000\n"
     ]
    }
   ],
   "source": [
    "num = '7316717653133062491922511967442657474235534919493496983520312774506326239578318016984801869478851843858615607891129494954595017379583319528532088055111254069874715852386305071569329096329522744304355766896648950445244523161731856403098711121722383113622298934233803081353362766142828064444866452387493035890729629049156044077239071381051585930796086670172427121883998797908792274921901699720888093776657273330010533678812202354218097512545405947522435258490771167055601360483958644670632441572215539753697817977846174064955149290862569321978468622482839722413756570560574902614079729686524145351004748216637048440319989000889524345065854122758866688116427171479924442928230863465674813919123162824586178664583591245665294765456828489128831426076900422421902267105562632111110937054421750694165896040807198403850962455444362981230987879927244284909188845801561660979191338754992005240636899125607176060588611646710940507754100225698315520005593572972571636269561882670428252483600823257530420752963450'\n",
    "\n",
    "digit_list = [int(x) for x in list(num)]\n",
    "\n",
    "index = 0\n",
    "winning_index\n",
    "maximum_product = 0\n",
    "\n",
    "from functools import reduce\n",
    "import operator\n",
    "def product(lst):\n",
    "    return reduce(operator.mul, lst, 1)\n",
    "\n",
    "while index + 13 <= len(digit_list):\n",
    "    prod = product(digit_list[index:(index+13)])\n",
    "    if prod > maximum_product:\n",
    "        maximum_product = prod\n",
    "        winning_index = index\n",
    "    index += 1\n",
    "    \n",
    "winner = num[winning_index:(winning_index+13)]\n",
    "\n",
    "print('winner: {}'.format(winner))\n",
    "print('maximum product: {}'.format(maximum_product))"
   ]
  },
  {
   "cell_type": "markdown",
   "metadata": {},
   "source": [
    "### #9 Find the Pythagorean triplet for whom a + b + c = 1000"
   ]
  },
  {
   "cell_type": "code",
   "execution_count": 3,
   "metadata": {},
   "outputs": [
    {
     "name": "stdout",
     "output_type": "stream",
     "text": [
      "200 375 425\n",
      "31875000\n"
     ]
    }
   ],
   "source": [
    "for a in range(1, 1000):\n",
    "    for b in range(1, 1000):\n",
    "        if (a**2 + b**2 == (1000 - a - b)**2) and (a<b):\n",
    "            print(a, b, 1000-a-b)\n",
    "            print(a*b*(1000-a-b))"
   ]
  },
  {
   "cell_type": "markdown",
   "metadata": {},
   "source": [
    "### #10 Find the sum of all primes below two million"
   ]
  },
  {
   "cell_type": "code",
   "execution_count": 16,
   "metadata": {},
   "outputs": [
    {
     "name": "stdout",
     "output_type": "stream",
     "text": [
      "142913828922\n"
     ]
    }
   ],
   "source": [
    "prime_sum = 0\n",
    "\n",
    "# Define prime numbers\n",
    "def is_prime(num):\n",
    "    for i in np.arange(2,np.round(np.sqrt(num))+1):\n",
    "        if num % i == 0:\n",
    "            return False\n",
    "    else:\n",
    "        return True\n",
    "\n",
    "for num in range(2,2000000):\n",
    "    if is_prime(num):\n",
    "        prime_sum += num\n",
    "        \n",
    "print(prime_sum)"
   ]
  }
 ],
 "metadata": {
  "kernelspec": {
   "display_name": "Python 3",
   "language": "python",
   "name": "python3"
  },
  "language_info": {
   "codemirror_mode": {
    "name": "ipython",
    "version": 3
   },
   "file_extension": ".py",
   "mimetype": "text/x-python",
   "name": "python",
   "nbconvert_exporter": "python",
   "pygments_lexer": "ipython3",
   "version": "3.6.4"
  }
 },
 "nbformat": 4,
 "nbformat_minor": 2
}
