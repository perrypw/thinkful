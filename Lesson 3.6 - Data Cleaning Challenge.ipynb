{
 "cells": [
  {
   "cell_type": "code",
   "execution_count": 1,
   "metadata": {
    "collapsed": true
   },
   "outputs": [],
   "source": [
    "import numpy as np\n",
    "import pandas as pd\n",
    "import matplotlib.pyplot as plt\n",
    "import seaborn as sns\n",
    "%matplotlib inline\n",
    "\n",
    "apc = pd.read_csv('APC.csv',encoding='\"ISO-8859-1\"')\n",
    "\n",
    "#renaming columns\n",
    "apc.columns = ['PMID/PMCID', 'Publisher','Journal','Article','Cost']\n",
    "#making text columns lowercase for consistency and stripping excess space on the ends\n",
    "apc['Publisher'] = apc['Publisher'].str.strip()\n",
    "apc['Publisher'] = apc['Publisher'].str.lower()\n",
    "apc['Journal'] = apc['Journal'].str.strip()\n",
    "apc['Journal'] = apc['Journal'].str.lower()\n",
    "apc['Article'] = apc['Article'].str.strip()\n",
    "apc['Article'] = apc['Article'].str.lower()"
   ]
  },
  {
   "cell_type": "code",
   "execution_count": 2,
   "metadata": {},
   "outputs": [
    {
     "data": {
      "text/html": [
       "<div>\n",
       "<style>\n",
       "    .dataframe thead tr:only-child th {\n",
       "        text-align: right;\n",
       "    }\n",
       "\n",
       "    .dataframe thead th {\n",
       "        text-align: left;\n",
       "    }\n",
       "\n",
       "    .dataframe tbody tr th {\n",
       "        vertical-align: top;\n",
       "    }\n",
       "</style>\n",
       "<table border=\"1\" class=\"dataframe\">\n",
       "  <thead>\n",
       "    <tr style=\"text-align: right;\">\n",
       "      <th></th>\n",
       "      <th>PMID/PMCID</th>\n",
       "      <th>Publisher</th>\n",
       "      <th>Journal</th>\n",
       "      <th>Article</th>\n",
       "      <th>Cost</th>\n",
       "    </tr>\n",
       "  </thead>\n",
       "  <tbody>\n",
       "    <tr>\n",
       "      <th>0</th>\n",
       "      <td>NaN</td>\n",
       "      <td>cup</td>\n",
       "      <td>psychological medicine</td>\n",
       "      <td>reduced parahippocampal cortical thickness in ...</td>\n",
       "      <td>£0.00</td>\n",
       "    </tr>\n",
       "    <tr>\n",
       "      <th>1</th>\n",
       "      <td>PMC3679557</td>\n",
       "      <td>acs</td>\n",
       "      <td>biomacromolecules</td>\n",
       "      <td>structural characterization of a model gram-ne...</td>\n",
       "      <td>£2381.04</td>\n",
       "    </tr>\n",
       "    <tr>\n",
       "      <th>2</th>\n",
       "      <td>23043264  PMC3506128</td>\n",
       "      <td>acs</td>\n",
       "      <td>j med chem</td>\n",
       "      <td>fumaroylamino-4,5-epoxymorphinans and related ...</td>\n",
       "      <td>£642.56</td>\n",
       "    </tr>\n",
       "    <tr>\n",
       "      <th>3</th>\n",
       "      <td>23438330 PMC3646402</td>\n",
       "      <td>acs</td>\n",
       "      <td>j med chem</td>\n",
       "      <td>orvinols with mixed kappa/mu opioid receptor a...</td>\n",
       "      <td>£669.64</td>\n",
       "    </tr>\n",
       "    <tr>\n",
       "      <th>4</th>\n",
       "      <td>23438216 PMC3601604</td>\n",
       "      <td>acs</td>\n",
       "      <td>j org chem</td>\n",
       "      <td>regioselective opening of myo-inositol orthoes...</td>\n",
       "      <td>£685.88</td>\n",
       "    </tr>\n",
       "  </tbody>\n",
       "</table>\n",
       "</div>"
      ],
      "text/plain": [
       "              PMID/PMCID Publisher                 Journal  \\\n",
       "0                    NaN       cup  psychological medicine   \n",
       "1             PMC3679557       acs       biomacromolecules   \n",
       "2  23043264  PMC3506128        acs              j med chem   \n",
       "3    23438330 PMC3646402       acs              j med chem   \n",
       "4   23438216 PMC3601604        acs              j org chem   \n",
       "\n",
       "                                             Article      Cost  \n",
       "0  reduced parahippocampal cortical thickness in ...     £0.00  \n",
       "1  structural characterization of a model gram-ne...  £2381.04  \n",
       "2  fumaroylamino-4,5-epoxymorphinans and related ...   £642.56  \n",
       "3  orvinols with mixed kappa/mu opioid receptor a...   £669.64  \n",
       "4  regioselective opening of myo-inositol orthoes...   £685.88  "
      ]
     },
     "execution_count": 2,
     "metadata": {},
     "output_type": "execute_result"
    }
   ],
   "source": [
    "apc.head()"
   ]
  },
  {
   "cell_type": "code",
   "execution_count": 3,
   "metadata": {},
   "outputs": [
    {
     "data": {
      "text/plain": [
       "PMID/PMCID    1928\n",
       "Publisher     2127\n",
       "Journal       2126\n",
       "Article       2127\n",
       "Cost          2127\n",
       "dtype: int64"
      ]
     },
     "execution_count": 3,
     "metadata": {},
     "output_type": "execute_result"
    }
   ],
   "source": [
    "apc.count()"
   ]
  },
  {
   "cell_type": "markdown",
   "metadata": {},
   "source": [
    "### Journal Name Cleanup"
   ]
  },
  {
   "cell_type": "code",
   "execution_count": 4,
   "metadata": {},
   "outputs": [
    {
     "name": "stdout",
     "output_type": "stream",
     "text": [
      "PMID/PMCID    1928\n",
      "Publisher     2126\n",
      "Journal       2126\n",
      "Article       2126\n",
      "Cost          2126\n",
      "dtype: int64\n"
     ]
    }
   ],
   "source": [
    "# get rid of the null values\n",
    "\n",
    "apc = apc[apc['Journal'].notnull()]\n",
    "\n",
    "# get rid of stray special characters by applying function which gets rid of non-alphanumeric characters except spaces\n",
    "\n",
    "def limit_char_types(x):\n",
    "    string = ''\n",
    "    for char in list(x):\n",
    "        if char.isspace() or char.isalpha() or char.isnumeric():    \n",
    "            string += char\n",
    "    return string\n",
    "\n",
    "#first need to change & to 'and' so that these aren't lost\n",
    "apc['Journal'] = apc['Journal'].str.replace('&',' and ')\n",
    "\n",
    "apc['Journal'] = apc['Journal'].apply(limit_char_types)\n",
    "\n",
    "#remove double spaces\n",
    "apc['Journal'] = apc['Journal'].str.replace('  ','')\n",
    "\n",
    "#get rid of 'the' if it's the first word\n",
    "\n",
    "def no_beginning_the(x):\n",
    "    if str(x)[:3] == 'the':\n",
    "        return str(x)[4:]\n",
    "    else:\n",
    "        return x\n",
    "    \n",
    "apc['Journal'] = apc['Journal'].apply(no_beginning_the)\n",
    "    \n",
    "print(apc.count())"
   ]
  },
  {
   "cell_type": "code",
   "execution_count": 5,
   "metadata": {},
   "outputs": [
    {
     "data": {
      "text/plain": [
       "plos one                                                 190\n",
       "journal of biological chemistry                           60\n",
       "neuroimage                                                29\n",
       "nucleic acids research                                    26\n",
       "plos pathogens                                            24\n",
       "plos genetics                                             24\n",
       "proceedings of the national academy of sciences           22\n",
       "plos neglected tropical diseases                          20\n",
       "nature communications                                     19\n",
       "human molecular genetics                                  19\n",
       "movement disorders                                        15\n",
       "journal of neuroscience                                   15\n",
       "brain                                                     14\n",
       "bmc public health                                         14\n",
       "biochemical journal                                       14\n",
       "developmental cell                                        12\n",
       "journal of general virology                               11\n",
       "current biology                                           11\n",
       "faseb journal                                             11\n",
       "plosone                                                   10\n",
       "malaria journal                                           10\n",
       "bmj                                                       10\n",
       "journal of physiology                                      9\n",
       "journal of virology                                        9\n",
       "neuron                                                     9\n",
       "american journal of human genetics                         9\n",
       "development                                                9\n",
       "plos computational biology                                 9\n",
       "embo journal                                               9\n",
       "bmj open                                                   9\n",
       "                                                        ... \n",
       "english studies                                            1\n",
       "biomedical microdevices                                    1\n",
       "journal of psychopharmacology                              1\n",
       "clinical neurology and neurosurgery                        1\n",
       "dermatologic surgery                                       1\n",
       "inflammation research                                      1\n",
       "bmc medical imaging                                        1\n",
       "j mol biol                                                 1\n",
       "acta physiol                                               1\n",
       "neuromuscular disorders                                    1\n",
       "frontiers in developmental psychology                      1\n",
       "plos ntd                                                   1\n",
       "anal bioanal chem                                          1\n",
       "trends in molecular medicine                               1\n",
       "biologicial chemistry                                      1\n",
       "public library of science                                  1\n",
       "asn neuro                                                  1\n",
       "journal of virol                                           1\n",
       "international journal of tuberculosisand lung disease      1\n",
       "virus research                                             1\n",
       "neuropathology and applied neurobiology                    1\n",
       "clinical and experimental allergy                          1\n",
       "trends in cognitive science                                1\n",
       "journal of applied crystallography                         1\n",
       "seminars in oncology                                       1\n",
       "nitric oxide                                               1\n",
       "bmc veterinary research                                    1\n",
       "journal of acquired immune deficiency syndroms jaids       1\n",
       "journal of evolutionary biology                            1\n",
       "annals of science                                          1\n",
       "Name: Journal, Length: 870, dtype: int64"
      ]
     },
     "execution_count": 5,
     "metadata": {},
     "output_type": "execute_result"
    }
   ],
   "source": [
    "# let's check on the counts\n",
    "\n",
    "apc['Journal'].value_counts()"
   ]
  },
  {
   "cell_type": "markdown",
   "metadata": {},
   "source": [
    "I'm going to export these journal names and counts to a csv, knowing that the aggregation keeps the number of rows small enough to handle locally, so i can pore through the rows for individual errors to correct."
   ]
  },
  {
   "cell_type": "code",
   "execution_count": 6,
   "metadata": {},
   "outputs": [],
   "source": [
    "apc.to_csv('checker.csv')"
   ]
  },
  {
   "cell_type": "markdown",
   "metadata": {},
   "source": [
    "I notice some general misspellings or abbreviations to clear up, so let's do that first."
   ]
  },
  {
   "cell_type": "code",
   "execution_count": 7,
   "metadata": {},
   "outputs": [],
   "source": [
    "#journal\n",
    "apc['Journal'] = apc['Journal'].str.replace('jounal','journal')\n",
    "apc['Journal'] = apc['Journal'].str.replace('jnl','journal')\n",
    "apc['Journal'] = apc['Journal'].str.replace('joural','journal')\n",
    "apc['Journal'] = apc['Journal'].str.replace('j ','journal ')\n",
    "apc['Journal'] = apc['Journal'].str.replace('jounral','journal')\n",
    "\n",
    "apc['Journal'] = apc['Journal'].str.replace('reports1100861b','reports')\n",
    "apc['Journal'] = apc['Journal'].str.replace('brt','british')\n",
    "apc['Journal'] = apc['Journal'].str.replace('britsh','british')\n",
    "apc['Journal'] = apc['Journal'].str.replace(' am ','american')\n",
    "apc['Journal'] = apc['Journal'].str.replace('americal','american')\n",
    "apc['Journal'] = apc['Journal'].str.replace('americanerican','american')\n",
    "apc['Journal'] = apc['Journal'].str.replace('bioethicsneuroscience','bioethics neuroscience')\n",
    "apc['Journal'] = apc['Journal'].str.replace('trop ','tropical')\n",
    "apc['Journal'] = apc['Journal'].str.replace('antimicobial','antimicrobial')\n",
    "apc['Journal'] = apc['Journal'].str.replace('agfents','agents')\n",
    "apc['Journal'] = apc['Journal'].str.replace('opthalmology','ophthalmology')\n",
    "apc['Journal'] = apc['Journal'].str.replace('clinicla','clinical')\n",
    "apc['Journal'] = apc['Journal'].str.replace('epigentics','epigenetics')\n",
    "apc['Journal'] = apc['Journal'].str.replace('psychiatty','psychiatry')\n",
    "apc['Journal'] = apc['Journal'].str.replace('epidemology','epidemiology')\n",
    "apc['Journal'] = apc['Journal'].str.replace('int','international')\n",
    "apc['Journal'] = apc['Journal'].str.replace('behaviour','behavior')\n",
    "apc['Journal'] = apc['Journal'].str.replace('inyernational','international')\n",
    "apc['Journal'] = apc['Journal'].str.replace('experiements','experiments')\n",
    "apc['Journal'] = apc['Journal'].str.replace('visulaized','visualized')\n",
    "\n",
    "#apc['Journal'] = apc['Journal'].str.replace(,)"
   ]
  },
  {
   "cell_type": "markdown",
   "metadata": {
    "collapsed": true
   },
   "source": [
    "Next, I'll be going through alphabetically and sorting journals that appear to be one and the same."
   ]
  },
  {
   "cell_type": "code",
   "execution_count": 8,
   "metadata": {
    "collapsed": true
   },
   "outputs": [],
   "source": [
    "apc['Journal'] = apc['Journal'].apply(lambda x: 'acta neuropathologica' if 'acta neuropathol' == x else x)\n",
    "apc['Journal'] = apc['Journal'].apply(lambda x: 'acta crystallographica section d biological crystallography' if 'acta crystallographica section d' == x else x)\n",
    "apc['Journal'] = apc['Journal'].apply(lambda x: 'acta crystallographica section d biological crystallography' if 'acta crystallography d' == x else x)\n",
    "apc['Journal'] = apc['Journal'].apply(lambda x: 'acta crystallographica section f structural biology and crystallization communications' if 'acta f' == x else x)\n",
    "apc['Journal'] = apc['Journal'].apply(lambda x: 'acta neuropathologica' if 'acta neuropathol' == x else x)\n",
    "apc['Journal'] = apc['Journal'].apply(lambda x: 'aids' if 'aids uk' == x else x)\n",
    "apc['Journal'] = apc['Journal'].apply(lambda x: 'angewandte chemie international edition' if 'angew chems int ed' == x else x)\n",
    "apc['Journal'] = apc['Journal'].apply(lambda x: 'angewandte chemie' if 'angewande chemie' == x else x)\n",
    "apc['Journal'] = apc['Journal'].apply(lambda x: 'antioxidants and redox signaling' if 'antioxidantsandredox signaling' == x else x)\n",
    "apc['Journal'] = apc['Journal'].apply(lambda x: 'arthritis research and therapy' if 'arthritis researchandtherapy' == x else x)\n",
    "apc['Journal'] = apc['Journal'].apply(lambda x: 'arthritis and rheumatism' if 'arthritisandrheumatism' == x else x)\n",
    "apc['Journal'] = apc['Journal'].apply(lambda x: 'biochemical journal' if 'biochemical journals' == x else x)\n",
    "apc['Journal'] = apc['Journal'].apply(lambda x: 'biochimica et biophysica actamolecular basis of disease' if 'biochimica et bioohysica actamolecular basis of disease' == x else x)\n",
    "apc['Journal'] = apc['Journal'].apply(lambda x: 'bioinformatics' if 'bioinformatics online' == x else x)\n",
    "apc['Journal'] = apc['Journal'].apply(lambda x: 'biology open' if 'biol open' == x else x)\n",
    "apc['Journal'] = apc['Journal'].apply(lambda x: 'bmc public health' if 'bmcpublic health' == x else x)\n",
    "apc['Journal'] = apc['Journal'].apply(lambda x: 'brain' if 'brain online' == x else x)\n",
    "apc['Journal'] = apc['Journal'].apply(lambda x: 'british journal of clinical pharmacology' if 'british journal clinical pharmacology' == x else x)\n",
    "apc['Journal'] = apc['Journal'].apply(lambda x: 'cell death and disease' if 'cell deathanddisease' == x else x)\n",
    "apc['Journal'] = apc['Journal'].apply(lambda x: 'cell host and microbe' if 'cell hostandmicrobe' == x else x)\n",
    "apc['Journal'] = apc['Journal'].apply(lambda x: 'cell reports' if 'cell presscell reports' == x else x)\n",
    "apc['Journal'] = apc['Journal'].apply(lambda x: 'cellular and molecular life sciences' if 'cellular and molecular cell sciences' == x else x)\n",
    "apc['Journal'] = apc['Journal'].apply(lambda x: 'cerebral cortex' if 'cerebral cortex online' == x else x)\n",
    "apc['Journal'] = apc['Journal'].apply(lambda x: 'cerebral cortex' if 'cerebral cortex print' == x else x)\n",
    "apc['Journal'] = apc['Journal'].apply(lambda x: 'child care health development' if 'child care heathanddevelopment' == x else x)\n",
    "apc['Journal'] = apc['Journal'].apply(lambda x: 'clinical infectious diseases' if 'clinical infectious diseases online' == x else x)\n",
    "apc['Journal'] = apc['Journal'].apply(lambda x: 'consciousness and cognition' if 'consciousnessandcognition' == x else x)\n",
    "apc['Journal'] = apc['Journal'].apply(lambda x: 'current biology' if 'curr biol' == x else x)\n",
    "apc['Journal'] = apc['Journal'].apply(lambda x: 'current opinion microbiology' if 'current opinions in neurobiology' == x else x)\n",
    "apc['Journal'] = apc['Journal'].apply(lambda x: 'developing world bioethics' if 'dev world bioeth' == x else x)\n",
    "apc['Journal'] = apc['Journal'].apply(lambda x: 'embo journal' if 'embo' == x else x)\n",
    "apc['Journal'] = apc['Journal'].apply(lambda x: 'european journal of immunology' if 'eur journal immunol' == x else x)\n",
    "apc['Journal'] = apc['Journal'].apply(lambda x: 'human brain mapping' if 'hbm journal human brain mapping' == x else x)\n",
    "apc['Journal'] = apc['Journal'].apply(lambda x: 'human molecular genetics' if 'human molecular genetics online' == x else x)\n",
    "apc['Journal'] = apc['Journal'].apply(lambda x: 'international journal for parasitology' if 'int journal for parasitology' == x else x)\n",
    "apc['Journal'] = apc['Journal'].apply(lambda x: 'ijtld' if 'international journal of tuberculosisand lung disease' == x else x)\n",
    "apc['Journal'] = apc['Journal'].apply(lambda x: 'international journal of epidemiology' if 'int journal epidemiol' == x else x)\n",
    "apc['Journal'] = apc['Journal'].apply(lambda x: 'international journal for parasitology' if 'international journal of parasitology' == x else x)\n",
    "apc['Journal'] = apc['Journal'].apply(lambda x: 'journal of biological chemistry' if 'j biol chem' == x else x)\n",
    "apc['Journal'] = apc['Journal'].apply(lambda x: 'journal of biological chemistry' if 'j biol chemistry' == x else x)\n",
    "apc['Journal'] = apc['Journal'].apply(lambda x: 'journal of biological chemistry' if 'journal of biol chem' == x else x)\n",
    "apc['Journal'] = apc['Journal'].apply(lambda x: 'journal of biological chemistry' if 'journal biological chemistry' == x else x)\n",
    "apc['Journal'] = apc['Journal'].apply(lambda x: 'journal of biological chemistry' if 'the journal of biological chemistry' == x else x)\n",
    "apc['Journal'] = apc['Journal'].apply(lambda x: 'journal of biological chemistry' if '' == x else x)\n",
    "apc['Journal'] = apc['Journal'].apply(lambda x: 'journal of epidemiology and community health' if 'journal of epidemiologyandcommunity health' == x else x)\n",
    "apc['Journal'] = apc['Journal'].apply(lambda x: 'journal of infectious diseases' if 'j infect dis' == x else x)\n",
    "apc['Journal'] = apc['Journal'].apply(lambda x: 'journal of allergy and clinical immunology' if 'journal of allergyandclinical immunology' == x else x)\n",
    "apc['Journal'] = apc['Journal'].apply(lambda x: 'journal of autism and developmental disorders' if 'journal of autism and development disorders' == x else x)\n",
    "apc['Journal'] = apc['Journal'].apply(lambda x: 'journal of clinical endocrinology and metabolism' if 'journal of clinical endocrinology' == x else x)\n",
    "apc['Journal'] = apc['Journal'].apply(lambda x: 'maternal and child nutrition' if 'marten child nutr' == x else x)\n",
    "apc['Journal'] = apc['Journal'].apply(lambda x: 'microbes and infection' if 'microbes infect' == x else x)\n",
    "apc['Journal'] = apc['Journal'].apply(lambda x: 'molecular biology' if 'mol bio' == x else x)\n",
    "apc['Journal'] = apc['Journal'].apply(lambda x: 'molecular biology and evolution' if 'mol biol and evolution' == x else x)\n",
    "apc['Journal'] = apc['Journal'].apply(lambda x: 'plos neglected tropicalical diseases' if 'plos negected tropicalical diseases' == x else x)\n",
    "apc['Journal'] = apc['Journal'].apply(lambda x: 'plos one' if 'plosone' == x else x)\n",
    "apc['Journal'] = apc['Journal'].apply(lambda x: 'plos one' if 'poned1217947' == x else x)\n",
    "apc['Journal'] = apc['Journal'].apply(lambda x: 'plos one' if 'plos 1' == x else x)\n",
    "apc['Journal'] = apc['Journal'].apply(lambda x: 'plos one' if 'public library of science one' == x else x)\n",
    "apc['Journal'] = apc['Journal'].apply(lambda x: 'plos one' if 'public library of science' == x else x)\n",
    "apc['Journal'] = apc['Journal'].apply(lambda x: 'pnas' if 'pnas usa' == x else x)\n",
    "apc['Journal'] = apc['Journal'].apply(lambda x: 'plos medicine' if 'plos medicine journal' == x else x)\n",
    "apc['Journal'] = apc['Journal'].apply(lambda x: 'proceedings of the national academy of sciences' if 'proceddings of the national academy of sciences of usa' == x else x)\n",
    "apc['Journal'] = apc['Journal'].apply(lambda x: 'social psychiatry and psychiatric epidemiology' if 'social psychiatryandpsychiatric epidemiology' == x else x)\n",
    "apc['Journal'] = apc['Journal'].apply(lambda x: 'social psychiatry and psychiatric epidemiology' if 'social psychiatry and psychiatric epidemiol' == x else x)\n",
    "apc['Journal'] = apc['Journal'].apply(lambda x: 'social science and medicine' if 'social scienceandmedicine' == x else x)\n",
    "apc['Journal'] = apc['Journal'].apply(lambda x: 'trends in neuroscience' if 'trends in neurosciences' == x else x)\n",
    "apc['Journal'] = apc['Journal'].apply(lambda x: 'tropicalical medicine and international health' if 'tropical med int health' == x else x)\n",
    "apc['Journal'] = apc['Journal'].apply(lambda x: 'proceedings of the national academy of sciences' if 'pnas' == x else x)\n",
    "apc['Journal'] = apc['Journal'].apply(lambda x: 'proceedings of the national academy of sciences' if 'proceedings of the national academy of sciences of the united states of america' == x else x)\n",
    "apc['Journal'] = apc['Journal'].apply(lambda x: 'proceedings of the national academy of sciences' if 'pnas proceedings of the national academy of sciences of the united states of america' == x else x)\n",
    "apc['Journal'] = apc['Journal'].apply(lambda x: 'proceedings of the national academy of sciences' if 'proceedings of the national academy of sciences pnas' == x else x)\n",
    "apc['Journal'] = apc['Journal'].apply(lambda x: 'proceedings of the national academy of sciences' if 'proceedings of the national academy of sciences of the usa' == x else x)\n",
    "apc['Journal'] = apc['Journal'].apply(lambda x: 'nucleic acids research' if 'nucleic acid research' == x else x)\n",
    "apc['Journal'] = apc['Journal'].apply(lambda x: 'neuroimage' if 'neuroimage clinical' == x else x)"
   ]
  },
  {
   "cell_type": "markdown",
   "metadata": {
    "collapsed": true
   },
   "source": [
    "### Now that we've cleaned up the data reasonably well, let's do the analysis"
   ]
  },
  {
   "cell_type": "code",
   "execution_count": 13,
   "metadata": {},
   "outputs": [
    {
     "data": {
      "text/plain": [
       "plos one                                           210\n",
       "journal of biological chemistry                     65\n",
       "proceedings of the national academy of sciences     36\n",
       "neuroimage                                          34\n",
       "nucleic acids research                              29\n",
       "Name: Journal, dtype: int64"
      ]
     },
     "execution_count": 13,
     "metadata": {},
     "output_type": "execute_result"
    }
   ],
   "source": [
    "apc['Journal'].value_counts().head(5)"
   ]
  },
  {
   "cell_type": "markdown",
   "metadata": {},
   "source": [
    "The top journals are plos one, journal of biological chemistry, proceedings of national academy of sciences, neuroimage, and nucleic acids research."
   ]
  },
  {
   "cell_type": "code",
   "execution_count": 32,
   "metadata": {},
   "outputs": [],
   "source": [
    "top5_list = ['plos one','journal of biological chemistry','proceedings of the national academy of sciences','neuroimage','nucleic acids research']\n",
    "\n",
    "top5 = apc.copy().loc[apc['Journal'].isin(top5_list)]"
   ]
  },
  {
   "cell_type": "code",
   "execution_count": 35,
   "metadata": {
    "scrolled": true
   },
   "outputs": [
    {
     "data": {
      "text/html": [
       "<div>\n",
       "<style>\n",
       "    .dataframe thead tr:only-child th {\n",
       "        text-align: right;\n",
       "    }\n",
       "\n",
       "    .dataframe thead th {\n",
       "        text-align: left;\n",
       "    }\n",
       "\n",
       "    .dataframe tbody tr th {\n",
       "        vertical-align: top;\n",
       "    }\n",
       "</style>\n",
       "<table border=\"1\" class=\"dataframe\">\n",
       "  <thead>\n",
       "    <tr style=\"text-align: right;\">\n",
       "      <th></th>\n",
       "      <th>Cost</th>\n",
       "    </tr>\n",
       "    <tr>\n",
       "      <th>Journal</th>\n",
       "      <th></th>\n",
       "    </tr>\n",
       "  </thead>\n",
       "  <tbody>\n",
       "    <tr>\n",
       "      <th>journal of biological chemistry</th>\n",
       "      <td>32106.840154</td>\n",
       "    </tr>\n",
       "    <tr>\n",
       "      <th>neuroimage</th>\n",
       "      <td>2050.756176</td>\n",
       "    </tr>\n",
       "    <tr>\n",
       "      <th>nucleic acids research</th>\n",
       "      <td>1162.344828</td>\n",
       "    </tr>\n",
       "    <tr>\n",
       "      <th>plos one</th>\n",
       "      <td>44665.867190</td>\n",
       "    </tr>\n",
       "    <tr>\n",
       "      <th>proceedings of the national academy of sciences</th>\n",
       "      <td>28530.342222</td>\n",
       "    </tr>\n",
       "  </tbody>\n",
       "</table>\n",
       "</div>"
      ],
      "text/plain": [
       "                                                         Cost\n",
       "Journal                                                      \n",
       "journal of biological chemistry                  32106.840154\n",
       "neuroimage                                        2050.756176\n",
       "nucleic acids research                            1162.344828\n",
       "plos one                                         44665.867190\n",
       "proceedings of the national academy of sciences  28530.342222"
      ]
     },
     "execution_count": 35,
     "metadata": {},
     "output_type": "execute_result"
    }
   ],
   "source": [
    "# setting correct data types\n",
    "\n",
    "top5['Cost'] = top5.copy()['Cost'].str.replace('£','')\n",
    "top5['Cost'] = pd.to_numeric(top5['Cost'])\n",
    "\n",
    "# calculate the mean per journal\n",
    "\n",
    "top5.groupby('Journal').mean()"
   ]
  },
  {
   "cell_type": "code",
   "execution_count": 36,
   "metadata": {},
   "outputs": [
    {
     "data": {
      "text/html": [
       "<div>\n",
       "<style>\n",
       "    .dataframe thead tr:only-child th {\n",
       "        text-align: right;\n",
       "    }\n",
       "\n",
       "    .dataframe thead th {\n",
       "        text-align: left;\n",
       "    }\n",
       "\n",
       "    .dataframe tbody tr th {\n",
       "        vertical-align: top;\n",
       "    }\n",
       "</style>\n",
       "<table border=\"1\" class=\"dataframe\">\n",
       "  <thead>\n",
       "    <tr style=\"text-align: right;\">\n",
       "      <th></th>\n",
       "      <th>Cost</th>\n",
       "    </tr>\n",
       "    <tr>\n",
       "      <th>Journal</th>\n",
       "      <th></th>\n",
       "    </tr>\n",
       "  </thead>\n",
       "  <tbody>\n",
       "    <tr>\n",
       "      <th>journal of biological chemistry</th>\n",
       "      <td>1311.730</td>\n",
       "    </tr>\n",
       "    <tr>\n",
       "      <th>neuroimage</th>\n",
       "      <td>2289.245</td>\n",
       "    </tr>\n",
       "    <tr>\n",
       "      <th>nucleic acids research</th>\n",
       "      <td>852.000</td>\n",
       "    </tr>\n",
       "    <tr>\n",
       "      <th>plos one</th>\n",
       "      <td>900.820</td>\n",
       "    </tr>\n",
       "    <tr>\n",
       "      <th>proceedings of the national academy of sciences</th>\n",
       "      <td>733.125</td>\n",
       "    </tr>\n",
       "  </tbody>\n",
       "</table>\n",
       "</div>"
      ],
      "text/plain": [
       "                                                     Cost\n",
       "Journal                                                  \n",
       "journal of biological chemistry                  1311.730\n",
       "neuroimage                                       2289.245\n",
       "nucleic acids research                            852.000\n",
       "plos one                                          900.820\n",
       "proceedings of the national academy of sciences   733.125"
      ]
     },
     "execution_count": 36,
     "metadata": {},
     "output_type": "execute_result"
    }
   ],
   "source": [
    "# median cost\n",
    "\n",
    "top5.groupby('Journal').median()"
   ]
  },
  {
   "cell_type": "code",
   "execution_count": 40,
   "metadata": {},
   "outputs": [
    {
     "data": {
      "text/html": [
       "<div>\n",
       "<style>\n",
       "    .dataframe thead tr:only-child th {\n",
       "        text-align: right;\n",
       "    }\n",
       "\n",
       "    .dataframe thead th {\n",
       "        text-align: left;\n",
       "    }\n",
       "\n",
       "    .dataframe tbody tr th {\n",
       "        vertical-align: top;\n",
       "    }\n",
       "</style>\n",
       "<table border=\"1\" class=\"dataframe\">\n",
       "  <thead>\n",
       "    <tr style=\"text-align: right;\">\n",
       "      <th></th>\n",
       "      <th>Cost</th>\n",
       "    </tr>\n",
       "    <tr>\n",
       "      <th>Journal</th>\n",
       "      <th></th>\n",
       "    </tr>\n",
       "  </thead>\n",
       "  <tbody>\n",
       "    <tr>\n",
       "      <th>journal of biological chemistry</th>\n",
       "      <td>173795.906174</td>\n",
       "    </tr>\n",
       "    <tr>\n",
       "      <th>neuroimage</th>\n",
       "      <td>472.211498</td>\n",
       "    </tr>\n",
       "    <tr>\n",
       "      <th>nucleic acids research</th>\n",
       "      <td>442.150934</td>\n",
       "    </tr>\n",
       "    <tr>\n",
       "      <th>plos one</th>\n",
       "      <td>203066.426559</td>\n",
       "    </tr>\n",
       "    <tr>\n",
       "      <th>proceedings of the national academy of sciences</th>\n",
       "      <td>166537.895486</td>\n",
       "    </tr>\n",
       "  </tbody>\n",
       "</table>\n",
       "</div>"
      ],
      "text/plain": [
       "                                                          Cost\n",
       "Journal                                                       \n",
       "journal of biological chemistry                  173795.906174\n",
       "neuroimage                                          472.211498\n",
       "nucleic acids research                              442.150934\n",
       "plos one                                         203066.426559\n",
       "proceedings of the national academy of sciences  166537.895486"
      ]
     },
     "execution_count": 40,
     "metadata": {},
     "output_type": "execute_result"
    }
   ],
   "source": [
    "# std of cost...note that this is the pandas\n",
    "\n",
    "top5.groupby('Journal').std(ddof=1)"
   ]
  }
 ],
 "metadata": {
  "kernelspec": {
   "display_name": "Python 3",
   "language": "python",
   "name": "python3"
  },
  "language_info": {
   "codemirror_mode": {
    "name": "ipython",
    "version": 3
   },
   "file_extension": ".py",
   "mimetype": "text/x-python",
   "name": "python",
   "nbconvert_exporter": "python",
   "pygments_lexer": "ipython3",
   "version": "3.6.3"
  }
 },
 "nbformat": 4,
 "nbformat_minor": 2
}
