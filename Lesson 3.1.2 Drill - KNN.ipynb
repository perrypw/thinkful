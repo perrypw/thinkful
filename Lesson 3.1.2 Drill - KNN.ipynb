{
 "cells": [
  {
   "cell_type": "markdown",
   "metadata": {},
   "source": [
    "## DRILL:\n",
    "\n",
    "Let's say we work at a credit card company and we're trying to figure out if people are going to pay their bills on time. We have everyone's purchases, split into four main categories: groceries, dining out, utilities, and entertainment. What are some ways you might use KNN to create this model? What aspects of KNN would be useful? Write up your thoughts in submit a link below."
   ]
  },
  {
   "cell_type": "markdown",
   "metadata": {},
   "source": [
    "A KNN would be useful in identifying similar credit card holders according to these four variables and their variations. Whether or not someone pays their bills is something that depends highly on numerous factors and their contexts. For example, there are people that don't pay their bills because they spend freely and don't care, and those who don't pay their bills because they are having trouble making ends meet and use their credit card as a short-term debt vehicle. It makes sense to use this type of model to try to guess based on a variety of these factors, that don't necessarily have one \"coefficient\" relationship with the outcome variable.\n",
    "\n",
    "The first thing you might want to do is consider what form in which these metrics are included.\n",
    "- Do one or a few of these have a much stronger relationship with the outcome variable? Maybe all of the variables are worth including on this basis, or maybe only some. There are likely interactions between them that relate to the outcome variable as well (say, the split between entertainment and utilities spending).\n",
    "- Do we need to normalize the data? You would need to examine the variables more closely to decide whether this the right thing to do, but these are considerations:\n",
    "    - Normalizing the data gets rid of pure spend. High spenders could be richer people that have an easier time paying their bills, or conversely they could be people that are up to their necks in debt due to irresponsible spending. You'd need to examine the size of this effect, and if it is large enough it may not be safe to exclude.\n",
    "    - Normalization, on the other hand, could help highlight effects resulting from the share in spend allocated to different areas (are people who spend more on entertainment less likely to pay their bill since they spend frivolously, or is it people who spend more on utilities who are likelier to be behind on their bills)?\n",
    "    - You may want to recompose these into different features entirely. I could imagine four variables for share of spend by category, and another for total spend. This might resolve some of the issues mentioned above about wanting to capture both total spend and composition.\n",
    "    \n",
    "The next thing you should do is to figure out the weighting of the distances.\n",
    "- The prior work to investigate which measures seem to be having an impact should help inform this, but chances are certain variables are much more significant than others in deciding whether someone pays, and these should potentially be weighted accordingly.\n",
    "- In another form of weighting, you also need to decide whether how close a neighbor ends up being decides the effect of its \"vote.\" Since you have a lot of datapoints, you probably don't want to do this since you may just be picking up noise, but it's worth considering.\n",
    "\n",
    "Figure out the optimal number of Ks.\n",
    "- This should be done through some experimentation to find a number of Ks that gives a well defined decision space and is acceptably computationally performant.\n",
    "- Use cross validation to confirm that the results are consistent.\n",
    "    - You  want a number of k that gets you the best estimation of outcomes by trading off between being too simplistic (just picking one or a few neighbors, which could mislead), or being too involved (picking up lots of randomness and thus overfitting).\n",
    "\n",
    "Lastly, you'll hopefully have the chance to test this on some new data and iterate from there."
   ]
  }
 ],
 "metadata": {
  "kernelspec": {
   "display_name": "Python 3",
   "language": "python",
   "name": "python3"
  },
  "language_info": {
   "codemirror_mode": {
    "name": "ipython",
    "version": 3
   },
   "file_extension": ".py",
   "mimetype": "text/x-python",
   "name": "python",
   "nbconvert_exporter": "python",
   "pygments_lexer": "ipython3",
   "version": "3.6.3"
  }
 },
 "nbformat": 4,
 "nbformat_minor": 2
}
