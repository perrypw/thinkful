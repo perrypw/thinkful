{
 "cells": [
  {
   "cell_type": "markdown",
   "metadata": {},
   "source": [
    "### What is unsupervised learning?\n",
    "In a nutshell, it is machine learning to draw inferences/learn/find patterns in data for which there is no \"output\" variable, or in other words one that consists of input data without labeled responses.\n",
    "\n",
    "### Types of unsupervised learning\n",
    "- __Clustering__\n",
    "    - Probably the conceptually simplest unsupervised learning method, this is used to group observations based on their variables into \"clusters,\" because the algorithm thinks that they are related.\n",
    "- __Variable Importance__\n",
    "    - We've technically already worked with this, but PCA and other types of variable importance measures are unsupervised techniques for what variables are likely most influential in your dataset.\n",
    "- __Neural Networks__\n",
    "    - Can function as either a supervised or unsupervised learning technique.\n",
    "    - Unsupervised neural networks have become an important technique for things like image recognition, where it can uncover *latent variables* that are important but not explicitly defined in the dataset.\n",
    "There are other types of unsupervised learning, more of which can be read about [here](https://medium.com/intuitionmachine/navigating-the-unsupervised-learning-landscape-951bd5842df9) and [here](http://www.inf.ed.ac.uk/teaching/courses/pmr/docs/ul.pdf)\n",
    "\n",
    "### Evaluation\n",
    "This can be difficult since there is no outcome variable by which to judge \"accuracy\" or predictive value. Here are things you can try:\n",
    "- Look at the volatility of your model. If it is relatively stable upon being introduced to new data, that is usually good.\n",
    "- Test it based on what you were using it for. So for example if you were using clusters to build some other kind of model, see how the clusters do when they are used for just that purpose.\n",
    "- Ultimately, there is no absolute form of evaluation.\n",
    "\n",
    "### Complexity\n",
    "It is difficult to decide on a proper stopping condition or limit to complexity, again because there is no specific outcome we are training for. Imposing your own limitations can be helpful since overcomplication is a risk in these models. On the other hand, complex models can often perform very well.\n",
    "\n",
    "### Drill - Unsupervised vs. Supervised\n",
    "__Determine whether the following scenarios involve supervised or unsupervised techniques (or both)__\n",
    "1. Define the likelihood that an individual will contract a specific disease.\n",
    "    - This is a supervised learning task in that we are aiming to determine a specific outcome, which is in this case the probability of contracting a certain disease.\n",
    "2. Translate a set of images into variables for modeling\n",
    "    - Unsupervised learning - we don't know what the variables will end up being since they are not predefined, so we need to rely on unsupervised techniques to uncover them.\n",
    "3. An ecommerce company wants to identify power users\n",
    "    - This could probably be either supervised or unsupervised (or a combination). If you know what constitutes being a \"power user\" already, then you can train a supervised model to predict who is a power user based on some other behavior. If the definition is unclear, you can use unsupervised learning techniques to help identify this group and the characteristics they share, which could then be used in a supervised model if so desired.\n",
    "4. That same company wants to see shopping patterns in users\n",
    "    - This is an example of unsupervised learning. We're not sure what the patterns are at the outset and we don't have a defined outcome variable.\n",
    "5. You want to reduce the number of variables inputting into your random forest model\n",
    "    - Could be either. \n",
    "        - An example of unsupervised learning is PCA, in which we identify the best components to use, the constitution of which we're not even aware of before we begin the exercise.\n",
    "        - A supervised learning example could be performing feature reduction for the model based on chi-squared, correlation matrices, or myriad other methods that have the outcome variable in mind."
   ]
  }
 ],
 "metadata": {
  "kernelspec": {
   "display_name": "Python 3",
   "language": "python",
   "name": "python3"
  },
  "language_info": {
   "codemirror_mode": {
    "name": "ipython",
    "version": 3
   },
   "file_extension": ".py",
   "mimetype": "text/x-python",
   "name": "python",
   "nbconvert_exporter": "python",
   "pygments_lexer": "ipython3",
   "version": "3.6.3"
  }
 },
 "nbformat": 4,
 "nbformat_minor": 2
}
