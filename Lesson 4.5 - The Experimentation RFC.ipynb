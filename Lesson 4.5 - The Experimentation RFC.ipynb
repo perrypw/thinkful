{
 "cells": [
  {
   "cell_type": "markdown",
   "metadata": {},
   "source": [
    "## You're testing advertising emails for a bathing suit company and you test one version of the email in February and the other in May.\n",
    "\n",
    "### Introduction\n",
    "We are interested in maximizing bathing suit sales to improve our profits. A portion of our business comes from our online business, and some of these customers are brought in via our marketing email campaigns. If we can optimize our emails, we will bring in more customers and generate more sales.\n",
    "\n",
    "### Hypothesis\n",
    "One of the emails will generate more sales on a per-person basis.\n",
    "\n",
    "### Method of Testing\n",
    "First, we need to define the samples. We will utilize a platform that allows us to serve half of leads one email, and half of leads the other version. There are many that do this programmatically. We will use the platform to continue to randomly decide which email each lead receives, over the course of a month. It is critically important that the different emails are being sent out simultaneously, since bathing suit sales demonstrate extreme seasonality. Meanwhile, we will have been collecting the behaviors of each and the email they were served.\n",
    "\n",
    "The key metric that we wish to compare will be sales ($) per email sent. Rather than decide based on clicks or engagement on the site, we want to tie the email version as directly as possible to a meaningful business outcome, the ultimate of which is in this case the generation of more revenue. \n",
    "\n",
    "If, after the experiment has run its course, we notice a statistically significant difference in the key metric between versions, we can conclude that it generates better business results and should be used moving forward."
   ]
  }
 ],
 "metadata": {
  "kernelspec": {
   "display_name": "Python 3",
   "language": "python",
   "name": "python3"
  },
  "language_info": {
   "codemirror_mode": {
    "name": "ipython",
    "version": 3
   },
   "file_extension": ".py",
   "mimetype": "text/x-python",
   "name": "python",
   "nbconvert_exporter": "python",
   "pygments_lexer": "ipython3",
   "version": "3.6.3"
  }
 },
 "nbformat": 4,
 "nbformat_minor": 2
}
